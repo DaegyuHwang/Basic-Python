{
  "nbformat": 4,
  "nbformat_minor": 0,
  "metadata": {
    "colab": {
      "provenance": [],
      "toc_visible": true,
      "authorship_tag": "ABX9TyN4nkUUQTvkcmRUsDVWqUBe",
      "include_colab_link": true
    },
    "kernelspec": {
      "name": "python3",
      "display_name": "Python 3"
    },
    "language_info": {
      "name": "python"
    },
    "accelerator": "GPU",
    "gpuClass": "standard"
  },
  "cells": [
    {
      "cell_type": "markdown",
      "metadata": {
        "id": "view-in-github",
        "colab_type": "text"
      },
      "source": [
        "<a href=\"https://colab.research.google.com/github/DaegyuHwang/Python-Basic/blob/main/1_String_List_Tuple_Dic_Set_Bool.ipynb\" target=\"_parent\"><img src=\"https://colab.research.google.com/assets/colab-badge.svg\" alt=\"Open In Colab\"/></a>"
      ]
    },
    {
      "cell_type": "code",
      "source": [
        "\"\"\"\n",
        "===================\n",
        "String data type\n",
        "===================\n",
        "\"\"\"\n",
        "print(\"hello world\")\n",
        "print('Python is fun')\n",
        "print(\"\"\"life is short,\n",
        " you need python\"\"\") #'''개 쓰면 wn 없이도 엔터 가능\n",
        "print('''life is short, you need python''')\n",
        "print()\n"
      ],
      "metadata": {
        "id": "Q-QtVl66YCHX",
        "colab": {
          "base_uri": "https://localhost:8080/"
        },
        "outputId": "7720bc1a-3617-4917-b39e-c63e005426d0"
      },
      "execution_count": null,
      "outputs": [
        {
          "output_type": "stream",
          "name": "stdout",
          "text": [
            "hello world\n",
            "Python is fun\n",
            "life is short,\n",
            " you need python\n",
            "life is short, you need python\n",
            "\n"
          ]
        }
      ]
    },
    {
      "cell_type": "code",
      "source": [
        "# 이스케이프 문자: 역슬래쉬(\\)를 사용해 문자열 내부에 특정한 문자를 포함시킴\n",
        "# 참고: \\t (문자열 사이에 탭 간격),        \\\\ (문자\\를 그래도 표현하고 싶을때)\n",
        "# \\n (줄바꿈), w' ('출력) \\\" (\" 출력) \\\\ (\\ 출력)\n",
        "\n",
        "# 문자열 안에 작은따옴표/큰따옴표 있는 경우\n",
        "A = \"Python's favorite food is perl\"\n",
        "print(A)\n",
        "B = '\"Python is very easy.\" he says.'\n",
        "print(B)\n",
        "# 백슬러쉬 사용 \\' ('출력)\n",
        "A2 = 'Python\\'s favorite f\\tood is perl'\n",
        "print(A2)\n",
        "#  \\\" (\" 출력)\n",
        "B2 = \"\\\"Python is very easy.\\\" he says.\"\n",
        "print(B2)\n",
        "print()"
      ],
      "metadata": {
        "colab": {
          "base_uri": "https://localhost:8080/"
        },
        "id": "W6sHnoGNBt8w",
        "outputId": "f7f84dbb-89f0-4d0f-98b0-7e7d00518ec1"
      },
      "execution_count": null,
      "outputs": [
        {
          "output_type": "stream",
          "name": "stdout",
          "text": [
            "Python's favorite food is perl\n",
            "\"Python is very easy.\" he says.\n",
            "Python's favorite f\tood is perl\n",
            "\"Python is very easy.\" he says.\n",
            "\n"
          ]
        }
      ]
    },
    {
      "cell_type": "code",
      "source": [
        "# 여러 줄인 문자열: \\n (줄바꿈)\n",
        "A = \"life is too short \\n you need python\" # \\n삽입 #\\n 뒤에 문장을 붙여쓰면 앞 공백 사라짐 # ''' 3개 사용하면 그냥 엔터 치면 줄바꿈 됨# w가 아니라 \\\n",
        "print(A)\n",
        "B = '''\n",
        "life is too short\n",
        "you need python\n",
        "'''\n",
        "print(B)\n",
        "\n",
        "print('I love \\nyou')"
      ],
      "metadata": {
        "colab": {
          "base_uri": "https://localhost:8080/"
        },
        "id": "EFFum1SQCj1P",
        "outputId": "20ee569c-1b1b-4731-f1c1-8e6dcdb1a0f3"
      },
      "execution_count": null,
      "outputs": [
        {
          "output_type": "stream",
          "name": "stdout",
          "text": [
            "life is too short \n",
            " you need python\n",
            "\n",
            "life is too short\n",
            "you need python\n",
            "\n",
            "I love \n",
            "you\n"
          ]
        }
      ]
    },
    {
      "cell_type": "code",
      "source": [
        "# \\t (문자열 사이에 탭 간격), \\\\ (문자\\를 그래도 표현하고 싶을때)\n",
        "print(\"\\n줄바꿈\\n연습\")\n",
        "print(\"\\t탭키\\t연습\")\n",
        "print(\"\\\\\\\\\\\\ 역슬래쉬 세개 출력\")\n",
        "\n",
        "print(\"\\n\\t\\\"\\\\를 그대로 출력\") # \t\"\\를 그대로 출력\n",
        "print(r\"\\n\\t\\\"\\\\를 그대로 출력\") #     print(r\"\"): 이스케이프 문자를 그대로 출력해줌 #  \\n\\t\\\"\\\\를 그대로 출력\n",
        "print(\"\\n\\t\\\"\\\\를 그대로 출력\") # \t\"\\를 그대로 출력 (tab에 의한 공간생김)\n",
        "print(\"\\n\\n\\\"\\\\를 그대로  출력\") # (\\n 작용 후) \"\\를 그대로  출력\n",
        "print(\"\\n\\\"\\\\를 그대로 출력\") # \"\\를 그대로 출력\n",
        "print(\"\\t\\\"\\\\를 그대로  출력\") # \t\"\\를 그대로 출력 (tab에 의한 공간생김)"
      ],
      "metadata": {
        "colab": {
          "base_uri": "https://localhost:8080/"
        },
        "id": "jK4d9fW7CxQX",
        "outputId": "f6bae602-3e7f-4bc5-89a3-8dc944a259c9"
      },
      "execution_count": null,
      "outputs": [
        {
          "output_type": "stream",
          "name": "stdout",
          "text": [
            "\n",
            "줄바꿈\n",
            "연습\n",
            "\t탭키\t연습\n",
            "\\\\\\ 역슬래쉬 세개 출력\n",
            "\n",
            "\t\"\\를 그대로 출력\n",
            "\\n\\t\\\"\\\\를 그대로 출력\n",
            "\n",
            "\t\"\\를 그대로 출력\n",
            "\n",
            "\n",
            "\"\\를 그대로  출력\n",
            "\n",
            "\"\\를 그대로 출력\n",
            "\t\"\\를 그대로  출력\n"
          ]
        }
      ]
    },
    {
      "cell_type": "code",
      "source": [
        "# 문자열 연산 . 문자끼리 더하는건 가능/ 문자끼리 곱하는거 불가 /문자 더하기 숫자 안됨/ 문자 곱하기 숫자 가능\n",
        "a= \"python\"; b=\" is fun\";  # (나) ; 표시가 끊어주는 역할 # is fun 에서 is 앞에 띄어쓰기 안하면 pythonis fun 이렇게 됨\n",
        "print(a+b) #python is fun\n",
        "print(a*2) # pythonpython\n",
        "print(b*2) # is fun is fun\n",
        "print(\"=\"*50)\n",
        "print(\"my program\")\n",
        "print(\"=\"*50)"
      ],
      "metadata": {
        "colab": {
          "base_uri": "https://localhost:8080/"
        },
        "id": "BwFXSX0QEsMQ",
        "outputId": "00f90d76-1048-4552-8643-6f4decf3269d"
      },
      "execution_count": null,
      "outputs": [
        {
          "output_type": "stream",
          "name": "stdout",
          "text": [
            "python is fun\n",
            "pythonpython\n",
            " is fun is fun\n",
            "==================================================\n",
            "my program\n",
            "==================================================\n"
          ]
        }
      ]
    },
    {
      "cell_type": "code",
      "source": [
        "print('%05d' %123) # Adjusting total length"
      ],
      "metadata": {
        "colab": {
          "base_uri": "https://localhost:8080/"
        },
        "id": "VImZqOjQFLxT",
        "outputId": "2ca90fd4-d4b5-4d00-ec73-fb3e27278d94"
      },
      "execution_count": null,
      "outputs": [
        {
          "output_type": "stream",
          "name": "stdout",
          "text": [
            "00123\n"
          ]
        }
      ]
    },
    {
      "cell_type": "code",
      "source": [
        "# print() 함수 d 정수 s 문자\n",
        "num=3;\n",
        "text = \"I eat %d apples.\" %num\n",
        "print(text)\n",
        "day = 'three' #  주의!!!!!!!!!!! 문자 정의할때는 '' 반드시 넣어줘야함, 숫자는 필요 없음\n",
        "text2 = \"I ate %d apples, so I was sick for %s days.\" %(3, 'three') # num, day 순서 지켜야 함\n",
        "print(text2)\n",
        "text3 = \"I ate {1} apples, so I was sick for {0} days.\".format(num,'three') # 0하고 1 숫자 자리 를 말함, 만약 1.0 이면 num day순서 바뀜  .format 뒤에거에 맞춰서 앞에 {}안의 숫자를 넣는식으로 함\n",
        "print(text3)\n",
        "text4 = \"I ate {0} apples, so I was sick for {day} days.\".format(num,day=3) #변수선언은 .format 뒤에서 맨 마지막에 나옴\n",
        "print(text4)\n",
        "print()\n",
        "print('I ate', num,'apples, so I was sick for', day,'days')                # 함수 이용안하고 풀기\n",
        "text5='I ate', num,'apples, so I was sick for', day,'days'\n",
        "print(text5)"
      ],
      "metadata": {
        "colab": {
          "base_uri": "https://localhost:8080/"
        },
        "id": "IRUUfm3rFIe_",
        "outputId": "e0a8243c-d437-4510-d058-3d49397dabb3"
      },
      "execution_count": null,
      "outputs": [
        {
          "output_type": "stream",
          "name": "stdout",
          "text": [
            "I eat 3 apples.\n",
            "I ate 3 apples, so I was sick for three days.\n",
            "I ate three apples, so I was sick for 3 days.\n",
            "I ate 3 apples, so I was sick for 3 days.\n",
            "\n",
            "I ate 3 apples, so I was sick for three days\n",
            "('I ate', 3, 'apples, so I was sick for', 'three', 'days')\n"
          ]
        }
      ]
    },
    {
      "cell_type": "code",
      "source": [
        "text = \"I ate {0} appl{1}\" .format(3,'ta') # 따로 정의 안하고 format안에서 바로 인출할때 숫자넣을때는 ''필요 없고 문자넣을때는 ''필요\n",
        "print(text)\n",
        "print()"
      ],
      "metadata": {
        "colab": {
          "base_uri": "https://localhost:8080/"
        },
        "id": "PmEVQcsX8glB",
        "outputId": "cdb83420-83ab-4e4b-e048-c9c7a89801c3"
      },
      "execution_count": null,
      "outputs": [
        {
          "output_type": "stream",
          "name": "stdout",
          "text": [
            "I ate 3 applta\n"
          ]
        }
      ]
    },
    {
      "cell_type": "code",
      "source": [
        "print(\"%10s\" % \"hi\") #        hi#   s가공간 공간 10개 만들고 hi 는 뒤 공간부터 들어간다 hi는 두글자이므로 2자리 차지\n",
        "print(\"%-10sjane\" % \"hi\") #hi 포함한  공간이 10개: hi        jane / -10s 이면 왼쪽부터 채운다 !\n"
      ],
      "metadata": {
        "colab": {
          "base_uri": "https://localhost:8080/"
        },
        "id": "3CCY1RD6GKI-",
        "outputId": "0ade22c2-10c8-43c3-f677-de2dc69b0f3b"
      },
      "execution_count": null,
      "outputs": [
        {
          "output_type": "stream",
          "name": "stdout",
          "text": [
            "        hi\n",
            "hi        jane\n"
          ]
        }
      ]
    },
    {
      "cell_type": "code",
      "source": [
        "# 문자 정렬  #format 하고 f' 밖에 안됨\n",
        "print(\"{0:<10}\".format('hi')) # 왼쪽 정렬 <    'hi        '\n",
        "print(\"{0:>10}\".format('hi')) # 오른쪽정렬 >     '        hi'\n",
        "print(\"{0:^10}\".format('hie')) # 가운데정렬 ^    hi    .   hie    .10개 중에서 3개이면 456칸 먹는다\n",
        "print(\"{0:=^10}\".format('hi')) # 가운데정렬&공백=로채우기 '====hi===='\n",
        "print(\"{0:!<10}\".format('hi')) # 왼쪽정렬&공백!로채우기\n",
        "print(\"{0:a>10}\".format('hi')) # 오른쪽정렬 & 공백!로 채우기    '\n"
      ],
      "metadata": {
        "colab": {
          "base_uri": "https://localhost:8080/"
        },
        "id": "Zp3cFtm3G22I",
        "outputId": "3f0a8177-c2db-4d47-a2e7-072abbfa26bd"
      },
      "execution_count": null,
      "outputs": [
        {
          "output_type": "stream",
          "name": "stdout",
          "text": [
            "hi        \n",
            "        hi\n",
            "   hie    \n",
            "====hi====\n",
            "hi!!!!!!!!\n",
            "aaaaaaaahi\n"
          ]
        }
      ]
    },
    {
      "cell_type": "code",
      "source": [
        "# Exercise==============================\n",
        "# 위 문장을 변경하고 format을 이용하여 다음 결과가 나오도록 출력코드를 작성하여라.\n",
        "# I ate 5!!! apples, so was a sick for ===two==== days\n",
        "\n",
        "text='I ate {0:!<4} apples, so was a sick for {1:=^10} days'.format(5,'two')\n",
        "print(text)\n"
      ],
      "metadata": {
        "colab": {
          "base_uri": "https://localhost:8080/"
        },
        "id": "8IkP29PtHZlO",
        "outputId": "1714cb1e-a966-49bd-eeb7-152426ad010d"
      },
      "execution_count": null,
      "outputs": [
        {
          "output_type": "stream",
          "name": "stdout",
          "text": [
            "I ate 5!!! apples, so was a sick for ===two==== days\n"
          ]
        }
      ]
    },
    {
      "cell_type": "code",
      "source": [
        "year= input()\n",
        "print(type(year))\n",
        "print(type(2.2))\n",
        "print(type(3))\n"
      ],
      "metadata": {
        "colab": {
          "base_uri": "https://localhost:8080/"
        },
        "id": "Ro30AdmOVBNN",
        "outputId": "1b1f9279-40fb-47c7-9d2c-cdeffa940ea3"
      },
      "execution_count": null,
      "outputs": [
        {
          "output_type": "stream",
          "name": "stdout",
          "text": [
            "ㄴㅅ\n",
            "<class 'str'>\n",
            "<class 'float'>\n",
            "<class 'int'>\n"
          ]
        }
      ]
    },
    {
      "cell_type": "code",
      "source": [
        "year= input()\n",
        "print(type(year))\n",
        "print(type(2.2))\n",
        "print(type(3))\n",
        "\n",
        "\n",
        "year= int(input())\n",
        "month= int(input())\n",
        "date= int(input())\n",
        "day= int(input())\n",
        "\n",
        "\n",
        "text1= \"오늘은 %d년 %d월 %d일 %f입니다.\" %(year, month, date, day) #f is a real number, 소숫점 6째자리까지 출력\n",
        "print(text1)"
      ],
      "metadata": {
        "id": "zJSEl2EG9vML",
        "colab": {
          "base_uri": "https://localhost:8080/"
        },
        "outputId": "d56cdb82-d7bc-4f3d-f3a4-32c361f83f15"
      },
      "execution_count": null,
      "outputs": [
        {
          "output_type": "stream",
          "name": "stdout",
          "text": [
            "23\n",
            "<class 'str'>\n",
            "<class 'float'>\n",
            "<class 'int'>\n",
            "23\n",
            "11\n",
            "29\n",
            "29\n",
            "오늘은 23년 11월 29일 29.000000입니다.\n"
          ]
        }
      ]
    },
    {
      "cell_type": "code",
      "source": [
        "# f'문자열' 문자열 포맷팅 (따옴표 사용 주의!!!)\n",
        "print(f'hi')  #hi\n",
        "print(f'{\"hi\"}') #hi\n",
        "# f'{'hi'}' # error (따옴표 혼용해서 쓰면 안됨)\n",
        "f'{\"hi\":<10}' #'hi        '\n",
        "f'{\"hi\":>10}' #'        hi'\n",
        "f'{\"hi\":^10}' # '    hi    '\n",
        "f'{\"hi\":=^10}' # '====hi====' #\n",
        "f'{\"hi\":!<10}'                     # 'hi!!!!!!!!'\n",
        "y = 3.42134234;\n",
        "print(f'{y:0.3f}')  #'3.421' (문자열) / 0.x는 소숫점 x번째 까지만 표시하겠다는 뜻\n",
        "print(f'{y:<10.4f}') #'    3.4213'  (문자열) / 예를 들어 y.x는 칸이 y개 있다는 뜻# 오른쪽부터 채우기 #마지막 소숫점 뒤에서 반올림 한다! {}이거 안치면 치환 안됨.\n",
        "\n",
        "y = 3.4215555;\n",
        "print(f'{y:10.3f}') # 반올림 #3.422\n"
      ],
      "metadata": {
        "colab": {
          "base_uri": "https://localhost:8080/"
        },
        "id": "In7hgwIw2O5H",
        "outputId": "f8ac1654-f5c6-40a7-da9d-59cacfe8f848"
      },
      "execution_count": null,
      "outputs": [
        {
          "output_type": "stream",
          "name": "stdout",
          "text": [
            "hi\n",
            "hi\n",
            "3.421\n",
            "3.4213    \n",
            "     3.422\n"
          ]
        }
      ]
    },
    {
      "cell_type": "code",
      "source": [
        "\n",
        "text=f'I ate {5:!<4} apples, so I was sick for {\"two\":=^10} days.'\n",
        "print(text)\n",
        "name = '홍길동'; weight= 48.778\n",
        "print(f' 나의 이름은 {name}이고 나이는 {weight:.1f}이다.') # weight가 일단은 5글자이므로 5글자보다 작게 ex 3f라 한다면 칸수 무시됨 그냥 전체 출력.\n",
        "\n",
        "                                                #48.778000 #여기 프로그램에서는 예를 들어 10.4f 하면 반올림 됨"
      ],
      "metadata": {
        "colab": {
          "base_uri": "https://localhost:8080/"
        },
        "id": "ncAnI5at3XzG",
        "outputId": "bd718400-25ed-44af-f27d-bd0593eab905"
      },
      "execution_count": null,
      "outputs": [
        {
          "output_type": "stream",
          "name": "stdout",
          "text": [
            "I ate 5!!! apples, so I was sick for ===two==== days.\n",
            " 나의 이름은 홍길동이고 나이는 48.8이다.\n"
          ]
        }
      ]
    },
    {
      "cell_type": "code",
      "source": [
        "# 문자열 크기 #컴퓨터는 숫자를 0부터 센다!\n",
        "a='life is beautiful, enjoy it'\n",
        "print(len(a))\n",
        "\n",
        "#문자열 인덱스                                                                        !!!!!!!!!!!!!!!!!!(%이용하여 함수 만들때)이용하려면 문자로 받아야 한다 !!!!!!!!!!!!!!!!!!!!!!!!!!!!\n",
        "print(a[0]) #첫번째 자리의 문자\n",
        "print(a[2])\n",
        "a[-1] #마지막 문자\n",
        "print(a[-1])\n",
        "b= a[0]+a[1]+a[3]+a[5] #liei\n",
        "print(b)\n",
        "print(a[0:4]) #마지막 인덱스 포함 되지 않음 /life\n",
        "print(a[19:]) #첫번째 인덱스 포함 됨 /enjoy it /여기서는 마지막 까지 다 출력\n",
        "print(a[:19]) #마지막 인덱스 포함 되지 않음/life is beautiful,\n",
        "print(a[:]) # 전체 가져옴                                                                             !!!!!!!!!!!!!!!!!!!!!!!!!!!!!!!!!!!!!!!!!!!!!!!!!!!!!!!!!!!!!!!!!!!!!!!!!!\n",
        "print(a[19:-3]) #enjoy  (-3)뒤에서부터 3번째 자리까지 인듯                 첫번째 인덱스는 포함하는데 마지막 인덱스는 포함하지 않는다 앞에는 0 부터'-'는 맨 뒤에서부터 -1,-2,,,"
      ],
      "metadata": {
        "colab": {
          "base_uri": "https://localhost:8080/"
        },
        "id": "hxd7EUDL4fQu",
        "outputId": "da55849e-94b2-4578-b6a6-6d18fd752ac7"
      },
      "execution_count": null,
      "outputs": [
        {
          "output_type": "stream",
          "name": "stdout",
          "text": [
            "26\n",
            "l\n",
            "f\n",
            "t\n",
            "liei\n",
            "life\n",
            "enjoyit\n",
            "life is beautiful, \n",
            "life is beautiful, enjoyit\n",
            "enjo\n"
          ]
        }
      ]
    },
    {
      "cell_type": "code",
      "source": [
        "a='a sx'\n",
        "a.replace('a','b')\n",
        "print(a.upper())\n",
        "print(a)"
      ],
      "metadata": {
        "colab": {
          "base_uri": "https://localhost:8080/"
        },
        "id": "Ja4PRZhAbQAM",
        "outputId": "abb5fdfb-db15-4a21-db2a-86f78862f13c"
      },
      "execution_count": null,
      "outputs": [
        {
          "output_type": "stream",
          "name": "stdout",
          "text": [
            "A SX\n",
            "a sx\n"
          ]
        }
      ]
    },
    {
      "cell_type": "code",
      "source": [
        "# 문자열 바꾸기\n",
        "a=\"pithon\" #python\n",
        "a= a[0]+ 'y'+a[2:]\n",
        "print(a)\n",
        "\n",
        "# 문자열 관련 함수\n",
        "a =\"Python is the best choice\"\n",
        "print(a.count('t')) # 갯수 3\n",
        "print(a.find('b')) # index /몇번째에 있냐 인듯/ 14\n",
        "print(a.find('k')) #에러안생기고 -1나옴 (k값이 없다는 의미)!!!!!!!!!!!!!!!!!!!!!!!!!!!!!!!!!!!\n",
        "print(a.index('t')) #제일 처음 나오는 t의 index를 출력 / 요소의 유무를 찾을때 find는 -1, index는 error나온다.\n",
        "print(a.upper()) #모두 대문자로 upper\n",
        "print(a.lower()) #모두 소문자로 lower\n",
        "print(a.replace('Python', 'c++')) #\n",
        "print(a.split()) #중요  list형식으로 나옴 #['Python', 'is', 'the', 'best', 'choice'] #띄어쓰기 기준이다. print(a.split(' '))과 결과가 같다.\n",
        "\n",
        "\n",
        "b='a:b:c:d'\n",
        "print(b.split(':')) #['a', 'b', 'c', 'd']\n",
        "\n",
        "\n",
        "#문자열 삽입 (join) #모든 칸 사이에 ''안에 있는 것을 넣는다.\n",
        "print(\".\".join('abcd')) # a.b.c.d\n",
        "print('.'.join(b)) #a.:.b.:.c.:.d\n",
        "print()\n",
        "\n",
        "print('.'.join(a)) #P.y.t.h.o.n. .i.s. .t.h.e. .b.e.s.t. .c.h.o.i.c.e #띄어쓰기도 한 개의 칸이라생각하고 각칸사이마다. 넣는다\n",
        "print(' '.join(a)) #Python is the best choice #각 칸 사이에 ''안에 있는 것을 넣는다. 근데 그게 아무것도 없어서 아무것도 안 넣는 거임.\n",
        "\n",
        "print(\"\".join('abcd')) #abcd #공백없애기#\"\"안에 들어가있는게 없어서 암 것도 안들어감             !!!!!!!!!!!!!!!!!!!!!!!!!!!!!!!!!!!!!!!!!!!!!!!!!!!!!!!!!!!!!!!!!!!!!!\n",
        "print('.'.join(['a', 'b', 'c', 'd'])) # a.b.c.d\n",
        "print(''.join(b)) #a:b:c:d\n",
        "\n",
        "# 문자열 삽입(join): 따옴표 상관없음\n",
        "text= ['Python', 'is', 'the', 'best', 'choice']\n",
        "print(\".\".join(text)) # Python.is.the.best.choice\n",
        "print(\"\".join(text)) #Pythonisthebestchoice\n",
        "\n",
        "print(list(b))"
      ],
      "metadata": {
        "id": "4cVyz6PFg6Yk",
        "colab": {
          "base_uri": "https://localhost:8080/"
        },
        "outputId": "d38ba12f-63bf-40a4-e614-9575545411af"
      },
      "execution_count": null,
      "outputs": [
        {
          "output_type": "stream",
          "name": "stdout",
          "text": [
            "python\n",
            "3\n",
            "14\n",
            "-1\n",
            "2\n",
            "PYTHON IS THE BEST CHOICE\n",
            "python is the best choice\n",
            "c++ is the best choice\n",
            "['Python', 'is', 'the', 'best', 'choice']\n",
            "['a', 'b', 'c', 'd']\n",
            "a.b.c.d\n",
            "a.:.b.:.c.:.d\n",
            "\n",
            "P.y.t.h.o.n. .i.s. .t.h.e. .b.e.s.t. .c.h.o.i.c.e\n",
            "P y t h o n   i s   t h e   b e s t   c h o i c e\n",
            "abcd\n",
            "a.b.c.d\n",
            "a:b:c:d\n",
            "Python.is.the.best.choice\n",
            "Pythonisthebestchoice\n",
            "['a', ':', 'b', ':', 'c', ':', 'd']\n"
          ]
        }
      ]
    },
    {
      "cell_type": "code",
      "source": [
        "# 문자열 공백 없애기\n",
        "a = \" hi \"\n",
        "b= a.lstrip() #왼쪽공백 없애기\n",
        "print(b)\n",
        "b= a.rstrip() #오른쪽 공백 없애기\n",
        "print(b)\n",
        "b=a.strip() #양쪽 공백 없애기\n",
        "print(b)\n",
        "\n"
      ],
      "metadata": {
        "colab": {
          "base_uri": "https://localhost:8080/"
        },
        "id": "WJfbYl2w-JX4",
        "outputId": "044a8e61-d449-49f5-b33e-bb0065f4b14d"
      },
      "execution_count": null,
      "outputs": [
        {
          "output_type": "stream",
          "name": "stdout",
          "text": [
            "hi \n",
            " hi\n",
            "hi\n"
          ]
        }
      ]
    },
    {
      "cell_type": "code",
      "source": [
        "a =\"Python is the best choice\"\n",
        "print(a.split())\n",
        "print(a.split(' '))"
      ],
      "metadata": {
        "colab": {
          "base_uri": "https://localhost:8080/"
        },
        "id": "HVeioRakmuZx",
        "outputId": "17797fac-431b-4099-8121-ed3351042428"
      },
      "execution_count": null,
      "outputs": [
        {
          "output_type": "stream",
          "name": "stdout",
          "text": [
            "['Python', 'is', 'the', 'best', 'choice']\n",
            "['Python', 'is', 'the', 'best', 'choice']\n"
          ]
        }
      ]
    },
    {
      "cell_type": "code",
      "source": [
        "#text  이용\n",
        "text = '%s씨는 %d살이다' %('a',25)\n",
        "print(text)\n",
        "#포맷사용\n",
        "text = '{0}씨는 {1}살이다' .format('A',25)\n",
        "print(text)\n",
        "# f이용\n",
        "b=25\n",
        "print(f'{\"a\"}씨는 {b}살이다')\n"
      ],
      "metadata": {
        "id": "qITTHGGuCfxq",
        "colab": {
          "base_uri": "https://localhost:8080/"
        },
        "outputId": "f05e45c8-f4e8-4556-be63-bc441478123c"
      },
      "execution_count": null,
      "outputs": [
        {
          "output_type": "stream",
          "name": "stdout",
          "text": [
            "a씨는 25살이다\n",
            "A씨는 25살이다\n",
            "a씨는 25살이다\n"
          ]
        }
      ]
    },
    {
      "cell_type": "code",
      "source": [
        "# Exercise\n",
        "#1. 홍길동씨의 주민등록번호는 881212-1068234\n",
        "a='881212-1068234'\n",
        "b= '홍길동'\n",
        "#출력 : 홍길동씨는 00년 00월 00일 이다\n",
        "#1\n",
        "text= '%s씨는 %s년 %s월 %s일 생이다' %('홍길동',a[0:2],a[2:4],a[4:6])\n",
        "print(text)\n",
        "#2\n",
        "print('{0}씨는 {1}년 {2}월 {3}일 생이다.'. format('홍길동',a[0:2],a[2:4],a[4:6]))\n",
        "#3\n",
        "print(f'{b}씨는 {a[0:2]}년 {a[2:4]}월 {a[4:6]}일 생이다')\n",
        "\n",
        "#예제 하나 더 있는데 못씀 나중에 더하기"
      ],
      "metadata": {
        "colab": {
          "base_uri": "https://localhost:8080/"
        },
        "id": "RC9EnKqs-R9v",
        "outputId": "aebac52e-d134-4322-918d-a6ef01618c08"
      },
      "execution_count": null,
      "outputs": [
        {
          "output_type": "stream",
          "name": "stdout",
          "text": [
            "홍길동씨는 88년 12월 12일 생이다\n",
            "홍길동씨는 88년 12월 12일 생이다.\n",
            "홍길동씨는 88년 12월 12일 생이다\n"
          ]
        }
      ]
    },
    {
      "cell_type": "code",
      "source": [
        "'''\n",
        "================================\n",
        "리스트 자료형\n",
        "================================\n",
        "'''\n",
        "\n",
        "# 대괄호 이용\n",
        "a=[]\n",
        "b=[1, 2, 3]\n",
        "c=['life','is','too','beautiful']\n",
        "d=[1, 2, 'life', 'is']\n",
        "e=[1, 2,['life','is']]\n",
        "\n",
        "# 인덱싱                                  아무때나 사용 가능 문자열에서든 리스트에서든\n",
        "a = [1, 2, 3, 4, 5]\n",
        "a[0]\n",
        "print(a[0]+a[2]) #4\n",
        "a[-1] # 제일 마지막 요소\n",
        "print(a[0:2]) # [1, 2]\n",
        "a[:2] # [1, 2]\n",
        "a[2:] # [3, 4, 5]\n",
        "\n",
        "a=[1,2,3,['a','b','c']] #이중 리스트\n",
        "a[3]\n",
        "print(a[3]) #['a', 'b', 'c']\n",
        "a[3][0] #'a'\n",
        "a[-1][0] # 'a'\n",
        "a[3][:2] #['a', 'b']\n",
        "\n",
        "a=[1,2,['a','b',['life','is']]] #삼중 리스트\n",
        "a[2][2][0] # 'life'\n",
        "\n",
        "\n",
        "# 리스트 연산 ============================\n",
        "a = [1, 2, 3]\n",
        "b = [4, 5, 6]\n",
        "print(a+b) #[1, 2, 3, 4, 5, 6]\n",
        "print(b+a) #[4, 5, 6, 1, 2, 3]\n",
        "a.extend(b)                                                                                       # extend는 print 없이 추가 가능!!!!!!!!!!!!!!!\n",
        "print(a) #[1, 2, 3, 4, 5, 6]\n",
        "a.extend([7,8]) # a.append 랑 다르다. a.append([7,8])하면 [1,2,3,4,5,6,[7,8]] 나온다.             # a.extend([7,8])!!!!!!!!!!!!!!!!!!!!!!!!\n",
        "print(a) #[1, 2, 3, 4, 5, 6, 7, 8]\n",
        "\n",
        "print(a*3) #[1, 2, 3, 4, 5, 6, 7, 8, 1, 2, 3, 4, 5, 6, 7, 8, 1, 2, 3, 4, 5, 6, 7, 8]\n",
        "print(len(a)) #8\n",
        "print(a.count(1)) #1\n",
        "print(a.index(1)) #0\n",
        "print()\n",
        "\n",
        "\n",
        "\n",
        "# a=[1, 2, 3, 4, 5, 6, 7, 8]\n",
        "#a[2] + 'hi' 는 에러생김\n",
        "a= str(a[2]) + 'hi' # 3hi # str 이 뭐지= str() 해주면 ()안에 있는것의 type을 문자로 바꿔주는 것\n",
        "print(a)"
      ],
      "metadata": {
        "colab": {
          "base_uri": "https://localhost:8080/"
        },
        "id": "VR07xn_jGi3b",
        "outputId": "957fd8a9-77ac-44e6-d56d-dd98c78c2b04"
      },
      "execution_count": null,
      "outputs": [
        {
          "output_type": "stream",
          "name": "stdout",
          "text": [
            "4\n",
            "[1, 2]\n",
            "['a', 'b', 'c']\n",
            "[1, 2, 3, 4, 5, 6]\n",
            "[4, 5, 6, 1, 2, 3]\n",
            "[1, 2, 3, 4, 5, 6]\n",
            "[1, 2, 3, 4, 5, 6, 7, 8]\n",
            "[1, 2, 3, 4, 5, 6, 7, 8, 1, 2, 3, 4, 5, 6, 7, 8, 1, 2, 3, 4, 5, 6, 7, 8]\n",
            "8\n",
            "1\n",
            "0\n",
            "\n",
            "3hi\n"
          ]
        }
      ]
    },
    {
      "cell_type": "code",
      "source": [
        "a = [1, 2, 3]\n",
        "b = [4, 5, 6]\n",
        "a.extend(b)\n",
        "print(a)"
      ],
      "metadata": {
        "colab": {
          "base_uri": "https://localhost:8080/"
        },
        "id": "p4gHd1OjYKm7",
        "outputId": "d5886842-22be-48a2-df56-2a9dd67f72f8"
      },
      "execution_count": null,
      "outputs": [
        {
          "output_type": "stream",
          "name": "stdout",
          "text": [
            "[1, 2, 3, 4, 5, 6]\n"
          ]
        }
      ]
    },
    {
      "cell_type": "code",
      "source": [
        "# 리스트 수정, 삭제, 삽입, 추가, 정렬, 뒤집기, 인덱스 찾기\n",
        "a=[1, 2, 3, 4, 5, 6, 7, 8]\n",
        "a[2] = 4; #2번째 요소를 4로 변경  [1, 2, 4, 4, 5, 6, 7, 8]                                            !!!!!\n",
        "print(a)\n",
        "\n",
        "del a[1] #1번째 요소를 삭제  [1, 4, 4, 5, 6, 7, 8]\n",
        "print(a)\n",
        "\n",
        "a.remove(4) #4를 삭제하는데 제일 첫번째 것만 삭제 [1, 4, 5, 6, 7, 8]\n",
        "print(a)\n",
        "\n",
        "a.pop() #제일 마지막 요소를 꺼내서 삭제 [1, 4, 5, 6, 7]\n",
        "print(a)\n",
        "\n",
        "a.pop(2) #2번째 요소를 꺼내서 삭제 [1, 4, 6, 7]\n",
        "print(a)\n",
        "print()\n",
        "a.insert(1,2) #1번째 요소에 2를 삽입 [1, 2, 4, 6, 7]  # 기존에서 삭제 안한다 !!!!!\n",
        "print(a)\n",
        "\n",
        "a.append(9) #추가 [1, 2, 4, 6, 7, 9] # a.append(9,10,11)처럼 1개 이상의 숫자 더하는거 안됨.\n",
        "print(a)\n",
        "a.append([5,6]) #[1, 2, 4, 6, 7, 9, [5, 6]] #[]안에서 여러가지 숫자 넣는거는 가능\n",
        "print(a)\n",
        "\n",
        "a= [1,4,3,2]\n",
        "a.sort() # 크기순 정렬 [1, 2, 3, 4]\n",
        "print(a)\n",
        "\n",
        "a=['b','a','c']\n",
        "a.sort() #문자 순으로 정렬 ['a', 'b', 'c']\n",
        "print(a)\n",
        "\n",
        "\n",
        "a=['b','a','c']\n",
        "a.reverse() #뒤집기 #문자순이 아님? 문자 역순 아니다['c', 'a', 'b']\n",
        "print(a)\n",
        "\n",
        "a=[1,4,3,2]\n",
        "print(a.index(3)) #3의 index # 2 #리스트에서는 find 에러남..\n",
        "\n"
      ],
      "metadata": {
        "colab": {
          "base_uri": "https://localhost:8080/"
        },
        "id": "rn9NYbz9Jkf8",
        "outputId": "35766829-bcee-4941-eb78-24201b9d2e29"
      },
      "execution_count": null,
      "outputs": [
        {
          "output_type": "stream",
          "name": "stdout",
          "text": [
            "[1, 2, 4, 4, 5, 6, 7, 8]\n",
            "[1, 4, 4, 5, 6, 7, 8]\n",
            "[1, 4, 5, 6, 7, 8]\n",
            "[1, 4, 5, 6, 7]\n",
            "[1, 4, 6, 7]\n",
            "\n",
            "[1, 2, 4, 6, 7]\n",
            "[1, 2, 4, 6, 7, 9]\n",
            "[1, 2, 4, 6, 7, 9, [5, 6]]\n",
            "[1, 2, 3, 4]\n",
            "['a', 'b', 'c']\n",
            "['c', 'a', 'b']\n",
            "2\n"
          ]
        }
      ]
    },
    {
      "cell_type": "code",
      "source": [
        "num=5\n",
        "\n",
        "print(f'{num}은 오이다')\n",
        "\n",
        "print('{num}은 {0}오이다'.format('핳', num=5)) # 변수선언이 무조건 뒤에 와야함 !!!!!!!!!!!!!!!!!!!!!!!!!!!!!!!1 앞에 들어가는거에는 그냥 {}만 치고 .format 먼저쓰고 나중에 순서 맞추기\n",
        "\n",
        "print()\n",
        "\n",
        "print('%c = 2*%c +4'%('y','x'))\n",
        "\n"
      ],
      "metadata": {
        "colab": {
          "base_uri": "https://localhost:8080/"
        },
        "id": "zE2yjZ27C0WT",
        "outputId": "0c9bfcfc-7bad-4173-a759-c15ec4732cb7"
      },
      "execution_count": null,
      "outputs": [
        {
          "output_type": "stream",
          "name": "stdout",
          "text": [
            "5은 오이다\n",
            "5은 핳오이다\n",
            "\n",
            "y = 2*x +4\n"
          ]
        }
      ]
    },
    {
      "cell_type": "code",
      "source": [
        "#2\n",
        "# a='python:is:the:best'\n",
        "# 를 이용하여 다음을 출력하시오.\n",
        "# 출력: C++ is the best\n",
        "\n",
        "a='python:is:the:best'\n",
        "print(len(a))\n",
        "b=a[0:6]+' '+a[7:9]+' '+a[10:13]+' '+a[14:] #a[] 리스트 아닐때도 사용가능 한가봄\n",
        "print(b)\n",
        "print(b.replace('python', 'C++'))"
      ],
      "metadata": {
        "id": "hJhzFtxfXsS8",
        "colab": {
          "base_uri": "https://localhost:8080/"
        },
        "outputId": "e88ac193-df67-4584-a9d0-e9ab7cbbd699"
      },
      "execution_count": null,
      "outputs": [
        {
          "output_type": "stream",
          "name": "stdout",
          "text": [
            "18\n",
            "python is the best\n",
            "C++ is the best\n"
          ]
        }
      ]
    },
    {
      "cell_type": "code",
      "source": [
        "#첫번째 방식\n",
        "a='python:is:the:best'\n",
        "a=a.split(':') #['python', 'is', 'the', 'best']\n",
        "a[0]=' C++'\n",
        "print(\" \".join(a))\n",
        "print()\n",
        "#두번째 방식 # replace 를 연속으로 쓰는 방법은 안되나봄\n",
        "a='python:is:the:best'\n",
        "a=a.replace('python',' C++')                  #이렇게 문자를 다시 정의내주면 가능 !!!!!\n",
        "print(a.replace(':', ' ')) #replace 두번쓰는거 오류남\n",
        "#print(b.replace(':',' '))\n"
      ],
      "metadata": {
        "colab": {
          "base_uri": "https://localhost:8080/"
        },
        "id": "AO3VAbKEg44D",
        "outputId": "2cba1c0c-cb73-44f3-d911-bb0f378bd6a9"
      },
      "execution_count": null,
      "outputs": [
        {
          "output_type": "stream",
          "name": "stdout",
          "text": [
            " C++ is the best\n",
            "\n",
            " C++ is the best\n"
          ]
        }
      ]
    },
    {
      "cell_type": "code",
      "source": [
        "#3\n",
        "# a=[1,3,5,4,2]\n",
        "#를 이용하여 [5,4,3,2,1] 출력\n",
        "#를 이용하여 [5,4,3,2,1] 출력\n",
        "\n",
        "a=[1,3,5,4,2]\n",
        "a.sort() #sort 는 print 안에 들어가면 안된다 reverse도 마찬가지 프린트 없이 이어지는 함수들은 프린트 붙여서 써주면 오류남..!!!!!!!!!!\n",
        "a.reverse\n",
        "print(a)\n",
        "\n"
      ],
      "metadata": {
        "colab": {
          "base_uri": "https://localhost:8080/"
        },
        "id": "1ogFYWpZlI3k",
        "outputId": "e20a6089-71e3-43c4-90b9-f645a7a47abf"
      },
      "execution_count": null,
      "outputs": [
        {
          "output_type": "stream",
          "name": "stdout",
          "text": [
            "[1, 2, 3, 4, 5]\n"
          ]
        }
      ]
    },
    {
      "cell_type": "code",
      "source": [
        "# 2. ['life', 'is', 'too', 'beautiful'] 리스트를\n",
        "# life is too beautiful 문자열로 출력하기\n",
        "a=['life', 'is', 'too', 'beautiful']\n",
        "print(\" \".join(a))\n"
      ],
      "metadata": {
        "colab": {
          "base_uri": "https://localhost:8080/"
        },
        "id": "zx9tENOjmfYW",
        "outputId": "0629e502-cb6e-41fd-e2f4-920a787183dd"
      },
      "execution_count": null,
      "outputs": [
        {
          "output_type": "stream",
          "name": "stdout",
          "text": [
            "life is too beautiful\n"
          ]
        }
      ]
    },
    {
      "cell_type": "code",
      "source": [
        "# 3. input 함수 사용하여 \"교환할 돈은 얼마인가요?\" 메세지 뜨게 하고\n",
        "숫자를 입력받고, 다음과 같은 결과가 출력이 되도록 하세요.\n",
        "---------------------------\n",
        " 입력받은 돈은 ***입니다.\n",
        " 500원짜리 = ** 개\n",
        "100원짜리 = ** 개\n",
        "50원짜리 = ** 개\n",
        "10원짜리 = ** 개\n",
        "바꾸지 못한 잔돈 = ** 원\n",
        "-------------------------\n",
        " money = int(input('돈을 입력하시오:'))\n",
        " c500 = money//500 #몫\n",
        " money = money%500 #나머지\n",
        "\n",
        "\n",
        "\n"
      ],
      "metadata": {
        "id": "_eW85C2DEtgu"
      },
      "execution_count": null,
      "outputs": []
    },
    {
      "cell_type": "code",
      "source": [
        "a= 700\n",
        "\n",
        "print(f'500원짜리 = {a//500}개') #변수 선언 !!!!!!!!!!!!!!!!!!!!!!!!!\n",
        "\n",
        "print('500원짜리 = {0}개'.format(a//500))\n",
        "\n",
        "print('500원짜리 = %.d개'%(a//500))"
      ],
      "metadata": {
        "colab": {
          "base_uri": "https://localhost:8080/"
        },
        "id": "d7BXWDkGF8eC",
        "outputId": "51928a92-c6f0-4d44-8959-46fe7ad875f0"
      },
      "execution_count": null,
      "outputs": [
        {
          "output_type": "stream",
          "name": "stdout",
          "text": [
            "500원짜리 = 1개\n",
            "500원짜리 = 1개\n",
            "500원짜리 = 1개\n"
          ]
        }
      ]
    },
    {
      "cell_type": "code",
      "source": [
        "a= int(input(\"교환할 돈은 얼마인가요?: \"))\n",
        "print('-'*30)\n",
        "print(f'입력받은 돈은 {a}입니다.')\n",
        "print(f'500원짜리 = {a//500}개')\n",
        "a%=500\n",
        "print(f'100원짜리 = {a//100}개')\n",
        "a%=100\n",
        "print(f'50원짜리 = {a//50}개')\n",
        "a%=50\n",
        "print(f'10원짜리 = {a//10}개')\n",
        "a%=10\n",
        "print(f'바꾸지 못한 잔돈 = {a}원')"
      ],
      "metadata": {
        "colab": {
          "base_uri": "https://localhost:8080/"
        },
        "id": "lnnnMtI-E7IQ",
        "outputId": "078204f3-c661-49f6-e655-71409b52d564"
      },
      "execution_count": null,
      "outputs": [
        {
          "output_type": "stream",
          "name": "stdout",
          "text": [
            "교환할 돈은 얼마인가요?: 735\n",
            "------------------------------\n",
            "입력받은 돈은 735입니다.\n",
            "500원짜리 = 1개\n",
            "100원짜리 = 2개\n",
            "50원짜리 = 0개\n",
            "10원짜리 = 3개\n",
            "바꾸지 못한 잔돈 = 5원\n"
          ]
        }
      ]
    },
    {
      "cell_type": "code",
      "source": [
        "money=int(input('교환할 돈은 얼마인가요?'))\n",
        "\n",
        "print('입력받은 돈은', money, '입니다.')\n",
        "\n",
        "c500=money//500\n",
        "print('500원짜리 =', c500,'개')\n",
        "\n",
        "money%=500\n",
        "c100=money//100\n",
        "print('100원짜리 =', c100,' 개')\n",
        "\n",
        "money%=100\n",
        "c50=money//50\n",
        "print('50원짜리 =', c50,'개')\n",
        "\n",
        "money%=50\n",
        "c10=money//10\n",
        "print('10원짜리 =',c10,'개')\n",
        "\n",
        "money%=10\n",
        "print('바꾸지 못한 잔돈 =',money,'원')"
      ],
      "metadata": {
        "colab": {
          "base_uri": "https://localhost:8080/"
        },
        "id": "RYlcRtpNrQCv",
        "outputId": "e6df0567-82e6-4f77-cca8-62c8e6cea09f"
      },
      "execution_count": null,
      "outputs": [
        {
          "output_type": "stream",
          "name": "stdout",
          "text": [
            "교환할 돈은 얼마인가요?789\n",
            "입력받은 돈은 789 입니다.\n",
            "500원짜리 = 1 개\n",
            "100원짜리 = 2  개\n",
            "50원짜리 = 1 개\n",
            "10원짜리 = 3 개\n",
            "바꾸지 못한 잔돈 = 9 원\n"
          ]
        }
      ]
    },
    {
      "cell_type": "code",
      "source": [
        "a= 100; b=50; c=a+b;\n",
        "print('a','+', 'b','=', c)# 쉼표(,)써야한다\n",
        "print('a + b =',c)\n"
      ],
      "metadata": {
        "colab": {
          "base_uri": "https://localhost:8080/"
        },
        "id": "VLyqR7E5oy41",
        "outputId": "290dc85c-5d8b-4b72-a13a-9dfd0eed8002"
      },
      "execution_count": null,
      "outputs": [
        {
          "output_type": "stream",
          "name": "stdout",
          "text": [
            "a + b = 150\n",
            "a + b = 150\n"
          ]
        }
      ]
    },
    {
      "cell_type": "code",
      "source": [
        "#1 쪽지시험 유형\n",
        "a= '100'; b='50'; c=a+b;\n",
        "print(a,'+',b,'=', c)\n",
        "\n",
        "a = 4; b=3;\n",
        "print('a**b', '=', a**b)\n",
        "\n",
        "a = 21; b=4;\n",
        "print('a/b =', a/b) #a/b = 5.25\n",
        "print('b//a =', b//a) #b//a = 0\n",
        "print('b%a =',b%a) #b%a = 4\n",
        "\n",
        "\n",
        "a= 15; a +=5; a /=5; a %=5;\n",
        "print(a)\n",
        "\n",
        "print(2+2-2*2/2*2) #0.0 #곱하기 나누기 먼저는 같은데 ()없으면 곱하기 나누기 순서대로 쭉 하기 !!!!!!!!!!!!!!!!!!!!!!!!!!!!!!!!\n",
        "\n",
        "a= \"python\"; print(a*2) #pythonpython\n",
        "\n",
        "A = \"Python is fun \\n I enjoy it\" #Python is fun (엔터) I enjoy it\n",
        "print(A)\n"
      ],
      "metadata": {
        "colab": {
          "base_uri": "https://localhost:8080/"
        },
        "id": "RnZeStXBqHmh",
        "outputId": "6042eea2-1756-4bcf-d3c9-d94fcc547510"
      },
      "execution_count": null,
      "outputs": [
        {
          "output_type": "stream",
          "name": "stdout",
          "text": [
            "100 + 50 = 10050\n",
            "a**b = 64\n",
            "a/b = 5.25\n",
            "b//a = 0\n",
            "b%a = 4\n",
            "4.0\n",
            "0.0\n",
            "pythonpython\n",
            "Python is fun \n",
            " I enjoy it\n"
          ]
        }
      ]
    },
    {
      "cell_type": "code",
      "source": [
        "#2\n",
        "#(1)\n",
        "total = 450; average = 88.79;\n",
        "text= ' A의 총점은 %d점이고, 평균은 %.2f이다.'%(total,average) # 왜 88까지만 나오지?= int 형식이라 정수라서 그런다.\n",
        "print(text)\n",
        "\n",
        "text=' A의 총점은 {0}점이고, 평균은 {1}이다.'.format(total, average)\n",
        "print(text)\n",
        "#(2)\n",
        "num = 2; day = 'one';\n",
        "text=' I ate {0:!<6} apples, so I was sick for {1:=^9} days.'.format(num,day)\n",
        "print(text)\n",
        "print()\n",
        "#3\n",
        "print(f' A의 총점은 {total}점이고, 평균은 {average}이다.')\n",
        "\n",
        "print(f' I ate {num:!<6} apples, so I was sick for {day:=^9} days.')\n",
        "\n"
      ],
      "metadata": {
        "colab": {
          "base_uri": "https://localhost:8080/"
        },
        "id": "Z0NVATMjssRm",
        "outputId": "7d8c5072-d410-452d-872e-8969e6d3d37c"
      },
      "execution_count": null,
      "outputs": [
        {
          "output_type": "stream",
          "name": "stdout",
          "text": [
            " A의 총점은 450점이고, 평균은 88.79이다.\n",
            " A의 총점은 450점이고, 평균은 88.79이다.\n",
            " I ate 2!!!!! apples, so I was sick for ===one=== days.\n",
            "\n",
            " A의 총점은 450점이고, 평균은 88.79이다.\n",
            " I ate 2!!!!! apples, so I was sick for ===one=== days.\n"
          ]
        }
      ]
    },
    {
      "cell_type": "code",
      "source": [
        "'''\n",
        "================================\n",
        "튜플  자료형 : 변경/삭제 불가능\n",
        "================================\n",
        "'''\n",
        "\n",
        "# () 튜플 [] 리스트 {} dictionary\n",
        "a = ()\n",
        "a1 = (1,) #1개의 요소일 때는 반드시 콤마가 필요\n",
        "a2 = (1, 2, 3)\n",
        "a3 = 1, 2, 3 # ()생략 가능\n",
        "a4 = ('a','b', ('ab', 'cd'))\n",
        "\n",
        "# 인덱싱\n",
        "a=(1, 2, 'a', 'b')\n",
        "print(a[0]) #1\n",
        "print(a[3]) #b\n",
        "print(a[1:]) #(2, 'a', 'b')\n",
        "\n",
        "# 더하기, 반복, 길이\n",
        "a=(1, 2, 'a', 'b')\n",
        "b=(3,4)\n",
        "print(a+b) #(1, 2, 'a', 'b', 3, 4)\n",
        "print(b*3) #(3, 4, 3, 4, 3, 4)\n",
        "print(len(b)) #2\n",
        "\n",
        "#\n",
        "a,b = 'hi', 2\n",
        "print(a)\n",
        "print(b)\n",
        "# exercise\n",
        "# (1,2,3) 튜플에 4를 추가하여 (1,2,3,4) 만들기\n",
        "a= (1,2,3)\n",
        "b=4,\n",
        "print(a+b) #(1, 2, 3, 4)\n",
        "a= (1,2,3)\n",
        "b=4,\n",
        "\n",
        "#a.extend(4) 튜플에는 append extend 둘다 사용 불가, 리스트에 사용한 것들  사용 불가"
      ],
      "metadata": {
        "colab": {
          "base_uri": "https://localhost:8080/"
        },
        "id": "Za6RuKzLFR0U",
        "outputId": "86531628-d1c2-40b6-efa0-ab22fcb19e6f"
      },
      "execution_count": null,
      "outputs": [
        {
          "output_type": "stream",
          "name": "stdout",
          "text": [
            "1\n",
            "b\n",
            "(2, 'a', 'b')\n",
            "(1, 2, 'a', 'b', 3, 4)\n",
            "(3, 4, 3, 4, 3, 4)\n",
            "2\n",
            "hi\n",
            "2\n",
            "(1, 2, 3, 4)\n"
          ]
        }
      ]
    },
    {
      "cell_type": "code",
      "source": [
        "'''\n",
        "================================\n",
        "딕셔너리  자료형: key:value 형식\n",
        "================================\n",
        "'''\n",
        "# 딕서녀리 구성 key: value\n",
        "dic = {'name':'pey', 'phone':'01012341234', 'birth':'1212'}\n",
        "print(dic['name']) #pey # value 값을 넣으면 오류난다.\n",
        "print(dic['birth']) #1212\n",
        "\n",
        "print(dic.keys()) # key #dict_keys(['name', 'phone', 'birth'])#문자의 정의랑 상관 없이 dict_keys([])나온다.\n",
        "print(list(dic.keys())) # 리스트#['name', 'phone', 'birth']\n",
        "\n",
        "print(dic.values()) # value #dict_values(['pey', '01012341234', '1212'])\n",
        "print(list(dic.values())) # 리스트  #['pey', '01012341234', '1212']\n",
        "\n",
        "print(dic.items()) # (key, value) 쌍 #dict_items([('name', 'pey'), ('phone', '01012341234'), ('birth', '1212')])\n",
        "print(list(dic.items()))\n",
        "dic.clear() # 모두 삭제 key삭제\n",
        "print(dic) #{}\n",
        "\n",
        "\n",
        "print(\"=\"*20)\n",
        "\n",
        "## dic.get(), key in dic\n",
        "dic = {'name':'pey', 'phone':'01012341234', 'birth':'1212'}\n",
        " #print(dic['nokey']) # error\n",
        "print(dic.get('nokey')) #None\n",
        "print(dic.get('name')) #pey       # key 값만 검색 가능 value 값은 None 나온다.!!!!!!!!!\n",
        "print(dic.get('pey')) #키만 검색가능#None\n",
        "\n",
        "print('name' in dic) #True          #value 값을 넣으면 False 나온다 !!!!\n",
        "print('nokey' in dic) #False"
      ],
      "metadata": {
        "id": "_bkfj-UBGvd9",
        "colab": {
          "base_uri": "https://localhost:8080/"
        },
        "outputId": "325dfed5-39f0-43ab-f757-c7d8a6f82e6e"
      },
      "execution_count": null,
      "outputs": [
        {
          "output_type": "stream",
          "name": "stdout",
          "text": [
            "pey\n",
            "1212\n",
            "dict_keys(['name', 'phone', 'birth'])\n",
            "['name', 'phone', 'birth']\n",
            "dict_values(['pey', '01012341234', '1212'])\n",
            "['pey', '01012341234', '1212']\n",
            "dict_items([('name', 'pey'), ('phone', '01012341234'), ('birth', '1212')])\n",
            "[('name', 'pey'), ('phone', '01012341234'), ('birth', '1212')]\n",
            "{}\n",
            "====================\n",
            "None\n",
            "pey\n",
            "None\n",
            "True\n",
            "False\n"
          ]
        }
      ]
    },
    {
      "cell_type": "code",
      "source": [
        "dic={1: 'a'}\n",
        "dic[3,]=3\n",
        "dic['h',3]=1\n",
        "print(dic)"
      ],
      "metadata": {
        "colab": {
          "base_uri": "https://localhost:8080/"
        },
        "id": "dx6WZXhfVgxY",
        "outputId": "ac98e2b8-0e97-43f1-f18b-36507247749a"
      },
      "execution_count": null,
      "outputs": [
        {
          "output_type": "stream",
          "name": "stdout",
          "text": [
            "{1: 'a', (3,): 3, ('h', 3): 1}\n"
          ]
        }
      ]
    },
    {
      "cell_type": "code",
      "source": [
        "# 추가/ 삭제\n",
        "dic={1: 'a'}\n",
        "print(dic)    #{1: 'a'}\n",
        "  #dic[key] = value\n",
        "dic[2] = 'b' #{1: 'a', 2: 'b'}                    # dic[] 리스트 안에 넣어서 추가, 삭제 한다\n",
        "print(dic)\n",
        "dic['name']='jane' #{1: 'a', 2: 'b', 'name': 'jane'}\n",
        "print(dic)\n",
        "dic[5]= [1,2,3] #{1: 'a', 2: 'b', 'name': 'jane', 5: [1, 2, 3]}\n",
        "print(dic)\n",
        " ##\n",
        "print()\n",
        "print(dic[5]) #[1, 2, 3]\n",
        "print(dic[5][1]) #2 #순번이 3인 것이 아니라 key가 3인것 !!!!!!!!!!!!!!!!!!!!!!!!!!!!!!!!! # 2번째[]에서는 순서 맞다.\n",
        "\n",
        "\n",
        "# 주의사항\n",
        "a={1:'a',1:'b'} #key value를 똑같이 하는 경우 앞에 것 무시\n",
        "print(a) #{1: 'b'}                                                              !!!!!!!!!!!!!!!!!!!!!!!!!!!!!!!!!!!!!!!!!!!!!\n",
        "print(a[1]) #b\n",
        "# a={[1,2]: 'h'}                    #key 갑에는 리스트 불가능 # value 값에는 리스트 가능     !!!!!!!!!!!!!!!!!!!!!!! key 값에는 리스트 불가능 !!!!!!!!! value값에서는 리스트 가능 !!!!!!!!!\n",
        "a={(1,2):'h'}                      #튜블은 가능!!!!!!!!!!!!!!!!\n",
        "print(a) #{(1, 2): 'h'}\n",
        "a[3,4]=7 #{(1, 2): 'h', (3, 4): 7}          #튜플을 딕셔너리 key 값에 넣을때 ()표시 안해줘도 출력값이 ()나온다.\n",
        "a[(4,5)] =8 #{(1, 2): 'h', (3, 4): 7, (4, 5): 8}\n",
        "print(a)\n",
        "\n",
        "#key 값을 튜플 안에 넣고 싶을 때\n",
        "# 값이 하나이면 끝에 , 넣어주면 다 된다 숫자도 마찮가지 ==> dic[3]--> 3 하고 dic[3,]-->(3,)\n",
        "\n",
        "\n",
        "#다음 중 오류가 발생하는 경우는?\n",
        "a['name']='python';\n",
        "a['a',]='python';#('a',)가 다 들어간다.!!!!!!!!!!!!!!!!!  #{(1, 2): 'h', (3, 4): 7, (4, 5): 8, 'name': 'python', ('a',): 'python', 250: 'python'}\n",
        "#a([1])='python';오류 발생\n",
        "a[250]='python';\n",
        "print(a) #{(1, 2): 'h', (3, 4): 7, (4, 5): 8, 'name': 'python', ('a',): 'python', 250: 'python'}\n",
        "\n",
        "a['name']= 'g' #{(1, 2): 'h', (3, 4): 7, (4, 5): 8, 'name': 'g', ('a',): 'python', 250: 'python'}\n",
        "print(a)"
      ],
      "metadata": {
        "colab": {
          "base_uri": "https://localhost:8080/"
        },
        "id": "pmjMddymIj2d",
        "outputId": "60cece86-d3f0-4867-efe6-97685f5ac4d7"
      },
      "execution_count": null,
      "outputs": [
        {
          "output_type": "stream",
          "name": "stdout",
          "text": [
            "{1: 'a'}\n",
            "{1: 'a', 2: 'b'}\n",
            "{1: 'a', 2: 'b', 'name': 'jane'}\n",
            "{1: 'a', 2: 'b', 'name': 'jane', 5: [1, 2, 3]}\n",
            "\n",
            "[1, 2, 3]\n",
            "2\n",
            "{1: 'b'}\n",
            "b\n",
            "{(1, 2): 'h'}\n",
            "{(1, 2): 'h', (3, 4): 7, (4, 5): 8}\n",
            "{(1, 2): 'h', (3, 4): 7, (4, 5): 8, 'name': 'python', ('a',): 'python', 250: 'python'}\n",
            "{(1, 2): 'h', (3, 4): 7, (4, 5): 8, 'name': 'g', ('a',): 'python', 250: 'python'}\n"
          ]
        }
      ]
    },
    {
      "cell_type": "code",
      "source": [
        "\n",
        "# 다음은 학생들 이름을 key로 하고, 국 영 수 과 성적을 value로 하는 딕셔너리이다.\n",
        "dic={'홍길동': [100,80,90,88], '문동이': [100,99,97,100]}\n",
        "#(1) 김철수 학생의 국영수과 성적이 98,87,97,100을 딕셔너리에 넣고,\n",
        "#(2) 학생이름을 input을 받고, 그 학생의 수학성적과 네 과목의 평균을 구하여라\n",
        "\n",
        "#출력결과: ***학생의 수학성적은 **점이고, 네 과목의 평균은 **.**이다.\n",
        "\n",
        "name= input('이름은? ')\n",
        "a=int(input('국어성적: '))\n",
        "b=int(input('영어성적: '))\n",
        "c= int(input('수학성적: '))\n",
        "d= int(input('과학성적: '))\n",
        "score={'국어': a, '영어': b, '수학':c, '과학': d}\n",
        "average= (a+b+c+d)/4\n",
        "\n",
        "print(f'{name}학생의 수학성적은 {c}점이고, 네 과목의 평균은 {average:.2f}이다.')\n"
      ],
      "metadata": {
        "colab": {
          "base_uri": "https://localhost:8080/"
        },
        "id": "lVAQ8eclQU96",
        "outputId": "1e4b43c4-2756-4f2b-8d59-4dc83a7537b8"
      },
      "execution_count": null,
      "outputs": [
        {
          "output_type": "stream",
          "name": "stdout",
          "text": [
            "이름은? 김철수\n",
            "국어성적: 98\n",
            "영어성적: 87\n",
            "수학성적: 97\n",
            "과학성적: 100\n",
            "김철수학생의 수학성적은 97점이고, 네 과목의 평균은 95.50이다.\n"
          ]
        }
      ]
    },
    {
      "cell_type": "code",
      "source": [
        "# 다음은 학생들 이름을 key로 하고, 국 영 수 과 성적을 value로 하는 딕셔너리이다.\n",
        "dic={'홍길동': [100,80,90,88], '문동이': [100,99,97,100]}\n",
        "#(1) 김철수 학생의 국영수과 성적이 98,87,97,100을 딕셔너리에 넣고,\n",
        "#(2) 학생이름을 input을 받고, 그 학생의 수학성적과 네 과목의 평균을 구하여라\n",
        "\n",
        "#출력결과: ***학생의 수학성적은 **점이고, 네 과목의 평균은 **.**이다.\n",
        "\n",
        "dic['김철수']=  [98,87,97,100]\n",
        "a= input('이름은? ')\n",
        "b=dic[a][2]                     # b나c를 앞에두지 않고 dic[a][2]먼저 정의하면 에러난다 (예: dic[a]=c) !!!!!!!!!!!!!!!!!!!!!!!!!!!!!!!!!!!!!\n",
        "c=dic[a]\n",
        "average= sum(c)/len(c) #sum 숫자가 아닌 값이 들어갔을 때는 error난다. sum([1,2])이렇게 또는 sum((1,2)) /리스트하고 튜플에서 가능 !!!!!!!!!!!!!!!!!!!!!!!!!!!!!!!!!!!!!!!!!!sum(c)/len(c)\n",
        "print(f'{a}학생의 수학성적은 {b}점이고, 네 과목의 평균은 {average:.1f}이다.')\n"
      ],
      "metadata": {
        "colab": {
          "base_uri": "https://localhost:8080/"
        },
        "id": "Sv5Lc4msfxEj",
        "outputId": "8b1f7def-3d21-4c07-f575-3be4fc84953d"
      },
      "execution_count": null,
      "outputs": [
        {
          "output_type": "stream",
          "name": "stdout",
          "text": [
            "이름은? 김철수\n",
            "김철수학생의 수학성적은 97점이고, 네 과목의 평균은 95.5이다.\n"
          ]
        }
      ]
    },
    {
      "cell_type": "code",
      "source": [
        "print(sum((1,2)))\n",
        "print(sum([1,2]))\n",
        "#print(sum(1,2)) / error난다"
      ],
      "metadata": {
        "colab": {
          "base_uri": "https://localhost:8080/"
        },
        "id": "H5TrfiePoxLX",
        "outputId": "f4d1a42e-b0da-41b4-b3cf-c197e184d195"
      },
      "execution_count": null,
      "outputs": [
        {
          "output_type": "stream",
          "name": "stdout",
          "text": [
            "3\n",
            "3\n"
          ]
        }
      ]
    },
    {
      "cell_type": "code",
      "source": [
        "dic={'홍길동': [100,80,90,88], '문동이': [100,99,97,100]}\n",
        "dic['김철수']=[98,87,97,100]\n",
        "name= input('학생이름을 적으시오:')\n",
        "total=dic[name]\n",
        "math= total[2]\n",
        "average=sum(total)/len(total) #sum ... len...\n",
        "print('%s학생의 수학성적은 %d점이고, 네 과목의 평균은 %.2f이다.' %(name,math,average))\n"
      ],
      "metadata": {
        "colab": {
          "base_uri": "https://localhost:8080/"
        },
        "id": "UuBNGZYbMqjt",
        "outputId": "58115ccb-eff0-44c8-effe-d115b2fcf7bd"
      },
      "execution_count": null,
      "outputs": [
        {
          "output_type": "stream",
          "name": "stdout",
          "text": [
            "학생이름을 적으시오:김철수\n",
            "김철수학생의 수학성적은 97점이고, 네 과목의 평균은 95.50이다.\n"
          ]
        }
      ]
    },
    {
      "cell_type": "code",
      "source": [
        "'''\n",
        "================================\n",
        "집합  자료형: 중복 불허용, 순서가 없음\n",
        "================================\n",
        "'''\n",
        "# 리스트, 문자열 => 집합  ///\n",
        "\n",
        "# set에 넣으면  {}안에 출력된다. #print(set(1,2,3)) 이렇게 바로 넣으면 오류난다.\n",
        "\n",
        "s1 = set([1,2,3]) #{1, 2, 3}\n",
        "print(s1)\n",
        "s2 = set('hello') #{'o', 'e', 'l', 'h'}  # 문자열들은 바로 넣어도 오류 안난다.\n",
        "print(s2)                        #순서가 있는 것인가?= 중복 허용 x, 순서가 없다\n",
        "\n",
        "# set => 리스트/튜플\n",
        "l1= list(s1) #[1, 2, 3]\n",
        "print(l1)\n",
        "t1 = tuple(s1) #(1, 2, 3)\n",
        "print(t1)\n",
        "print(tuple({1,2,3,1})) # (1, 2, 3) 중복 포함 안함  아니다. {} 딕셔너리 자체가 그냥 중복을 포함하지 않는다.  !!!!!!!!!!!!!!!!!\n",
        "\n",
        "\n",
        "# 교집합, 합집합, 차집합\n",
        "s1 = set([1,2,3,4,5,6,7])\n",
        "s2 = set([4,5,6,7,8,9])\n",
        "print(s1&s2) # 교집합 # {4, 5, 6, 7}\n",
        "print(s1.intersection(s2)) #{4, 5, 6, 7}                        # (s1&s2) 이거나 (s1.intersection(s2))\n",
        "\n",
        "print(s1| s2) #합집합 |은 shif \\  #{1, 2, 3, 4, 5, 6, 7, 8, 9}\n",
        "print(s1.union(s2))  #{1, 2, 3, 4, 5, 6, 7, 8, 9}               # (s1|s2) 이거나 (s1.union(s2))\n",
        "\n",
        "print(s1-s2) #차집합 #{1, 2, 3}\n",
        "print(s2-s1) #{8, 9}\n",
        "print(s1.difference(s2)) #{1, 2, 3}                             # (s1-s2) 이거나 (s1.difference(s2))\n",
        "print(s2.difference(s1)) #{8, 9}                                # (s2-s1) 이거나 (s2.difference(s1))"
      ],
      "metadata": {
        "id": "540oo3cJ5x75",
        "colab": {
          "base_uri": "https://localhost:8080/"
        },
        "outputId": "c9e458c1-3f21-41fe-cfc7-e1cb1e9bf92f"
      },
      "execution_count": null,
      "outputs": [
        {
          "output_type": "stream",
          "name": "stdout",
          "text": [
            "{1, 2, 3}\n",
            "{'o', 'e', 'h', 'l'}\n",
            "[1, 2, 3]\n",
            "(1, 2, 3)\n",
            "{4, 5, 6, 7}\n",
            "{4, 5, 6, 7}\n",
            "{1, 2, 3, 4, 5, 6, 7, 8, 9}\n",
            "{1, 2, 3, 4, 5, 6, 7, 8, 9}\n",
            "{1, 2, 3}\n",
            "{8, 9}\n",
            "{1, 2, 3}\n",
            "{8, 9}\n"
          ]
        }
      ]
    },
    {
      "cell_type": "code",
      "source": [
        "s1 = set({1,2,3})\n",
        "print(s1)\n",
        "s2 = set((2,3))\n",
        "print(s2)\n",
        "print(list({1,2,3}))\n",
        "print(tuple({1,2,3,1}))\n",
        "print(list({1,2,3,4,1,2}))\n",
        "print({1,1})"
      ],
      "metadata": {
        "colab": {
          "base_uri": "https://localhost:8080/"
        },
        "id": "tdx9Oa5MtpNf",
        "outputId": "6eb34a07-427b-460d-db9e-b684cbd36f62"
      },
      "execution_count": null,
      "outputs": [
        {
          "output_type": "stream",
          "name": "stdout",
          "text": [
            "{1, 2, 3}\n",
            "{2, 3}\n",
            "[1, 2, 3]\n",
            "(1, 2, 3)\n",
            "[1, 2, 3, 4]\n",
            "{1}\n"
          ]
        }
      ]
    },
    {
      "cell_type": "code",
      "source": [
        "# 추가/제거\n",
        "s1 = set([1,2,3])\n",
        "s1.add(4) #요소 하나만 추가할때 add\n",
        "print(s1) #{1, 2, 3, 4}\n",
        "\n",
        "#update: 요소 여러개 추가할때# ()[]{} 로 되어있는 자료 모두 추가가능\n",
        "s1.update([4,5]) #{1, 2, 3, 4, 5} #요소라서 중복된거 넣어도 하나만 남음 !!!!!!!!!!!!!!!!!!!!!!!!!!!!!!!!!!!\n",
        "print(s1)\n",
        "s1.remove(2) #{1, 3, 4, 5} # 요소 2를 제거한다.\n",
        "print(s1)\n",
        "\n",
        "print('='*50)\n",
        "## Exercise===================\n",
        "# 1. a={'A':90, 'B':80, 'C':70}에서 'B'에 해당하는 값 추출하기\n",
        "#a['B']\n",
        "a={'A':90, 'B':80, 'C':70}\n",
        "print(a['B'])\n",
        "\n",
        "b=set(a)\n",
        "print(b)\n",
        "\n",
        "print()\n",
        "# 2. a=[1, 1, 1, 2, 2, 3, 3, 3, 4, 4, 5]에서 중복 숫자 제거하고 출력하기\n",
        "a=[1, 1, 1, 2, 2, 3, 3, 3, 4, 4, 5]\n",
        "b=set(a)\n",
        "print(list(b))"
      ],
      "metadata": {
        "colab": {
          "base_uri": "https://localhost:8080/"
        },
        "id": "Yzx4kRhA619g",
        "outputId": "7151ad45-7af5-47fe-a35f-bf380d903528"
      },
      "execution_count": null,
      "outputs": [
        {
          "output_type": "stream",
          "name": "stdout",
          "text": [
            "{1, 2, 3, 4}\n",
            "{1, 2, 3, 4, 5}\n",
            "{1, 3, 4, 5}\n",
            "==================================================\n",
            "80\n",
            "{'A', 'B', 'C'}\n",
            "\n",
            "[1, 2, 3, 4, 5]\n"
          ]
        }
      ]
    },
    {
      "cell_type": "code",
      "source": [
        "a=[1, 1, 1, 2, 2, 3, 3, 3, 4, 4, 5]\n",
        "b=set(a)\n",
        "print(b)\n",
        "\n",
        "c=list(b)\n",
        "print(c)\n",
        "\n",
        "c.reverse()\n",
        "print(c)"
      ],
      "metadata": {
        "colab": {
          "base_uri": "https://localhost:8080/"
        },
        "id": "Lfoef1LT7vI4",
        "outputId": "6716e464-0dfd-4d6a-906b-bd82c2dec11e"
      },
      "execution_count": null,
      "outputs": [
        {
          "output_type": "stream",
          "name": "stdout",
          "text": [
            "{1, 2, 3, 4, 5}\n",
            "[1, 2, 3, 4, 5]\n",
            "[5, 4, 3, 2, 1]\n"
          ]
        }
      ]
    },
    {
      "cell_type": "code",
      "source": [
        "'''\n",
        "================================\n",
        "불 bool 자료형: 참(true), 거짓(false)\n",
        "================================\n",
        "'''\n",
        "print(1==1)\n",
        "print(2>=1)\n",
        "print(2<1)\n",
        "\n",
        "print('='*50)\n",
        "\n",
        "a=[1,2,3,4] #true 인동안에만 실행, # a가 정의 된 것만으로도 true/ a가 공백이거나 ()[]{} 숫자가 0 이면 False 가 된다.\n",
        "while a:\n",
        "  a.pop()\n",
        "  print(a)          #[1, 2, 3] 하고 다음에서 또 하나씩 마지막 요소가 사라짐\n",
        "\n",
        "print(a)\n",
        "\n",
        "if [1,2,3]:                                             #이거 왜 true => []안에 요소가 있기때문\n",
        "  print('true')\n",
        "else:\n",
        "  print('false')\n"
      ],
      "metadata": {
        "colab": {
          "base_uri": "https://localhost:8080/"
        },
        "id": "BXAKieY4-3Q4",
        "outputId": "fae81485-1074-45a1-fb72-73549a5ee68c"
      },
      "execution_count": null,
      "outputs": [
        {
          "output_type": "stream",
          "name": "stdout",
          "text": [
            "True\n",
            "True\n",
            "False\n",
            "==================================================\n",
            "[1, 2, 3]\n",
            "[1, 2]\n",
            "[1]\n",
            "[]\n",
            "[]\n",
            "true\n"
          ]
        }
      ]
    },
    {
      "cell_type": "code",
      "source": [
        "\n",
        "'''\n",
        "================================\n",
        "변수를 만드는 여러가지 방법\n",
        "================================\n",
        "'''\n",
        "a, b =('python', 'life')\n",
        "print(a)\n",
        "a, b ='python', 'life'\n",
        "(a,b)='python', 'life'\n",
        "\n",
        "[a,b]=['python', 'life']\n",
        "\n",
        "a=b='python'\n",
        "print(a)\n",
        "a=3; b=5;\n",
        "a,b= b,a #a와 b바꾸는 것\n",
        "print(a)\n",
        "\n",
        "\n",
        "a,b,c,d,e = 2, 'hi', 'e', 4, 1"
      ],
      "metadata": {
        "id": "PDnewMv2__DH",
        "colab": {
          "base_uri": "https://localhost:8080/"
        },
        "outputId": "dde32d6e-5d29-45c0-daf0-251223384aa7"
      },
      "execution_count": null,
      "outputs": [
        {
          "output_type": "stream",
          "name": "stdout",
          "text": [
            "python\n",
            "python\n",
            "5\n"
          ]
        }
      ]
    },
    {
      "cell_type": "code",
      "source": [
        "(a,b)='python', 'life'\n",
        "print(a)"
      ],
      "metadata": {
        "colab": {
          "base_uri": "https://localhost:8080/"
        },
        "id": "odTSjkRvq_Xd",
        "outputId": "40fcb93c-e8d3-4262-8d71-6af863b1dfdc"
      },
      "execution_count": null,
      "outputs": [
        {
          "output_type": "stream",
          "name": "stdout",
          "text": [
            "python\n"
          ]
        }
      ]
    },
    {
      "cell_type": "code",
      "source": [
        "[a,b]=['python', 'life']\n",
        "print(a)"
      ],
      "metadata": {
        "colab": {
          "base_uri": "https://localhost:8080/"
        },
        "id": "APQLm_jYrKB4",
        "outputId": "e8636f2f-bc35-49c7-c2a4-dc94f4b5376a"
      },
      "execution_count": null,
      "outputs": [
        {
          "output_type": "stream",
          "name": "stdout",
          "text": [
            "python\n"
          ]
        }
      ]
    }
  ]
}