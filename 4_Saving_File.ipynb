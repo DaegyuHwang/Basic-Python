{
  "nbformat": 4,
  "nbformat_minor": 0,
  "metadata": {
    "colab": {
      "provenance": [],
      "authorship_tag": "ABX9TyO7Firdu/jPrN9N+QJPsCUn",
      "include_colab_link": true
    },
    "kernelspec": {
      "name": "python3",
      "display_name": "Python 3"
    },
    "language_info": {
      "name": "python"
    }
  },
  "cells": [
    {
      "cell_type": "markdown",
      "metadata": {
        "id": "view-in-github",
        "colab_type": "text"
      },
      "source": [
        "<a href=\"https://colab.research.google.com/github/DaegyuHwang/Python-Basic/blob/main/4_Saving_File.ipynb\" target=\"_parent\"><img src=\"https://colab.research.google.com/assets/colab-badge.svg\" alt=\"Open In Colab\"/></a>"
      ]
    },
    {
      "cell_type": "code",
      "source": [
        "'''\n",
        "=====================================\n",
        "Connect to Google drive & setting current directory\n",
        "=====================================\n",
        "'''\n",
        "# colab에서 google drive와 연결\n",
        "\n",
        "from google.colab import drive\n",
        "drive.mount('/content/drive')\n",
        "\n",
        "import os\n",
        "os.chdir(\"/content/drive/MyDrive/2023 python/\")\n"
      ],
      "metadata": {
        "colab": {
          "base_uri": "https://localhost:8080/"
        },
        "id": "qic0biXrTfgp",
        "outputId": "3b51a3a9-33ed-43e3-ef5e-0a606dafc900"
      },
      "execution_count": null,
      "outputs": [
        {
          "output_type": "stream",
          "name": "stdout",
          "text": [
            "Mounted at /content/drive\n"
          ]
        }
      ]
    },
    {
      "cell_type": "code",
      "source": [
        "# 폴더 안에 파일 생성하기\n",
        "#\n",
        "## mkdir = make directory 한번 만들면 다음부터 에러\n",
        "\n",
        "import os\n",
        "os.mkdir('Folder')\n",
        "file_path = '/content/drive/MyDrive/2023 python/Folder/test4.txt'\n",
        "with open(os.path.join(file_path),'w') as f:\n",
        "  f.write('파일 생성하고 저장하기')"
      ],
      "metadata": {
        "id": "24OIAmcoid9U"
      },
      "execution_count": null,
      "outputs": []
    },
    {
      "cell_type": "code",
      "source": [
        "'''\n",
        "=====================================\n",
        "파일 생성하기 'w'\n",
        "=====================================\n",
        "'''\n",
        "\n",
        "# print 가 여기서는 f.write이다.\n",
        "#.txt 안해주면 파일 안열린다 읽기모드로 전환이 안되는 듯\n",
        "#역슬래시 \\ 따움표 안에서도 작동한다.프린트 하면 !!!!!!\n",
        "\n",
        "f= open('Newfile.txt', 'w')\n",
        "for i in range(1,11):\n",
        "  data = '%d번째 줄입니다.\\n'%i        #  역슬래시 안써 주면 한줄로 출력된다.\n",
        "  f.write(data)\n",
        "f.close()\n",
        "\n",
        "#================================\n",
        "#'r'은 읽기전용으로 파일을 오픈합니다. 읽기만 가능하고, 쓰기는 되지 않습니다.\n",
        "#'w' 는 쓰기 모드인데, 파일을 새로 만듭니다. 즉, 동일한 이름의 파일이 있으면 지우고 새로 작성합니다.\n",
        "#'a' 는 쓰기 모드인데, 'w' 와는 다르게 기존 파일에 내용을 이어서 작성합니다.\n",
        "# ===============================\n"
      ],
      "metadata": {
        "id": "_--qBVs4VsfJ"
      },
      "execution_count": null,
      "outputs": []
    },
    {
      "cell_type": "code",
      "source": [
        "'''\n",
        "=====================================\n",
        "파일 읽기'r'\n",
        "=====================================\n",
        "'''\n",
        "#read\n",
        "# readline 함수: 가장 첫번째 줄이 화면에 출력\n",
        "\n",
        "f = open('Newfile.txt','r')\n",
        "line = f.readline()               # f.readline 뒤에 괄호()넣어주는거 잊지 말기!\n",
        "print(line)\n",
        "f.close()\n",
        "\n",
        "# readlines 함수 :\n",
        "# 파일 내용 전체를 가져와 리스트!!!로 반환합니다. 각 줄은 문자열 형태로 리스트의 요소로 저장\n",
        "\n",
        "f = open('Newfile.txt','r')    # \\n도 ''안에 들어가서 리스트 요소에 포함되어 있다!\n",
        "lines = f.readlines()\n",
        "print(lines)\n",
        "f.close()\n",
        "    # 한줄씩 출력하는 방법 2가지\n",
        "f = open('Newfile.txt','r')\n",
        "for i in f:\n",
        "  print(i)\n",
        "f.close()\n",
        "\n",
        "f= open('Newfile.txt','r')\n",
        "g=f.readlines()\n",
        "for i in g:\n",
        "  print(i)\n",
        "f.close()\n",
        "\n",
        "# read 함수: 한꺼번에 읽기\n",
        "# 파일 내용 전체를 가져와 문자열로 반환/ 각각의 줄은 '\\n' 문자로 구분되어진거다\n",
        "\n",
        "f = open('Newfile.txt','r')\n",
        "data=f.read()\n",
        "print(data)\n",
        "f.close()\n",
        "\n"
      ],
      "metadata": {
        "id": "eQCJ0XbOW7W6"
      },
      "execution_count": null,
      "outputs": []
    },
    {
      "cell_type": "code",
      "source": [
        "'''\n",
        "=====================================\n",
        "파일 내용 추가 'a'\n",
        "=====================================\n",
        "'''\n",
        "f = open('Newfile.txt','a') # 추가 모드\n",
        "for i in range(11,20):\n",
        "  data = '%d번째 줄입니다.\\n'%i\n",
        "  f.write(data)\n",
        "f.close()\n",
        "\n",
        "##random.sample(sequencee, k)\n",
        "#sequence에서는 random의 범위 ! (range 같이 !!) , k는 반환될 리스트 크기 !( 요소의 개수 )\n",
        "# random.sample !!!!!!!!!!!\n",
        "# w or a 사용할 때 항상    str상태 + 끝에 \\n 확인    !!!!!!!!!!!!!!!!!\n",
        "import random\n",
        "\n",
        "f = open('lotto.txt', 'a')\n",
        "num = input(\"횟수를 입력해주세요 :\")\n",
        "\n",
        "for i in range(int(num)):             #int 안해주면 오류난다. input이 float로 받아서 그런 것 같다\n",
        "  lotto= random.sample(range(1,46),6)\n",
        "  print(lotto)\n",
        "  f.write(str(lotto)+'\\n')            # 엔터 \\n을 넣어주기 위해서 str과의 덧셈을 해준다.\n",
        "f.close()"
      ],
      "metadata": {
        "colab": {
          "base_uri": "https://localhost:8080/"
        },
        "id": "XClqODf0YY6Z",
        "outputId": "b2f6ee2b-6594-4ca6-85b8-30f856e9fb0a"
      },
      "execution_count": null,
      "outputs": [
        {
          "output_type": "stream",
          "name": "stdout",
          "text": [
            "횟수를 입력해주세요 :4\n",
            "[22, 17, 29, 43, 14, 25]\n",
            "[32, 30, 33, 27, 22, 3]\n",
            "[22, 32, 37, 18, 7, 12]\n",
            "[44, 15, 30, 22, 31, 6]\n"
          ]
        }
      ]
    },
    {
      "cell_type": "code",
      "source": [
        "#=================================\n",
        "# with 문 사용하기\n",
        "#close 안써도 된다.\n",
        "\n",
        "#f = open('Newfile2.txt', 'w')\n",
        "#f.write('life is beautiful.')\n",
        "#f.close()\n",
        "\n",
        "with open('Newfile2.txt', 'w') as f:\n",
        "  for i in range(3):\n",
        "    f.write(f'{i}. life is beautiful.\\n')\n",
        "\n",
        "#===================================\n",
        "\n",
        "## Exercise: with 사용\n",
        "\n",
        "with open('Newfile2.txt', 'r') as f:\n",
        "#  line = f.readline()\n",
        "#  print(line)\n",
        "#  lines = f.readlines()\n",
        "#  for line in lines:\n",
        "#    print(line)\n",
        "  data = f.read()\n",
        "  print(data)\n",
        "\n",
        "# 내용추가\n",
        "with open('Newfile2.txt', 'a') as f:\n",
        "  f.write('enjoy your life.\\n')"
      ],
      "metadata": {
        "colab": {
          "base_uri": "https://localhost:8080/"
        },
        "id": "tFZuTb_MaoUg",
        "outputId": "d129f7ff-a3a0-44f1-b137-bb49e2a49f19"
      },
      "execution_count": null,
      "outputs": [
        {
          "output_type": "stream",
          "name": "stdout",
          "text": [
            "0. life is beautiful.\n",
            "1. life is beautiful.\n",
            "2. life is beautiful.\n",
            "\n"
          ]
        }
      ]
    },
    {
      "cell_type": "code",
      "source": [
        "a='가나,80,170\\n'\n",
        "name = a.strip().split(',')\n",
        "print(name)"
      ],
      "metadata": {
        "colab": {
          "base_uri": "https://localhost:8080/"
        },
        "id": "XCK6JWzzoT5_",
        "outputId": "2ef841a1-2381-4963-a965-2ea9af7aa52e"
      },
      "execution_count": null,
      "outputs": [
        {
          "output_type": "stream",
          "name": "stdout",
          "text": [
            "['가나', '80', '170']\n"
          ]
        }
      ]
    },
    {
      "cell_type": "code",
      "source": [
        "#========================================================\n",
        "# 예제: 랜덤하게 100명의 키와 몸무게 만들기# 나누기\n",
        "import random\n",
        "# random.choice()                 원소 하나 뽑아주는 것 # 뽑을 때 마다 변하므로 for 안에 넣어줘야함\n",
        "# random.randrange(시작, 미만)    하나 뽑아주는 것\n",
        "\n",
        "hangle = list(\"가나다라마바사아자차카타파하\")\n",
        "\n",
        "with open(\"Newfile3.txt\", \"w\") as f:\n",
        "  for i in range(10):\n",
        "    name=random.choice(hangle)+random.choice(hangle)\n",
        "    weight = random.randrange(40,80)\n",
        "    height = random.randrange(140,200)\n",
        "    f.write('{},{},{}\\n'.format(name,weight,height))\n",
        "# 예제: 파일 한줄씩 읽기\n",
        "\n",
        "# readline 쓰는게 아니라 바로 f 로 받아온다. readlines 쓰면 리스트 안에 있어서 변형을 못시킨다. 하지만 f쓰면 ''안에있는 형태라서 변형가능!!!!!!!!!!\n",
        "# in f 하면 뭐가 나오는거지? f에는 뭐가 들어있나????? 한 라인씩 리스트 형태로\n",
        "#세개의 문자열(이름, 몸무게,키)로 구성된 list !!! # strip으로 \\n 없앤다. # 왜 튜플이지????\n",
        "\n",
        "with open(\"Newfile3.txt\", \"r\") as f:\n",
        "  for line in f:\n",
        "    (name, weight, height) = line.strip().split(',')\n",
        "    if (not name) or (not weight) or (not height):\n",
        "      continue\n",
        "    bmi = int(weight)/((int(height)/100)**2)     # int !!!!!!!\n",
        "    if bmi >= 25:\n",
        "      result = '과체중'\n",
        "    elif bmi >= 18.5:\n",
        "      result = '정상체중'\n",
        "    else:\n",
        "      result = '저체중'\n",
        "    print('\\n'.join(['이름:{}', '몸무게: {}', '키: {}', 'BMI: {}', '결과: {}']).format(name,weight,height,bmi,result))\n",
        "    print()    # 중요하다 !!!! # 문단 나눠주는 역할"
      ],
      "metadata": {
        "id": "X1_KhBwQfk3o"
      },
      "execution_count": null,
      "outputs": []
    },
    {
      "cell_type": "code",
      "source": [
        "#\n",
        "# CSV란, Comma-seperated values의 줄임말로, 쉼표로 정보가 구분되어져 있는 파일을 의미함.\n",
        "# CSV는 정보가 콤마로 구분되어져 있다는 개념 뿐이고 실제로 CSV이지만 .csv가 아닌.txt로 저장되어 있는 경우도 종종 있음.\n",
        "# 엑셀이 깔려져 있는 컴퓨터에서는 .csv파일들을 엑셀로 기본으로 보여줌\n",
        "#\n",
        "\n",
        "import csv\n",
        "\n",
        "# 파일 쓰기 ============================ # 데이터를 행렬과 같이 만들어야 한다 아래와 같이\n",
        "data = [\n",
        "    ['id', 'name', 'price', 'amount'],\n",
        "    ['1', 'apple', '5000', '5'],\n",
        "    ['2', 'pencil', '500', '42'],\n",
        "    ['3', 'pineapple', '8000', '5'],\n",
        "    ['4', 'pen', '1500', '10']\n",
        "]\n",
        "\n",
        "# writerows(), ()안에 리스트 (즉 data) 들어가야 한다 # wirterow만 하면 하나의 row에 이 모든게  들어간다\n",
        "\n",
        "f = open(\"data.csv\", \"w\")\n",
        "g = csv.writer(f)\n",
        "g.writerows(data)\n",
        "f.close()\n",
        "\n",
        "f=open('data.csv','r')\n",
        "g=csv.DictReader(f)\n",
        "print(list(g))"
      ],
      "metadata": {
        "id": "E4b8s1-mkXpu",
        "colab": {
          "base_uri": "https://localhost:8080/"
        },
        "outputId": "d6d31e92-61b2-4e20-9bb7-0c65f8c807da"
      },
      "execution_count": null,
      "outputs": [
        {
          "output_type": "stream",
          "name": "stdout",
          "text": [
            "[{'id': '1', 'name': 'apple', 'price': '5000', 'amount': '5'}, {'id': '2', 'name': 'pencil', 'price': '500', 'amount': '42'}, {'id': '3', 'name': 'pineapple', 'price': '8000', 'amount': '5'}, {'id': '4', 'name': 'pen', 'price': '1500', 'amount': '10'}]\n"
          ]
        }
      ]
    },
    {
      "cell_type": "code",
      "source": [
        "# 파일 읽기 ==============================\n",
        "#for문으로 reader를 읽어들이면 각 행을 콤마로 구분한 리스트로 불러옴\n",
        "\n",
        "f = open(\"data.csv\", \"r\")\n",
        "g = csv.reader(f)\n",
        "for row in g:\n",
        "  print(row)\n",
        "print()\n",
        "\n",
        "# data 변수에는 2차원의 리스트로 저장\n",
        "# g에 list 안붙여주면 값 안나온다 !!!!!!! g는 무슨형태 인가 ? => 겉은 모르지만 요소들은 리스트 형태로 되어 있다.\n",
        "\n",
        "f = open(\"data.csv\", \"r\")\n",
        "g = csv.reader(f)\n",
        "data = list(g)\n",
        "print(data)\n",
        "\n",
        "# 파일 추가 ==============================\n",
        "# 한개의 row 추가시에는 그냥 g.writerow([])\n",
        "# 두개 이상의 row 추가시 g.writerows([[],[]]) # 리스트 안에 리스트들을 넣어서 !!\n",
        "\n",
        "f = open(\"data.csv\", \"a\")\n",
        "g = csv.writer(f)\n",
        "g.writerow(['5','banana','2000','5'])\n",
        "f.close()\n",
        "\n",
        "f=open('data.csv','a')\n",
        "g=csv.writer(f)\n",
        "g.writerows([['10','baadsnana','2000','5'],['00','banadna','20800','5']])\n",
        "f.close()"
      ],
      "metadata": {
        "colab": {
          "base_uri": "https://localhost:8080/"
        },
        "id": "jfM8wb57m5q-",
        "outputId": "bcf11957-af3f-42be-97a5-d76d9c288d1c"
      },
      "execution_count": null,
      "outputs": [
        {
          "output_type": "stream",
          "name": "stdout",
          "text": [
            "['id', 'name', 'price', 'amount']\n",
            "['1', 'apple', '5000', '5']\n",
            "['2', 'pencil', '500', '42']\n",
            "['3', 'pineapple', '8000', '5']\n",
            "['4', 'pen', '1500', '10']\n",
            "\n",
            "[['id', 'name', 'price', 'amount'], ['1', 'apple', '5000', '5'], ['2', 'pencil', '500', '42'], ['3', 'pineapple', '8000', '5'], ['4', 'pen', '1500', '10']]\n"
          ]
        }
      ]
    },
    {
      "cell_type": "code",
      "source": [
        "##  dictionary 형태로 주어진 파일 쓰고 읽기 ==========================\n",
        "'''\n",
        "# 위 방법들의 단점은 각 행이 리스트로 표현되다 보니 각 행별로 뜯어서 보면 몇번째 항목이 무슨 항목을 의미하는 것인지 직관적으로 알 수 없다\n",
        "# 만약, 데이터를 알기 쉽게 딕셔너리의 형태로 제공했다면?\n",
        "[\n",
        "    {'id': '1', 'name': 'apple', 'price': '5000', 'amount': '5'},\n",
        "    {'id': '2', 'name': 'pencil', 'price': '500', 'amount': '42'},\n",
        "    {'id': '3', 'name': 'pineapple', 'price': '8000', 'amount': '5'},\n",
        "    {'id': '4', 'name': 'pen', 'price': '1500', 'amount': '10'}\n",
        "]\n",
        "'''\n",
        "## ===================================================================\n",
        "\n",
        "# 파일 쓰기 ======================================================\n",
        "# 파일을 쓸 때에도, csv.writer를 쓸 때와 비슷하지만 fieldnames (key 값)를 DictWriter를 불러올 때 인자로 같이 넘겨주어야 함\n",
        "# csv import해줘야함\n",
        "# 기존 리스트랑 다른점 g=csv.DictWriter(f,fieldnames = keys) # fieldnames 추가해주는거 잊지말자 !!!!!!!!!!!\n",
        "# g.writeheader() 이 부분이 없으면 파일을 저장할때 항목이름이 작성이 안됨!!\n",
        "#   ==> 첫번째 행에 행이 무엇을 나타내는지 보여주는 것 # key 값들을 넣어준다고 생각\n",
        "\n",
        "import csv\n",
        "keys = ['id', 'name', 'price', 'amount']\n",
        "data = [\n",
        "    {'id': '1', 'name': 'apple', 'price': '5000', 'amount': '5'},\n",
        "    {'id': '2', 'name': 'pencil', 'price': '500', 'amount': '42'},\n",
        "    {'id': '3', 'name': 'pineapple', 'price': '8000', 'amount': '5'},\n",
        "    {'id': '4', 'name': 'pen', 'price': '1500', 'amount': '10'}\n",
        "]\n",
        "\n",
        "\n",
        "f = open(\"data2.csv\", \"w\")\n",
        "g = csv.DictWriter(f, fieldnames=keys)\n",
        "g.writeheader()\n",
        "g.writerows(data)\n",
        "f.close()\n",
        "\n",
        "#with open(\"data2.csv\", \"w\") as f:\n",
        "#  g = csv.DictWriter(f, fieldnames=keys)\n",
        "#  g.writeheader()\n",
        "#  g.writerows(data\n"
      ],
      "metadata": {
        "id": "zLZoL12Io8pc"
      },
      "execution_count": null,
      "outputs": []
    },
    {
      "cell_type": "code",
      "source": [
        "# 파일 읽기 =======================\n",
        "f = open(\"data2.csv\", \"r\")\n",
        "g = csv.DictReader(f)\n",
        "for row in g:  #밑에 result랑 둘 중 하나만 실행된다\n",
        "  print(row)\n",
        "\n",
        "#result= list(g)\n",
        "#print(result)\n",
        "#f.close()\n",
        "\n",
        "with open(\"data2.csv\", \"r\") as f:\n",
        "  g = csv.DictReader(f)\n",
        "  #for row in g:  #밑에 result랑 둘 중 하나만 실행된다\n",
        "  #  print(row)\n",
        "  result= list(g)\n",
        "  print(result)\n",
        "\n",
        "#keys = ['id', 'name', 'price', 'amount']\n",
        "\n",
        "\n",
        "# 파일 추가  =======================\n",
        "\n",
        "# g.DictWriter(f, fieldnames = keys) 에서 keys에 처음 입력한 문자 그대로 넣어줘야 한다 !!!!!!!!!!!!!!!!!!!!!!!!!\n",
        "# g.writeheader() 필요없다\n",
        "# 한줄추가시 ==> g.writerow({})         # 딕셔너리 하나만 넣어주면 된다 !!!!!!\n",
        "# 두줄이상   ==> 추가시 g.writerows([{},{}]) #리스트 안에 딕셔너리들을 넣어서 추가해줘야 한다 !!!!!!\n",
        "\n",
        "f = open(\"data2.csv\", \"a\")\n",
        "g = csv.DictWriter(f,fieldnames=keys)\n",
        "g.writerow({'id': '1', 'name': 'apple', 'price': '5000', 'amount': '5'})\n",
        "g.writerows([{'id': '1', 'name': 'apple', 'price': '5000', 'amount': '5'}, {'id': '4', 'name': 'pen', 'price': '1500', 'amount': '10'}])\n",
        "f.close()\n"
      ],
      "metadata": {
        "id": "2zrZU9-G5y_t",
        "colab": {
          "base_uri": "https://localhost:8080/"
        },
        "outputId": "9fbfbef1-8a85-4b3f-e7cd-433d8220f5e4"
      },
      "execution_count": null,
      "outputs": [
        {
          "output_type": "stream",
          "name": "stdout",
          "text": [
            "{'id': '1', 'name': 'apple', 'price': '5000', 'amount': '5'}\n",
            "{'id': '2', 'name': 'pencil', 'price': '500', 'amount': '42'}\n",
            "{'id': '3', 'name': 'pineapple', 'price': '8000', 'amount': '5'}\n",
            "{'id': '4', 'name': 'pen', 'price': '1500', 'amount': '10'}\n",
            "[{'id': '1', 'name': 'apple', 'price': '5000', 'amount': '5'}, {'id': '2', 'name': 'pencil', 'price': '500', 'amount': '42'}, {'id': '3', 'name': 'pineapple', 'price': '8000', 'amount': '5'}, {'id': '4', 'name': 'pen', 'price': '1500', 'amount': '10'}]\n"
          ]
        }
      ]
    },
    {
      "cell_type": "code",
      "source": [
        "## Exercise ====================================== ## 평균\n",
        "import csv\n",
        "\n",
        "keys = ['id', 'kor', 'eng', 'math']\n",
        "data = [\n",
        "    {'id': '1', 'kor': '80', 'eng': '90', 'math': '95'},          #vaule값 숫자로는 못들어간다. 다 str이어야지 파일안에 넣을 수 있다.\n",
        "    {'id': '2', 'kor': '50', 'eng': '80', 'math': '92'},\n",
        "    {'id': '3', 'kor': '70', 'eng': '80', 'math': '85'},\n",
        "    {'id': '4', 'kor': '90', 'eng': '90', 'math': '90'}\n",
        "]\n",
        "\n",
        "#print(data[0])# data 안에 4개의 성분이 있다\n",
        "#print(data[0]['kor']) #dic 성분 가지고 오는 것\n",
        "#average = (float(data[0]['kor'])+float(data[0]['eng'])+float(data[0]['math']))/3 # 문자상태이기에 Float해줘야함 !!!!!!!!!!!!!!!!\n",
        "#data[0]['average']= str(round(average,2)) # dic에 key 값 추가하는 것\n",
        "# round(a,b) a의 소수점 b자리까지 나타내는 것 의미 b+1은 반올림해야함\n",
        "\n",
        "#if 사용해서  grade 도 dic에 넣는거 해보기\n",
        "\n",
        "\n",
        " ## (1) data4.csv 파일 만들기/읽기\n",
        "with open(\"data4.csv\", \"w\") as f:\n",
        "  g = csv.DictWriter(f, fieldnames=keys)\n",
        "  g.writeheader()\n",
        "  g.writerows(data)\n",
        "\n",
        "\n",
        "with open(\"data4.csv\", \"r\") as f:\n",
        "  g = csv.DictReader(f)\n",
        "  result= list(g)\n",
        "  print(result)\n",
        "\n",
        "# str 해서 넣어줘야 한다 !!!!!!!!!!!!=> 파일안에 넣으려면 원칙 !\n",
        "# r로 읽어와서 딕셔너리에 추가하기 !!!!!\n",
        "\n",
        "f=open('data4.csv','r')\n",
        "g=csv.DictReader(f)\n",
        "data=list(g)\n",
        "for i in data:\n",
        "  average= (float(i['kor'])+float(i['eng'])+float(i['math']))/3\n",
        "  i['avg']=str(round(average,2))\n",
        "print(data)"
      ],
      "metadata": {
        "colab": {
          "base_uri": "https://localhost:8080/"
        },
        "id": "ahicPWMfiveT",
        "outputId": "9b773ded-b00e-49ab-f895-d32e7afd7fb3"
      },
      "execution_count": null,
      "outputs": [
        {
          "output_type": "stream",
          "name": "stdout",
          "text": [
            "[{'id': '1', 'kor': '80', 'eng': '90', 'math': '95'}, {'id': '2', 'kor': '50', 'eng': '80', 'math': '92'}, {'id': '3', 'kor': '70', 'eng': '80', 'math': '85'}, {'id': '4', 'kor': '90', 'eng': '90', 'math': '90'}]\n",
            "[{'id': '1', 'kor': '80', 'eng': '90', 'math': '95', 'avg': '88.33'}, {'id': '2', 'kor': '50', 'eng': '80', 'math': '92', 'avg': '74.0'}, {'id': '3', 'kor': '70', 'eng': '80', 'math': '85', 'avg': '78.33'}, {'id': '4', 'kor': '90', 'eng': '90', 'math': '90', 'avg': '90.0'}]\n"
          ]
        }
      ]
    },
    {
      "cell_type": "code",
      "source": [
        "keys = ['id', 'kor', 'eng', 'math']\n",
        "data = [\n",
        "    {'id': '1', 'kor': '80', 'eng': '90', 'math': '95'},\n",
        "    {'id': '2', 'kor': '50', 'eng': '80', 'math': '92'},\n",
        "    {'id': '3', 'kor': '70', 'eng': '80', 'math': '85'},\n",
        "    {'id': '4', 'kor': '90', 'eng': '90', 'math': '90'}\n",
        "]\n",
        "\n",
        "import csv\n",
        "f=open('prac.csv','w')\n",
        "g=csv.DictWriter(f,fieldnames=keys)\n",
        "g.writeheader()\n",
        "g.writerows(data)\n",
        "f.close()\n",
        "\n",
        "for i in range(len(data)):\n",
        "  average=(float(data[i]['kor'])+float(data[i]['eng'])+float(data[i]['math']))/3\n",
        "  data[i]['average']=str(round(average,2))\n",
        "  if average >= 90:\n",
        "    data[i]['grade']='A'\n",
        "  elif average >=70:\n",
        "    data[i]['grade']='B'\n",
        "  else:\n",
        "    data[i]['grade']='c'\n",
        "\n",
        "# key 값 다르게 추가하면 // 기존의 값 아래에 key값부터 다시 출력된다 이어서 !\n",
        "\n",
        "\n",
        "keys= ['id', 'kor', 'eng', 'math','average','grade']\n",
        "with open('prac.csv','a') as f:\n",
        "  g=csv.DictWriter(f,fieldnames=keys)\n",
        "  g.writeheader()\n",
        "  g.writerows(data)\n"
      ],
      "metadata": {
        "id": "7jQutnBqh4vS"
      },
      "execution_count": null,
      "outputs": []
    },
    {
      "cell_type": "code",
      "source": [
        "f=open('data4.csv','r') ## 최종\n",
        "g=csv.DictReader(f)\n",
        "h=list(g)\n",
        "f.close()\n",
        "\n",
        "# DictReader 하면 딕셔너리로 나오고 #reader하면 리스트로 나온다 key까지 !!!!!!!!!!!!!!!!!!!!!!!!!\n",
        "for i in h:\n",
        "  average = (float(i['kor'])+float(i['eng'])+float(i['math']))/3\n",
        "  i['average']=str(round(average,2))\n",
        "print(h)\n",
        "\n",
        "keys = ['id', 'kor', 'eng', 'math','average']\n",
        "f=open('data4.csv','w')\n",
        "g=csv.DictWriter(f,fieldnames = keys)\n",
        "g.writeheader()\n",
        "g.writerows(h)\n",
        "f.close()\n",
        "\n",
        "# 리스트일경우\n"
      ],
      "metadata": {
        "colab": {
          "base_uri": "https://localhost:8080/"
        },
        "id": "B-I-ikx23_lA",
        "outputId": "da2055ee-ad3b-4554-cff8-69cda25af8ae"
      },
      "execution_count": null,
      "outputs": [
        {
          "output_type": "stream",
          "name": "stdout",
          "text": [
            "[{'id': '1', 'kor': '80', 'eng': '90', 'math': '95', 'average': '88.33'}, {'id': '2', 'kor': '50', 'eng': '80', 'math': '92', 'average': '74.0'}, {'id': '3', 'kor': '70', 'eng': '80', 'math': '85', 'average': '78.33'}, {'id': '4', 'kor': '90', 'eng': '90', 'math': '90', 'average': '90.0'}]\n"
          ]
        }
      ]
    },
    {
      "cell_type": "code",
      "source": [
        "'''\n",
        "=====================================================\n",
        "Module (모듈): 함수, 변수, 클래스를 모아 놓은 파일\n",
        "====================================================\n",
        "'''\n",
        "# module: math =====================================================\n",
        "import math     #sin  이랑 등등 들어있다\n",
        "\n",
        "print(math.sin(1))\n",
        "print(math.cos(1))\n",
        "print(math.ceil(1.5)) #올림 #2\n",
        "print(math.floor(1.5)) #내림 #1\n",
        "\n",
        "# round는 정수가 홀수일때 올리고, 정수부분이 짝수일때 내림.\n",
        "# round는 반올림함수가 아님=> 사용할 일이 거의 없음\n",
        "\n",
        "print(round(1.5)) #2  # .5일때만 그런다 !! 아에 정수로 올릴때 ceil이나 floor을 쓴다. 아니라 2번째 자리까지 올릴때는  round\n",
        "print(round(2.5)) #2\n",
        "\n",
        "\n",
        "\n",
        "# from 모듈이름 import 가져오고 싶은 함수 또는 변수 # 그럼 굳이 math 를 안써도 된다.\n",
        "from math import sin, cos, tan, floor, ceil\n",
        "print(sin(1))\n",
        "print(cos(1))\n",
        "print(ceil(1.5)) #올림 #2\n",
        "print(floor(1.5)) #내림 #1\n",
        "\n",
        "# from 모듈이름import * (모듈 내부의 모든 것을 가져온다) 하지만 밑에줄과 같은 한계봉착한다.\n",
        "#=> 식별자 이름에서 충돌 발생할 수 있음\n",
        "#=> 최대한 필요한 것만 가져와서 사용하는 것이 좋음\n",
        "\n",
        "\n",
        "\n",
        "# import 모듈이름 as 사용하고 싶은 식별자\n",
        "import math as m\n",
        "print(m.sin(1))\n",
        "print(m.cos(1))\n",
        "print(m.ceil(1.5)) #올림 #2\n",
        "print(m.floor(1.5)) #내림 #1\n"
      ],
      "metadata": {
        "colab": {
          "base_uri": "https://localhost:8080/"
        },
        "id": "UGcDhDcmX8SG",
        "outputId": "c05c0af0-b1fb-45f3-f0b0-c1a972ec53c1"
      },
      "execution_count": null,
      "outputs": [
        {
          "output_type": "stream",
          "name": "stdout",
          "text": [
            "0.8414709848078965\n",
            "0.5403023058681398\n",
            "2\n",
            "1\n",
            "2\n",
            "2\n"
          ]
        }
      ]
    },
    {
      "cell_type": "code",
      "source": [
        "from math import sin, cos, ceil,floor, pi\n",
        "print(sin(pi/2))\n",
        "print(cos(0))\n",
        "print(ceil(1.3))\n",
        "print(floor(1.7))"
      ],
      "metadata": {
        "colab": {
          "base_uri": "https://localhost:8080/"
        },
        "id": "O5TKf5DRz_uB",
        "outputId": "236bacf4-b42f-446c-9512-c857f3937f4a"
      },
      "execution_count": null,
      "outputs": [
        {
          "output_type": "stream",
          "name": "stdout",
          "text": [
            "1.0\n",
            "1.0\n",
            "2\n",
            "1\n"
          ]
        }
      ]
    },
    {
      "cell_type": "code",
      "source": [
        "\n",
        "# module: random ========================================랜덤==\n",
        "import random as rn\n",
        "\n",
        "# random(): 0<=x<1 사이의 float을 리턴 #아무값\n",
        "print(rn.random())\n",
        "\n",
        "# uniform(min, max): 지정한 범위 사이의 float을 리턴\n",
        "print(rn.uniform(0,10))\n",
        "\n",
        "# randrange(): 지정한 범위의 int를 리턴 # randrange(시작, 미만, 간격)\n",
        "print(rn.randrange(0,10))\n",
        "\n",
        "# choice(list): 리스트 내부 요소를 랜덤하게 선택\n",
        "print(rn.choice([1,2,3,4,5]))\n",
        "\n",
        "# shuffle(list): 리스트 내부 요소를 랜덤하게 섞음\n",
        "a=[1,2,3,4,5]\n",
        "rn.shuffle(a)\n",
        "print(a)\n",
        "\n",
        "# sample(list, k=숫자): 리스트 요소 중에서 k개를 뽑음 # 리스트로 출력 !!!\n",
        "print(rn.sample([1,2,3,4,5],2))\n",
        "\n",
        "from random import random, uniform, randrange, choice, shuffle, sample # 다불러오면 rn 없이 다 실행할 수 있다는 것\n"
      ],
      "metadata": {
        "colab": {
          "base_uri": "https://localhost:8080/"
        },
        "id": "QbD_oX7IZxo7",
        "outputId": "1775af94-10fc-4224-812b-fea51986baf9"
      },
      "execution_count": null,
      "outputs": [
        {
          "output_type": "stream",
          "name": "stdout",
          "text": [
            "0.8610799319874998\n",
            "2.4752182723166047\n",
            "2\n",
            "4\n",
            "[1, 4, 3, 5, 2]\n",
            "[1, 5]\n"
          ]
        }
      ]
    },
    {
      "cell_type": "code",
      "source": [
        "import random as rn\n",
        "print(rn.random())\n",
        "print(rn.uniform(1,10))\n",
        "print(rn.randrange(1,10))\n",
        "print(rn.choice([1,2,3]))\n",
        "\n",
        "a=[1,2,3]\n",
        "rn.shuffle(a)\n",
        "print(a)\n",
        "print(rn.sample(a,2))"
      ],
      "metadata": {
        "colab": {
          "base_uri": "https://localhost:8080/"
        },
        "id": "7xzFviHr07rv",
        "outputId": "4cc18e14-6c26-4b86-acd1-1f5c7cae6bde"
      },
      "execution_count": null,
      "outputs": [
        {
          "output_type": "stream",
          "name": "stdout",
          "text": [
            "0.9385003982746933\n",
            "6.912490128494313\n",
            "4\n",
            "1\n",
            "[1, 3, 2]\n",
            "[3, 2]\n"
          ]
        }
      ]
    },
    {
      "cell_type": "code",
      "source": [
        "# module: os ============================================================\n",
        "# colab에서 google drive와 연결  # 폴더제거\n",
        "from google.colab import drive\n",
        "drive.mount('/content/drive')\n",
        "\n",
        "import os\n",
        "os.chdir(\"/content/drive/MyDrive/2023 python/\") #디렉토리 위치 변경\n",
        "\n",
        "print(os.name)      #현재 운영제체 (포직스, 이식형 운영체계 인터페이스) #나는 posix\n",
        "print(os.getcwd())  #현재 폴더(디렉터리) #알려준다\n",
        "print(os.listdir()) #현재 폴더 내부요소/ listdir(path)\n",
        "\n",
        "\n",
        "# 폴더 제거하고 만들기\n",
        "#os.mkdir('New_folder') # 만들기\n",
        "#os.remove('3/test4.txt')    # 안에있는 파일 먼저 지운다음에 폴더를 지울 수 있다 !!!!! ('폴더이름 / 파일이름')\n",
        "#os.rmdir('3') # 지우기 # 두개 동시에 하면 에러난다.  #remove directory\n",
        "\n"
      ],
      "metadata": {
        "colab": {
          "base_uri": "https://localhost:8080/"
        },
        "id": "IMBO_PCAbq-a",
        "outputId": "2c49fc7c-6a23-48fe-fc20-2efc93195a9f"
      },
      "execution_count": null,
      "outputs": [
        {
          "output_type": "stream",
          "name": "stdout",
          "text": [
            "Drive already mounted at /content/drive; to attempt to forcibly remount, call drive.mount(\"/content/drive\", force_remount=True).\n",
            "posix\n",
            "/content/drive/MyDrive/2023 python\n",
            "['1 .ipynb', '2 (조건문).ipynb', 'data.csv', 'nnew.csv', 'data2.csv', 'prac.csv', 'data4.csv', '3 (그래프).ipynb', '1.txt', 'score.csv', 'score1.csv', '연습장.ipynb', '4 (파일 저장하기).ipynb', 'New_folder0', 'Folder1', 'New_folder']\n"
          ]
        }
      ]
    },
    {
      "cell_type": "code",
      "source": [
        "# 파일을 생성하고 파일 이름을 변경 #파일폴더\n",
        "with open('test10.txt','w') as f:\n",
        "  f.write('지금은 테스트중 입니다.')\n",
        "\n",
        "os.rename('test10.txt','new.txt') #이름변경\n",
        "\n",
        "\n",
        "# 파일 제거하기 # 이름변경\n",
        "os.remove('new.txt')\n",
        "#os.unlink('new.txt') #어느 것을 사용해도 무방함\n",
        "\n",
        "####### 현재 디렉터리를 읽어들이고 파일인지 디렉터리(폴더)인지 구분하기\n",
        "# output은 리스트 형태 # path 는 고정이다 !!!!!!!\n",
        "# is dir? dir인가를 묻는다 #디렉토리 !!!!!!\n",
        "# 파일과 폴더 둘 중 하나이다.\n",
        "\n",
        "output = os.listdir()\n",
        "for i in output:\n",
        "  if os.path.isdir(i):\n",
        "    print('폴더:', i)\n",
        "  else:\n",
        "    print('파일:', i)\n",
        "\n",
        "\n",
        "print()\n",
        "#폴더의 요소읽어들이기\n",
        "def reader_folder(path):\n",
        "  output = os.listdir(path)\n",
        "  for i in output:\n",
        "    if os.path.isdir(i):\n",
        "      reader_folder(i) # 재귀함수 !!!!!\n",
        "    else:\n",
        "      print('파일:', i)\n",
        "\n",
        "reader_folder('.') # 현재 dir 집어넣는 것 !!!!!!!!!!!!!!!!!!!!\n",
        "\n",
        "os.mkdir('newfloder')\n",
        "#os.mkdir('New_folder')\n",
        "#file_path = \"/content/drive/MyDrive/2023 python/New_folder0/test11.txt\"\n",
        "#with open(os.path.join(file_path),'w') as f:\n",
        "#  f.write(' 아이 신나 ')"
      ],
      "metadata": {
        "id": "a9tO0oAMcvIK"
      },
      "execution_count": null,
      "outputs": []
    },
    {
      "cell_type": "code",
      "source": [
        "\n",
        "# module: urllib 모듈 =======================================================\n",
        "from urllib import request\n",
        "\n",
        "# urlopen()함수로 링크 열기\n",
        "target = request.urlopen('https://google.com')\n",
        "output = target.read()\n",
        "print(output)\n",
        "\n",
        "print()\n",
        "# BeautifluSoup ==========================================\n",
        "## Beautiful Soup is a Python library for pulling data\n",
        "## out of HTML and XML files.\n",
        "\n",
        "from urllib import request\n",
        "from bs4 import BeautifulSoup\n",
        "\n",
        "# urlopen() 함수로 기상청의 전국날씨 읽기\n",
        "target = request.urlopen('https://www.kma.go.kr/weather/forecast/mid-term-rss3.jsp?stnId=108')\n",
        "# BeautifulSoup을 사용해 웹 페이지를 분석 (parser: 문장의 구조 분석·오류 점검 프로그램) #parser: html 분해 분석한다는 뜻\n",
        "soup = BeautifulSoup(target, 'html.parser')\n",
        "\n",
        "# location 태그를 찾음/ select() 함수는 여러개를 선택/ select_one() 함수는 원하는 값을 추출\n",
        "for location in soup.select('location'):\n",
        "  print('도시:', location.select_one('city').string) #문자열로 바꾸는 것  .string\n",
        "  print('날씨:', location.select_one('wf').string)\n",
        "  print('최저기온:', location.select_one('tmn').string)\n",
        "  print('최고기온:', location.select_one('tmx').string)\n",
        "#  print('시간:', location.select_one('tmEf').string)\n",
        "  print()\n",
        "\n",
        "\n",
        "# Exercise: csv 파일로 저정해보기\n",
        "\n",
        "\n",
        "data=[]\n",
        "Keys=['도시','날씨','최저','최고']\n",
        "data.append(Keys)\n",
        "n=0\n",
        "for location in soup.select('location'):\n",
        "  row=[]\n",
        "  row.append(location.select_one('city').string)\n",
        "  row.append(location.select_one('wf').string)\n",
        "  row.append(location.select_one('tmn').string )\n",
        "  row.append(location.select_one('tmx').string)\n",
        "  data.append(row)\n",
        "  n+=1\n",
        "  if n==9:\n",
        "    break\n",
        "\n",
        "import csv\n",
        "\n",
        "print(data)\n",
        "with open('data4.csv','w') as f:\n",
        "  g=csv.writer(f)\n",
        "  g.writerows(data)\n",
        "\n",
        "\n",
        "\n",
        "\n"
      ],
      "metadata": {
        "id": "hyLaH9bolc3y"
      },
      "execution_count": null,
      "outputs": []
    },
    {
      "cell_type": "code",
      "source": [
        "from urllib import request\n",
        "from bs4 import BeautifulSoup\n",
        "target = request.urlopen('https://www.kma.go.kr/weather/forecast/mid-term-rss3.jsp?stnId=108')\n",
        "soup = BeautifulSoup(target, 'html.parser')\n",
        "data=[]\n",
        "Keys=['도시','날씨','최저','최고']\n",
        "data.append(Keys)\n",
        "n=0\n",
        "for location in soup.select('location'):\n",
        "  row=[]\n",
        "  row.append(location.select_one('city').string)\n",
        "  row.append(location.select_one('wf').string)\n",
        "  row.append(location.select_one('tmn').string )\n",
        "  row.append(location.select_one('tmx').string)\n",
        "  data.append(row)\n",
        "  n+=1\n",
        "  if n==10:\n",
        "    break\n",
        "\n",
        "import csv\n",
        "\n",
        "with open('dataasd.csv','w') as f:\n",
        "  g=csv.writer(f)\n",
        "  g.writerows(data)\n",
        "\n"
      ],
      "metadata": {
        "id": "KHRCaghQ0a9M"
      },
      "execution_count": null,
      "outputs": []
    }
  ]
}