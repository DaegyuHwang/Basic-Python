{
  "nbformat": 4,
  "nbformat_minor": 0,
  "metadata": {
    "colab": {
      "provenance": [],
      "toc_visible": true,
      "authorship_tag": "ABX9TyNBn+10BCPLcrmSvFiTHSj1",
      "include_colab_link": true
    },
    "kernelspec": {
      "name": "python3",
      "display_name": "Python 3"
    },
    "language_info": {
      "name": "python"
    }
  },
  "cells": [
    {
      "cell_type": "markdown",
      "metadata": {
        "id": "view-in-github",
        "colab_type": "text"
      },
      "source": [
        "<a href=\"https://colab.research.google.com/github/DaegyuHwang/Python-Basic/blob/main/2_Conditional_Statement_List_comprehension_Function.ipynb\" target=\"_parent\"><img src=\"https://colab.research.google.com/assets/colab-badge.svg\" alt=\"Open In Colab\"/></a>"
      ]
    },
    {
      "cell_type": "code",
      "source": [
        "'''\n",
        "====================================\n",
        "Conditional Statement: if\n",
        "====================================\n",
        "'''\n",
        "#if 조건:\n",
        "#실행문\n",
        "#else:\n",
        "# 실행문\n",
        "\n",
        "# 예제 1 ======================================\n",
        "money=True          #get a taxi\n",
        "if money:\n",
        "    print(\"get a taxi\")\n",
        "else:\n",
        "    print(\"take a walk\")\n",
        "\n",
        "# 비교연산자: # x<y, x==y, x!=y (x와y가 같지 않다) , x>=y\n",
        "money=2000          #take a walk\n",
        "if money>=3000:\n",
        "    print(\"get a taxi\")\n",
        "else:\n",
        "    print(\"take a walk\")\n",
        "\n",
        "\n",
        "# x or y, x and y, not x                             not x 는 x가 아니면 참 이라는 뜻\n",
        "money=2000; card = True;\n",
        "\n",
        "if money>=3000 or card: #둘다있을 때 조건 만들고자 하면 and쓰면 됨 # #get a taxi\n",
        "    print(\"get a taxi\")\n",
        "else:\n",
        "    print(\"take a walk\")\n",
        "\n",
        "# x in 리스트/튜플/문자열 / x not in 리스트/튜플/문자열\n",
        "pocket = ['paper','cellphone', 'money']\n",
        "\n",
        "if 'money' in pocket:              #get a taxi\n",
        "    print(\"get a taxi\")\n",
        "else:\n",
        "    print(\"take a walk\")\n",
        "\n",
        "print('a')\n",
        "# pass (조건문에서 아무일도 하지 않게 설정)\n",
        "pocket = ['paper','cellphone', 'money']\n",
        "\n",
        "if 'money' in pocket:\n",
        "#  continue 못 쓴다\n",
        "  pass\n",
        "else:\n",
        "    print(\"take a walk\")\n",
        "print('b')\n",
        "\n",
        "\n",
        "\n",
        "# elif 구문\n",
        "pocket = ['paper','cellphone']\n",
        "card = True;\n",
        "\n",
        "if 'money' in pocket:\n",
        "    print(\"get a taxi\")\n",
        "else:\n",
        "  if card:\n",
        "    print(\"get a taxi\")\n",
        "  else:\n",
        "    print(\"take a walk\") #get a taxi\n",
        "\n",
        "#위 아래 같은거임\n",
        "# elif 구문\n",
        "pocket = ['paper','cellphone']\n",
        "card = True;\n",
        "\n",
        "if 'money' in pocket:\n",
        "    print(\"get a taxi\")\n",
        "elif card:\n",
        "    print(\"get a taxi\") #get a taxi\n",
        "else:\n",
        "    print(\"take a walk\")\n",
        "\n",
        "print()\n",
        "\n",
        "if 'money' in pocket or card:\n",
        "    print(\"get a taxi\")\n",
        "else:\n",
        "    print(\"take a walk\")\n",
        "\n",
        "\n"
      ],
      "metadata": {
        "colab": {
          "base_uri": "https://localhost:8080/"
        },
        "id": "6RPGHyU0A_JG",
        "outputId": "98e66a60-1a5a-43c5-b14f-286687e76250"
      },
      "execution_count": null,
      "outputs": [
        {
          "output_type": "stream",
          "name": "stdout",
          "text": [
            "get a taxi\n",
            "take a walk\n",
            "get a taxi\n",
            "get a taxi\n",
            "a\n",
            "b\n",
            "get a taxi\n",
            "get a taxi\n",
            "\n",
            "get a taxi\n"
          ]
        }
      ]
    },
    {
      "cell_type": "code",
      "source": [
        "money=2000; card = True;\n",
        "\n",
        "if money>=3000 or not card: #둘다있을 때 택시타라고 하면 and쓰면 됨  #get a taxi\n",
        "    print(\"get a taxi\")\n",
        "else:\n",
        "  print('no')"
      ],
      "metadata": {
        "colab": {
          "base_uri": "https://localhost:8080/"
        },
        "id": "M5-13iklts6Y",
        "outputId": "cc571351-18c3-4ca7-9dbd-b9396dae561e"
      },
      "execution_count": null,
      "outputs": [
        {
          "output_type": "stream",
          "name": "stdout",
          "text": [
            "no\n"
          ]
        }
      ]
    },
    {
      "cell_type": "code",
      "source": [
        "\n",
        "# 예제2 =====================================\n",
        "import datetime # 모듈 #다른 프로그램으로 부터 데이터 데려오는거\n",
        "now = datetime.datetime.now() #                                                               !!!!!!!!!!!!!!!!!!!!!!!!!!!!!!!!!!!!!!1\n",
        "\n",
        "print(now.year,'년', now.month,'월', now.day, '일', now.hour, '시', now.minute, '분', now.second, '초')       #2023 년 3 월 17 일 1 시 18 분 24 초\n",
        "print(\"{}년 {}월 {}일 {}시 {}분 {}초\".format(now.year, now.month, now.day, now.hour, now.minute, now.second)) #2023년 3월 17일 1시 18분 24초\n",
        "\n",
        "if now.hour < 12:\n",
        "    print(\"현재 시각은 {}시로 오전입니다!\".format(now.hour))\n",
        "else:\n",
        "     print(\"현재 시각은 {}시로 오후입니다!\".format(now.hour))\n",
        "\n",
        "\n",
        "## Exercise ================================\n",
        "##출력결과: 이번 달은 {}월로 {계절}입니다. 를 출력하게끔 if, elif, else이용하여 코딩!\n",
        "if 3<= now.month <=5 :\n",
        "  print('이번 달은 {}월로 봄 입니다'.format(now.month))\n",
        "elif 6<=  now.month <= 8 :\n",
        "  print('이번 달은 {}월로 여름 입니다'.format(now.month))\n",
        "elif 9<=  now.month <= 11:\n",
        "  print('이번 달은 {}월로 가을 입니다'.format(now.month))\n",
        "else:\n",
        "  print('이번 달은 {}월로 겨울 입니다'.format(now.month))\n",
        "\n",
        "#1. input 함수 이용하여 \"점수를 입력하세요:\" 문구가 나오면 점수를 입력받아(0-100점) 90점 이상이면\"A\",\n",
        "#80점 이상이면 \"B\", 70 점 이상이면 \"C\", 60점 이상이면 \"D\", 나머지는 학점 \"F\"를 준다.:\n",
        "#출력결과: 당신의 학점은 *입니다.\n",
        "\n",
        "a=int(input(\"점수를 입력하세요: \"))\n",
        "if 90<=a<=100 :\n",
        "  print(\"당신의 학점은 A입니다\")\n",
        "elif 80<=a<90 :\n",
        "  print(\"당신의 학점은 B입니다\")\n",
        "elif 70<=a<80 :\n",
        "  print(\"당신의 학점은 C입니다\")\n",
        "elif 60<=a<70 :\n",
        "  print(\"당신의 학점은 D입니다\")\n",
        "else:\n",
        "  print(\"당신의 학점은 F입니다\")\n"
      ],
      "metadata": {
        "id": "bkXjDRKfD4zv",
        "colab": {
          "base_uri": "https://localhost:8080/"
        },
        "outputId": "be6487f7-051f-4b2c-b7a2-799c8c10fdd0"
      },
      "execution_count": null,
      "outputs": [
        {
          "output_type": "stream",
          "name": "stdout",
          "text": [
            "2023 년 4 월 18 일 14 시 25 분 59 초\n",
            "2023년 4월 18일 14시 25분 59초\n",
            "현재 시각은 14시로 오후입니다!\n",
            "이번 달은 4월로 봄 입니다\n",
            "점수를 입력하세요: 90\n",
            "당신의 학점은 A입니다\n"
          ]
        }
      ]
    },
    {
      "cell_type": "code",
      "source": [
        "\n",
        "# 예제2 =====================================\n",
        "import datetime # 모듈 #다른 프로그램으로 부터 데이터 데려오는거\n",
        "now = datetime.datetime.now()\n",
        "print(now)\n",
        "print(now.month)"
      ],
      "metadata": {
        "colab": {
          "base_uri": "https://localhost:8080/"
        },
        "id": "jQ151uP53tjS",
        "outputId": "59f7f537-c2ef-4a09-d554-807107a3dede"
      },
      "execution_count": null,
      "outputs": [
        {
          "output_type": "stream",
          "name": "stdout",
          "text": [
            "2023-04-18 14:26:46.913161\n",
            "4\n"
          ]
        }
      ]
    },
    {
      "cell_type": "code",
      "source": [
        "#2. 숫자를 입력받아 짝수면 \"{숫자}는 짝수입니다\", 홀수면 \"{숫자}는 홀수입니다\"\n",
        "num = int(input('숫자를 입력하시오:'))\n",
        "if num%2==0:\n",
        "    print('%d는 짝수입니다' %num)\n",
        "else:\n",
        "    print('%d는 홀수입니다' %num)\n"
      ],
      "metadata": {
        "id": "WtIn5lVHEg_5",
        "colab": {
          "base_uri": "https://localhost:8080/"
        },
        "outputId": "23670b0b-3d36-4921-ab05-846b36d4be7c"
      },
      "execution_count": null,
      "outputs": [
        {
          "output_type": "stream",
          "name": "stdout",
          "text": [
            "숫자를 입력하시오:0\n",
            "0는 짝수입니다\n"
          ]
        }
      ]
    },
    {
      "cell_type": "code",
      "source": [
        "'''\n",
        "====================================\n",
        "반복문: while 문\n",
        "====================================\n",
        "'''\n",
        "\n",
        "# 예제 1\n",
        "tree_hit=0; #나무치는 횟수\n",
        "while tree_hit<10:\n",
        "    tree_hit=tree_hit+1 #이거 없으면 계속 돌아감. 중요함. 똑같은 숫자로 돌아감\n",
        "    print('나무를 %d번 찍었습니다.' %tree_hit)\n",
        "    if tree_hit==10:\n",
        "        print(\"나무 넘어갑니다\")\n",
        "\n"
      ],
      "metadata": {
        "colab": {
          "base_uri": "https://localhost:8080/"
        },
        "id": "6qozrgIJE9qZ",
        "outputId": "d37e380d-bfa6-4a87-86c7-a24e9f809579"
      },
      "execution_count": null,
      "outputs": [
        {
          "output_type": "stream",
          "name": "stdout",
          "text": [
            "나무를 1번 찍었습니다.\n",
            "나무를 2번 찍었습니다.\n",
            "나무를 3번 찍었습니다.\n",
            "나무를 4번 찍었습니다.\n",
            "나무를 5번 찍었습니다.\n",
            "나무를 6번 찍었습니다.\n",
            "나무를 7번 찍었습니다.\n",
            "나무를 8번 찍었습니다.\n",
            "나무를 9번 찍었습니다.\n",
            "나무를 10번 찍었습니다.\n",
            "나무 넘어갑니다\n"
          ]
        }
      ]
    },
    {
      "cell_type": "code",
      "source": [
        "tree_hit=1; #나무치는 횟수\n",
        "while tree_hit<=10:\n",
        "    #이거 없으면 계속 돌아감. 중요함. 똑같은 숫자로 돌아감\n",
        "    print('나무를 %d번 찍었습니다.' %tree_hit)\n",
        "    if tree_hit==10:\n",
        "        print(\"나무 넘어갑니다\")\n",
        "    tree_hit=tree_hit+1"
      ],
      "metadata": {
        "colab": {
          "base_uri": "https://localhost:8080/"
        },
        "id": "pu_4uRQobSzJ",
        "outputId": "d68a4d1a-2156-4fbe-cc10-12a8355895fd"
      },
      "execution_count": null,
      "outputs": [
        {
          "output_type": "stream",
          "name": "stdout",
          "text": [
            "나무를 1번 찍었습니다.\n",
            "나무를 2번 찍었습니다.\n",
            "나무를 3번 찍었습니다.\n",
            "나무를 4번 찍었습니다.\n",
            "나무를 5번 찍었습니다.\n",
            "나무를 6번 찍었습니다.\n",
            "나무를 7번 찍었습니다.\n",
            "나무를 8번 찍었습니다.\n",
            "나무를 9번 찍었습니다.\n",
            "나무를 10번 찍었습니다.\n",
            "나무 넘어갑니다\n"
          ]
        }
      ]
    },
    {
      "cell_type": "code",
      "source": [
        "# 예제 2\n",
        "prompt = '''\n",
        "1. Add\n",
        "2. Del\n",
        "3. List\n",
        "4. Quit\n",
        "Enter number: '''\n",
        "\n",
        "number=2\n",
        "while number!=4:\n",
        "    print(prompt)\n",
        "    number=int(input())\n",
        "\n"
      ],
      "metadata": {
        "colab": {
          "base_uri": "https://localhost:8080/"
        },
        "id": "h6S8-QJpF2ig",
        "outputId": "5df9e831-7103-4b29-d92e-de2cb712880b"
      },
      "execution_count": null,
      "outputs": [
        {
          "name": "stdout",
          "output_type": "stream",
          "text": [
            "\n",
            "1. Add\n",
            "2. Del\n",
            "3. List\n",
            "4. Quit\n",
            "Enter number: \n",
            "4\n"
          ]
        }
      ]
    },
    {
      "cell_type": "code",
      "source": [
        "# 예제 3 : break 사용하여 중지\n",
        "coffee =10 # 커피갯수\n",
        "money = 300 # 자판기에 넣을 돈\n",
        "while money: # 돈이 있는 동안                                         !!!!!!!!!!!!!!!!!!!!!!!!!!!!\n",
        "    print(\"돈을 받았으니 커피를 줍니다.\")\n",
        "    coffee -= 1 #coffee = coffee -1\n",
        "    print('남은 커피의 양은 %d입니다'%coffee)\n",
        "    if coffee == 0: #브레이크 여기에\n",
        "      print('커피가 없어요. 안팜.')\n",
        "      break #이거 안쓰면 계속 돈다 money 가 사실이 되어서 커피 -까지 해서 무한히 반복됨\n",
        "\n"
      ],
      "metadata": {
        "colab": {
          "base_uri": "https://localhost:8080/"
        },
        "id": "tIb1OVq6GhEx",
        "outputId": "3e32924a-4077-4fe2-9b0e-150a68e55513"
      },
      "execution_count": null,
      "outputs": [
        {
          "output_type": "stream",
          "name": "stdout",
          "text": [
            "돈을 받았으니 커피를 줍니다.\n",
            "남은 커피의 양은 9입니다\n",
            "돈을 받았으니 커피를 줍니다.\n",
            "남은 커피의 양은 8입니다\n",
            "돈을 받았으니 커피를 줍니다.\n",
            "남은 커피의 양은 7입니다\n",
            "돈을 받았으니 커피를 줍니다.\n",
            "남은 커피의 양은 6입니다\n",
            "돈을 받았으니 커피를 줍니다.\n",
            "남은 커피의 양은 5입니다\n",
            "돈을 받았으니 커피를 줍니다.\n",
            "남은 커피의 양은 4입니다\n",
            "돈을 받았으니 커피를 줍니다.\n",
            "남은 커피의 양은 3입니다\n",
            "돈을 받았으니 커피를 줍니다.\n",
            "남은 커피의 양은 2입니다\n",
            "돈을 받았으니 커피를 줍니다.\n",
            "남은 커피의 양은 1입니다\n",
            "돈을 받았으니 커피를 줍니다.\n",
            "남은 커피의 양은 0입니다\n",
            "커피가 없어요. 안팜.\n"
          ]
        }
      ]
    },
    {
      "cell_type": "code",
      "source": [
        "# 예제 4\n",
        "coffee = 5 #커피갯수\n",
        "while True:\n",
        "  money = int(input('돈을 넣어주세요:'))\n",
        "  if money == 300:\n",
        "    print('커피를 줍니다')\n",
        "    coffee = coffee-1\n",
        "    print('남은 커피의 양은 %d입니다' %coffee)\n",
        "  elif money>300:\n",
        "    print('거스름돈 %d를 주고 커피를 줍니다'%(money-300))\n",
        "    coffee = coffee-1\n",
        "    print('남은 커피의 양은 %d입니다' %coffee)\n",
        "\n",
        "  else:\n",
        "    print( '돈이 모자랍니다. 커피 안줌')\n",
        "    print('남은 커피의 양은 %d입니다' %coffee)\n",
        "\n",
        "  if coffee==0:\n",
        "    print('커피가 다 떨어졌음. 판매 안함')\n",
        "    break\n",
        "\n",
        "\n"
      ],
      "metadata": {
        "id": "p8Ef6CpJHtGB"
      },
      "execution_count": null,
      "outputs": []
    },
    {
      "cell_type": "code",
      "source": [
        "#while True:\n",
        "#    print('Ctrl+C를 눌러야 while문을 빠져나갈 수 있습니다.')\n",
        "\n",
        "\n",
        "# 예제 5: continue 사용\n",
        "a=0\n",
        "while a<10 :\n",
        "  a=a+1\n",
        "  if a%2==1:\n",
        "    print(a)\n",
        "\n",
        "print()\n",
        "\n",
        "a=0\n",
        "while a<10 :\n",
        "  a=a+1\n",
        "  if a%2==0:\n",
        "    continue # a에서 if 부분을 넘기겠다\n",
        "  print(a)\n",
        "\n",
        "\n"
      ],
      "metadata": {
        "colab": {
          "base_uri": "https://localhost:8080/"
        },
        "id": "oJ3Ftiu1JX5B",
        "outputId": "75b15160-8bf4-46c6-dcea-54022317a6ec"
      },
      "execution_count": null,
      "outputs": [
        {
          "output_type": "stream",
          "name": "stdout",
          "text": [
            "1\n",
            "3\n",
            "5\n",
            "7\n",
            "9\n",
            "\n",
            "1\n",
            "3\n",
            "5\n",
            "7\n",
            "9\n"
          ]
        }
      ]
    },
    {
      "cell_type": "code",
      "source": [
        "#continue pass 차이점\n",
        "\n",
        "for i in range(10):\n",
        "    if i % 2 == 0:\n",
        "        pass\n",
        "        print(i)\n",
        "    else:\n",
        "        print(i)\n",
        "print(\"Done\")\n",
        "# 0, 1, 2, 3, 4, 5, 6, 7, 8, 9 가 프린트\n",
        "\n",
        "for i in range(10):\n",
        "    if i % 2 == 0:\n",
        "        continue\n",
        "        print(i)\n",
        "    print(i)\n",
        "print(\"Done\")\n",
        "# 1, 3, 5, 7, 9"
      ],
      "metadata": {
        "colab": {
          "base_uri": "https://localhost:8080/"
        },
        "id": "mhTnWz-9YwyU",
        "outputId": "1a1f68d5-eb13-4d10-cc73-4b1e598e4b80"
      },
      "execution_count": null,
      "outputs": [
        {
          "output_type": "stream",
          "name": "stdout",
          "text": [
            "0\n",
            "1\n",
            "2\n",
            "3\n",
            "4\n",
            "5\n",
            "6\n",
            "7\n",
            "8\n",
            "9\n",
            "Done\n",
            "1\n",
            "3\n",
            "5\n",
            "7\n",
            "9\n",
            "Done\n"
          ]
        }
      ]
    },
    {
      "cell_type": "code",
      "source": [
        "# Exercise ==============================\n",
        "#1. while  문을 이용하여 다음과 같이 *을 표시하는 프로그램을 작성하여라\n",
        "#*\n",
        "#**\n",
        "#***\n",
        "#****\n",
        "#*****\n",
        "\n",
        "a=1\n",
        "while a<=5 :\n",
        "  print('*'*a)\n",
        "  a=a+1\n",
        "\n",
        "a=0 #시작이 0일때는  a=a+1 을 먼저써줘야함, 순서가 있기에 a<=5로 하면 *6개까지 나옴, 그래서 a<5로 바꿔줘야함\n",
        "while a<5 :\n",
        "  a=a+1\n",
        "  print('*'*a)\n",
        "\n",
        "\n",
        "\n",
        "\n",
        "#2  while & if  사용하여 1-1000까지의 자연수 주에서 3의 배수인 갯수와 합을 구하여라.\n",
        "#출력결과 : 1-1000 까지 3의 배수의 갯수는 **이고, 합은 **이다.\n",
        "\n",
        "a=1 ; count=0; total=0\n",
        "while a<=1000 :\n",
        "  if a%3==0 :\n",
        "     count+=1 #count = count +1\n",
        "     total+=a #total = total +1\n",
        "  a+=1 #while 빠져나오면 안됨.\n",
        "print(\"1-1000 까지 3의 배수의 갯수는 %d이고, 합은 %d 이다.\" %(count,total)) #while 빠져나와서 프린트 하기\n",
        "\n",
        "\n",
        "a=0 ; count1=0; total1=0 #b=count, c=total\n",
        "while a<1000 :\n",
        "  a+=1\n",
        "  if a%3==0 :\n",
        "     count1+=1\n",
        "     total1+=a\n",
        "\n",
        "print(\"1-1000 까지 3의 배수의 갯수는 %d이고, 합은 %d 이다.\" %(count1,total1))\n",
        "\n",
        "#3 1부터 숫자를 하나씩 증가시키면서 더한다: 1, 1+2=3, 1+2+3=6,,,,,\n",
        "#얼마를 더할때 10000을 넘는지 구해보고, 그때의 값을 구하여라.\n",
        "\n",
        "i=0; total=0; #i가 1일때는 안된다.\n",
        "while total<=10000:\n",
        "  i=i+1\n",
        "  total=total +i\n",
        "print('1부터 %d까지의 합은 %d 이다' %(i,total))\n",
        "\n"
      ],
      "metadata": {
        "id": "lMoXQk1wKRka",
        "colab": {
          "base_uri": "https://localhost:8080/"
        },
        "outputId": "b2f033db-816f-465e-a7ff-4bda53884740"
      },
      "execution_count": null,
      "outputs": [
        {
          "output_type": "stream",
          "name": "stdout",
          "text": [
            "*\n",
            "**\n",
            "***\n",
            "****\n",
            "*****\n",
            "*\n",
            "**\n",
            "***\n",
            "****\n",
            "*****\n",
            "1-1000 까지 3의 배수의 갯수는 333이고, 합은 166833 이다.\n",
            "1-1000 까지 3의 배수의 갯수는 333이고, 합은 166833 이다.\n",
            "1부터 141까지의 합은 10011 이다\n"
          ]
        }
      ]
    },
    {
      "cell_type": "code",
      "source": [
        "num=0;total=0; # while 문은 그 문장에서 숫자 비교할때 바로 사용하고 for문은 모르겠다..... 그냥 range는 for문에서만 사용하자\n",
        "for a in range(1,1001):\n",
        "  if a%3==0:\n",
        "    num+=1\n",
        "    total+=a\n",
        "print(f'{num},{total}')"
      ],
      "metadata": {
        "colab": {
          "base_uri": "https://localhost:8080/"
        },
        "id": "HoULFBDkhADL",
        "outputId": "c451a49a-700b-4ac5-db19-0201299f9609"
      },
      "execution_count": null,
      "outputs": [
        {
          "output_type": "stream",
          "name": "stdout",
          "text": [
            "333,166833\n"
          ]
        }
      ]
    },
    {
      "cell_type": "code",
      "source": [
        "#3 1부터 숫자를 하나씩 증가시키면서 더한다: 1, 1+2=3, 1+2+3=6,,,,,\n",
        "#얼마를 더할때 10000을 넘는지 구해보고, 그때의 값을 구하여라.                         잘 못했다 다시 해보기 !!!!!!!!!!!!!!!!!!!!!!!!!!!!!!!!!\n",
        "\n",
        "\n",
        "a=1\n",
        "total=1\n",
        "while True:\n",
        "  if total<=10000 :\n",
        "    a+=1\n",
        "    total+=a\n",
        "  else :\n",
        "    print(a, total)\n",
        "    break\n",
        "\n",
        "\n",
        "\n",
        "\n",
        "a=1\n",
        "total=1\n",
        "while total<=10000 :\n",
        "    a+=1\n",
        "    total+=a\n",
        "print(a, total)\n",
        "\n"
      ],
      "metadata": {
        "colab": {
          "base_uri": "https://localhost:8080/"
        },
        "id": "BX9mN3GsC46c",
        "outputId": "70a08f1e-2978-492f-8363-f1b056a7434f"
      },
      "execution_count": null,
      "outputs": [
        {
          "output_type": "stream",
          "name": "stdout",
          "text": [
            "141 10011\n",
            "141 10011\n"
          ]
        }
      ]
    },
    {
      "cell_type": "code",
      "source": [
        "#4 while,if  구문 사용하여 사직연산(+,-,*,/)계산하는 프로그램을 만들어라.\n",
        "#출력결과: (예시) a*b=ab\n",
        "#사칙연산이 틀리면 \"사칙연산 기호가 틀렸습니다\" 라고 출력하고 나가기\n",
        "a=int(intput('숫자(정수)를 입력하세요:'))\n",
        "b=int(intput('숫자(정수)를 입력하세요:'))\n",
        "\n",
        "\n",
        "#while  구문 안에: 사칙연산기호를 입력하세요:\n",
        "while True\n",
        "  c=input('사칙연산 기호를 입력하세요:')\n"
      ],
      "metadata": {
        "id": "1t2DB53PFWip"
      },
      "execution_count": null,
      "outputs": []
    },
    {
      "cell_type": "code",
      "source": [
        "#4 while,if  구문 사용하여 사직연산(+,-,*,/)계산하는 프로그램을 만들어라.\n",
        "#출력결과: (예시) a*b=ab\n",
        "#사칙연산이 틀리면 \"사칙연산 기호가 틀렸습니다\" 라고 출력하고 나가기\n",
        "\n",
        "a=int(input('숫자(정수)를 입력하세요:'))\n",
        "b=int(input('숫자(정수)를 입력하세요:'))\n",
        "\n",
        "while True:\n",
        "  c=input('사칙연산 기호를 입력하세요: ')\n",
        "  if c=='+' :\n",
        "    print('a+b=',a+b)\n",
        "  elif c=='-' :\n",
        "    print('a-b=',a-b)\n",
        "  elif c=='*' :\n",
        "    print('a*b=',a*b)\n",
        "  elif c=='/' :\n",
        "    print('a/b=',a/b)\n",
        "  else:\n",
        "    print('사칙연산 기호가 틀렸습니다')\n",
        "    break\n",
        "\n",
        "\n",
        "\n",
        "\n",
        "\n",
        "\n",
        "\n",
        "\n",
        "\n"
      ],
      "metadata": {
        "colab": {
          "base_uri": "https://localhost:8080/"
        },
        "id": "85Eg8NOTKk35",
        "outputId": "20f7c86c-72c8-49ed-df99-edf7b735b1ac"
      },
      "execution_count": null,
      "outputs": [
        {
          "output_type": "stream",
          "name": "stdout",
          "text": [
            "숫자(정수)를 입력하세요:3\n",
            "숫자(정수)를 입력하세요:3\n",
            "사칙연산 기호를 입력하세요: +\n",
            "a+b= 6\n",
            "사칙연산 기호를 입력하세요: ㅇ\n",
            "사칙연산 기호가 틀렸습니다\n"
          ]
        }
      ]
    },
    {
      "cell_type": "code",
      "source": [
        "print(17.5+0.5, type(17.5+0.5))"
      ],
      "metadata": {
        "colab": {
          "base_uri": "https://localhost:8080/"
        },
        "id": "H-fMOo5YuuWR",
        "outputId": "37dff6c1-f7ee-420f-daf1-9239963613e5"
      },
      "execution_count": null,
      "outputs": [
        {
          "output_type": "stream",
          "name": "stdout",
          "text": [
            "18.0 <class 'float'>\n"
          ]
        }
      ]
    },
    {
      "cell_type": "code",
      "source": [
        "'''\n",
        "====================================\n",
        "반복문: for 문\n",
        "====================================\n",
        "'''\n",
        "#========================\n",
        "# for 문 + list\n",
        "#========================\n",
        "test_list = ['a',' b','c']\n",
        "for i in test_list:\n",
        "    print(i)\n",
        "\n",
        "test_list2 = [1,3,5, 7,9]\n",
        "for i in test_list2:\n",
        "    print(i)\n",
        "\n",
        "print()\n",
        "a = [(1,2), (3,4), (5,6)]\n",
        "for (first, second) in a:\n",
        "    print((first), (second))\n",
        "\n",
        "\n",
        "print()\n",
        "a = [(1,2), (3,4), (5,6)]\n",
        "for i in a :\n",
        "  print(i)\n"
      ],
      "metadata": {
        "colab": {
          "base_uri": "https://localhost:8080/"
        },
        "id": "miqxUdEZGb-_",
        "outputId": "641dc75d-e56f-4dbc-b343-65554d7db919"
      },
      "execution_count": null,
      "outputs": [
        {
          "output_type": "stream",
          "name": "stdout",
          "text": [
            "a\n",
            " b\n",
            "c\n",
            "1\n",
            "3\n",
            "5\n",
            "7\n",
            "9\n",
            "\n",
            "1 2\n",
            "3 4\n",
            "5 6\n",
            "\n",
            "(1, 2)\n",
            "(3, 4)\n",
            "(5, 6)\n"
          ]
        }
      ]
    },
    {
      "cell_type": "code",
      "source": [
        "# Exercise: ======================\n",
        "#(1) 100이상의 숫자만 프린트\n",
        "numbers = [123, 104, 4, 17, 87, 800, 99]\n",
        "for i in numbers:\n",
        "  if i>=100:\n",
        "    print(i)# print 아무곳에 적으면 에러남. 왜? 무엇보다 100보다 큰 i 를 출력하기 위해서\n",
        "print()\n",
        "\n",
        "#(2) 100이상의 숫자가 몇개인지\n",
        "numbers = [123, 104, 4, 17, 87,800, 99]\n",
        "num=0\n",
        "for a in numbers:\n",
        "  if a>=100:\n",
        "    num=num+1\n",
        "print('100이상의 숫자는 %d개이다' %num)\n",
        "print()\n",
        "\n",
        "\n",
        "#(3) 각요소가 몇자리 숫자인지 출력: ***은*자리수 입니다.\n",
        "for i in numbers:\n",
        "  print(i,'는',len(str(i)), '자리수입니다' )\n",
        "  print('%d는 %d자리수 입니다' %(i, len(str(i))))\n",
        "\n",
        "# print(len(33)) 오류난다. 숫자는 문자로 변환하여 자리수를 세어줘야한다 !!!!!!!!!!!!!!!!!!!!!!!!!!!!!!!!!!!!!!!!!!!!!!!!!!!"
      ],
      "metadata": {
        "id": "sZ300dnmHLsO"
      },
      "execution_count": null,
      "outputs": []
    },
    {
      "cell_type": "code",
      "source": [
        "#================================\n",
        "\n",
        "# 예제 1\n",
        "marks = [90, 25, 67, 45, 80]\n",
        "num = 0\n",
        "for i in marks:\n",
        "  num=num+1\n",
        "  if i>=60:\n",
        "    print('%d번째 학생은 합격입니다.' %num)\n",
        "  else:\n",
        "    print('%d번째 학생은 불합격입니다.' %num)\n",
        "\n",
        "# 출력결과: *번 학생은 (불)합격입니다.\n",
        "\n",
        "print()\n",
        "# 예제 2\n",
        "marks = [90, 25, 67, 45, 80]\n",
        "number = 0\n",
        "for i in marks:\n",
        "  number=number+1\n",
        "  if i<60: continue #지나가기 pass 와 continue 차이 존재. 어떤 차이 있는지 알기 /pass 는 다음 문장 실행 continue는 루프를 빠져나옴\n",
        "  print('%d번째 학생은 합격' %number) #print 의 위치에 따라 출력값이 다르다 왜?\n",
        "\n",
        "# 출력결과: *번 학생 축하합니다. 합격입니다.\n",
        "\n",
        "\n",
        "print('='*10)\n",
        "\n",
        "print()\n",
        "# 예제 2\n",
        "marks = [90, 25, 67, 45, 80]\n",
        "number = 0\n",
        "for i in marks:\n",
        "  number=number+1\n",
        "  if i<60:\n",
        "    pass                                                               #   이면 굳이 pass를 왜 쓰지?????????????????? 애초에 pass가 의미가 없다\n",
        "    print('yes')\n",
        "  else: print('%d번째 학생은 합격' %number) #else 안쓰니까 전체 타 출력한다.\n",
        "\n",
        "print()\n",
        "number=0\n",
        "for i in marks :\n",
        "  number+=1\n",
        "  if i <60:\n",
        "    print('yes')\n",
        "    continue\n",
        "\n",
        "  else :\n",
        "    print(f'{number}번째 학생은 합격')\n",
        "\n",
        "a=0\n",
        "while a<10 :\n",
        "  a=a+1\n",
        "  if a%2==0: continue # a에서 if 부분을 넘기겠다              / continue 있어 스킵된다. pass면 스킵 안된다 !!!!!!!!!!!!!!!!!!!!!!!!!!!!!!!!1\n",
        "  print(a)\n",
        "\n"
      ],
      "metadata": {
        "colab": {
          "base_uri": "https://localhost:8080/"
        },
        "id": "5O2KnQ2rJH_o",
        "outputId": "788a1282-fcf2-4347-e35d-fcfd5a47070a"
      },
      "execution_count": null,
      "outputs": [
        {
          "output_type": "stream",
          "name": "stdout",
          "text": [
            "1번째 학생은 합격입니다.\n",
            "2번째 학생은 불합격입니다.\n",
            "3번째 학생은 합격입니다.\n",
            "4번째 학생은 불합격입니다.\n",
            "5번째 학생은 합격입니다.\n",
            "\n",
            "1번째 학생은 합격\n",
            "3번째 학생은 합격\n",
            "5번째 학생은 합격\n",
            "==========\n",
            "\n",
            "1번째 학생은 합격\n",
            "yes\n",
            "3번째 학생은 합격\n",
            "yes\n",
            "5번째 학생은 합격\n",
            "\n",
            "1번째 학생은 합격\n",
            "yes\n",
            "3번째 학생은 합격\n",
            "yes\n",
            "5번째 학생은 합격\n",
            "1\n",
            "3\n",
            "5\n",
            "7\n",
            "9\n"
          ]
        }
      ]
    },
    {
      "cell_type": "code",
      "source": [
        "#========================\n",
        "# for 문 + dictionary\n",
        "#========================\n",
        "\n",
        "# 예제/ 개수세기                                                                !!!!!!!!!!!!!!!!!!!!!!!!!!!!!!!!\n",
        "numbers = [1, 2, 6, 8, 4, 3, 2, 1, 9, 5 ,4, 9, 7, 4, 8,9,7,2,3];\n",
        "counter={}\n",
        "for i in numbers:\n",
        "  if i in counter:\n",
        "    counter[i]+=1\n",
        "  else:\n",
        "    counter[i]=1\n",
        "print(counter)\n",
        "\n",
        "# 출력결과: {1: 2, 2: 3, 6: 1, 8: 2, 4: 3, 3: 2, 9: 3, 5: 1, 7: 2}\n"
      ],
      "metadata": {
        "colab": {
          "base_uri": "https://localhost:8080/"
        },
        "id": "fOY3PgvUM3Ob",
        "outputId": "40faffb1-e394-41b5-91ac-59d401a3271b"
      },
      "execution_count": null,
      "outputs": [
        {
          "output_type": "stream",
          "name": "stdout",
          "text": [
            "{1: 2, 2: 3, 6: 1, 8: 2, 4: 3, 3: 2, 9: 3, 5: 1, 7: 2}\n"
          ]
        }
      ]
    },
    {
      "cell_type": "code",
      "source": [
        "score=[70,83,92,65,54,75,80,90]\n",
        "#dic={'A': ,'B': ,'C': } #A는 80이상, B는 70이상 80미만, C는 70미만\n"
      ],
      "metadata": {
        "id": "I4_yGzOLiuLI"
      },
      "execution_count": null,
      "outputs": []
    },
    {
      "cell_type": "code",
      "source": [
        "# 연습문제\n",
        "counter={}\n",
        "score=[70,83,92,65,54,75,80,90]\n",
        "\n",
        "#dic={'A': ,'B': ,'C': } #A는 80이상, B는 70이상 80미만, C는 70미만\n",
        "\n",
        "\n",
        "counter['A']=0; counter['B']=0; counter['C']=0;                           #!!!!!!!!!!!!!!!!!!!!!!!!!!!! 초기에 만들어 놓고 시작해야함\n",
        "for i in score:\n",
        "  if i>=80:\n",
        "      counter['A']=counter['A']+1                                               #[]안에 문자면 ''쓰는거 잊지 말기!!!!!!!!!!!!!!!!!!!!!!\n",
        "  elif 70<=i<80:\n",
        "      counter['B']=counter['B']+1\n",
        "  else:\n",
        "      counter['C']=counter['C']+1\n",
        "\n",
        "print(counter)\n",
        "\n",
        "\n",
        "#1000미만의 자연수 중 3의배수또는 5의 배수의 갯수 와 총합을 구해라\n",
        "\n",
        "count=0; total=0\n",
        "for i in range(1,1000):\n",
        "  if i%3==0 or i%5==0 :\n",
        "    count+=1\n",
        "    total+=i\n",
        "print('합은 %d 이고 갯수는 %d' %(total, count))\n",
        "\n",
        "i=1\n",
        "count=0;total=0;\n",
        "while  i<1000:\n",
        "  if i%3==0 or i%5==0 :\n",
        "    count+=1\n",
        "    total+=i\n",
        "  i=i+1                                                #여기서 i+=1을 왜 if문 안에 쓰면 안되지?= if문 안에쓰면 조건을 만족해야지만 i가 증가함!!!!!!!!!!!!!\n",
        "print('합은 %d 이고 갯수는 %d' %(total, count))  # 잘못함 다시 하기\n",
        "\n",
        "\n",
        "\n"
      ],
      "metadata": {
        "colab": {
          "base_uri": "https://localhost:8080/"
        },
        "id": "0A8hBXVGPnlz",
        "outputId": "aeab0be6-5c37-4cf8-ec5a-c8dc1d6f6bfd"
      },
      "execution_count": null,
      "outputs": [
        {
          "output_type": "stream",
          "name": "stdout",
          "text": [
            "{'A': 4, 'B': 2, 'C': 2}\n",
            "합은 233168 이고 갯수는 466\n",
            "합은 233168 이고 갯수는 466\n"
          ]
        }
      ]
    },
    {
      "cell_type": "code",
      "source": [
        "#1000미만의 자연수 중 3의배수또는 5의 배수의 갯수 와 총합을 구해라\n",
        "dic={};dic['count']=0;dic['total']=0;\n",
        "for i in range(1,1000):\n",
        "  if i%3==0 or i%5==0:\n",
        "    dic['count']+=1\n",
        "    dic['total']+=i\n",
        "print(dic)\n",
        "\n",
        "\n",
        "i=1\n",
        "count=0;total=0;\n",
        "while i <1000:\n",
        "  if i%3==0 or i%5==0:\n",
        "    count+=1\n",
        "    total+=i\n",
        "  i+=1\n",
        "print(f'합은{total}이고 갯수는{count}')\n",
        "\n",
        "\n"
      ],
      "metadata": {
        "colab": {
          "base_uri": "https://localhost:8080/"
        },
        "id": "d_JVCPC632ul",
        "outputId": "d7b1d6ff-9875-43bf-aa04-ff29d707462b"
      },
      "execution_count": null,
      "outputs": [
        {
          "output_type": "stream",
          "name": "stdout",
          "text": [
            "{'count': 466, 'total': 233168}\n",
            "합은233168이고 갯수는466\n"
          ]
        }
      ]
    },
    {
      "cell_type": "code",
      "source": [
        "#====================================\n",
        "# range + for 문\n",
        "#====================================\n",
        "a= range(10) # 0,1,2,...,9\n",
        "print(a) #range(0, 10)\n",
        "a=range(1,11) # 1,2,...,10\n",
        "a=range(1,11, 2) # 1,3,5,7,9                                                    !!!!!!!!!!!!!!!!!!!!!!!!!!!!!!!!!!!\n",
        "\n",
        "print(list(range(1,11,2)))\n",
        "print(list(range(1,11,3)))\n",
        "print(list(range(1,11,4))) # 1, 1+4, 1+4+4, 1+4+4+4,,,\n",
        "\n",
        "# 예제\n",
        "for i in range(11):\n",
        "    print(i)\n",
        "\n",
        "for i in reversed(range(11)):             #reversede\n",
        "    print(i)\n",
        "\n",
        "# 예제: 숫자더하기 (1-10까지 더하기)\n",
        "\n",
        "total=0\n",
        "for i in range(1,11):\n",
        "  total+=i #total=total+i\n",
        "print(total) # print를 for 안에 쓰면 1,1+2,1+2+3,,,,다 출력된다.\n",
        "\n",
        "a=range(1,11)\n",
        "list(a) #index 사용가능 바로.\n",
        "print(list(a))                                                                          #!!!!!!!!!!!!!!!!!!!!!!!!!!!!!!!!!!!!!!!!!!\n",
        "totl=sum(a)\n",
        "a[0]\n",
        "a[-1]\n",
        "print('%d부터 %d까지의 합은 %d 이다.' %(a[0], a[-1], totl))"
      ],
      "metadata": {
        "id": "7QtwpsA6PmIs",
        "colab": {
          "base_uri": "https://localhost:8080/"
        },
        "outputId": "6ec7a1b0-d86f-49a9-fece-c638e0d25592"
      },
      "execution_count": null,
      "outputs": [
        {
          "output_type": "stream",
          "name": "stdout",
          "text": [
            "range(0, 10)\n",
            "[1, 3, 5, 7, 9]\n",
            "[1, 4, 7, 10]\n",
            "[1, 5, 9]\n",
            "0\n",
            "1\n",
            "2\n",
            "3\n",
            "4\n",
            "5\n",
            "6\n",
            "7\n",
            "8\n",
            "9\n",
            "10\n",
            "10\n",
            "9\n",
            "8\n",
            "7\n",
            "6\n",
            "5\n",
            "4\n",
            "3\n",
            "2\n",
            "1\n",
            "0\n",
            "55\n",
            "[1, 2, 3, 4, 5, 6, 7, 8, 9, 10]\n",
            "1부터 10까지의 합은 55 이다.\n"
          ]
        }
      ]
    },
    {
      "cell_type": "code",
      "source": [
        "\n",
        "a=range(1,11)                                                                      #!!!!!!!!!!!!!!!!!!!!!!!!!!!!!!!!!!!!!!!!!!\n",
        "totl=sum(a)\n",
        "print(a[0])\n",
        "print(a[-1])\n",
        "print(totl)\n"
      ],
      "metadata": {
        "colab": {
          "base_uri": "https://localhost:8080/"
        },
        "id": "bjEOLU93oEg1",
        "outputId": "d7668680-d06f-4be0-93e2-a65fb5df36eb"
      },
      "execution_count": null,
      "outputs": [
        {
          "output_type": "stream",
          "name": "stdout",
          "text": [
            "1\n",
            "10\n",
            "55\n"
          ]
        }
      ]
    },
    {
      "cell_type": "code",
      "source": [
        "print(sum(range(10)))"
      ],
      "metadata": {
        "colab": {
          "base_uri": "https://localhost:8080/"
        },
        "id": "3HaBJ0u8oYfV",
        "outputId": "86612e8a-e1d7-4db6-b38f-4e7cb1a4e112"
      },
      "execution_count": null,
      "outputs": [
        {
          "output_type": "stream",
          "name": "stdout",
          "text": [
            "45\n"
          ]
        }
      ]
    },
    {
      "cell_type": "code",
      "source": [
        "a=range(1,11)\n",
        "list(a) #index 사용가능 바로."
      ],
      "metadata": {
        "colab": {
          "base_uri": "https://localhost:8080/"
        },
        "id": "VFwuV9b4KmBv",
        "outputId": "c809cf72-0a21-4831-c01c-2a2e56b6e287"
      },
      "execution_count": null,
      "outputs": [
        {
          "output_type": "execute_result",
          "data": {
            "text/plain": [
              "[1, 2, 3, 4, 5, 6, 7, 8, 9, 10]"
            ]
          },
          "metadata": {},
          "execution_count": 7
        }
      ]
    },
    {
      "cell_type": "code",
      "source": [
        "\n",
        "# 앞의 예제\n",
        "# marks = [90, 25, 67, 45, 80]\n",
        "# number = 0\n",
        "# for i in marks:\n",
        "#  number=number+1\n",
        "#  if i<60:\n",
        "#  continue\n",
        "#  print('yes')\n",
        "#  print('%d번째 학생은 합격' %number)\n",
        "\n",
        "\n",
        "marks = [90, 25, 67, 45, 80]\n",
        "for i in range(len(marks)):                                         #!!!!!!!!!!!!!!!!!!!!!!!!!!!!!!!!!!!!!!!!!!range로 구할 생각하기!!!!\n",
        "  score= marks[i]\n",
        "  if score < 60: continue\n",
        "  print('%d번 학생 축하합니다. 합격입니다' %(i+1))                          #!!!!!!!!!!!!!!!!!!!!!!!!!!!!!!!!!!!!!1 (i+1)해주는 것 !!!!!!!!!!!!!\n",
        "\n",
        "\n",
        "for i in range(len(marks)) :\n",
        "  score=marks[i]\n",
        "  if score >=60 :\n",
        "    print(f'{i+1}번 학생 축하합니다')\n",
        "\n",
        "\n",
        "\n",
        "# 예제:  한줄에 결괏값 출력\n",
        "for i in range(2,5):\n",
        "  for j in range(1,5):                                              # 첫번째거 하나에 뒤에 숫자 차례대로 다, 이런 순서로 나간다.\n",
        "   # print(i*j)\n",
        "    print(i*j, end= \" \") #end 역할=> 엔터 안되게..? sep 라는 것도 있다.  / 각 문장 맨 끝에 나올 것을 의미한다. 만약 /n 이면 일반 문장처럼 다음문장으로 엔터 쳐진다."
      ],
      "metadata": {
        "colab": {
          "base_uri": "https://localhost:8080/"
        },
        "id": "e23I8-2hL8JO",
        "outputId": "685e43f4-aba2-480f-f0fb-660ed65dbb55"
      },
      "execution_count": null,
      "outputs": [
        {
          "output_type": "stream",
          "name": "stdout",
          "text": [
            "1번 학생 축하합니다. 합격입니다\n",
            "3번 학생 축하합니다. 합격입니다\n",
            "5번 학생 축하합니다. 합격입니다\n",
            "1번 학생 축하합니다\n",
            "3번 학생 축하합니다\n",
            "5번 학생 축하합니다\n",
            "2 4 6 8 3 6 9 12 4 8 12 16 "
          ]
        }
      ]
    },
    {
      "cell_type": "code",
      "source": [
        "# 예제: 구구단 출력하기\n",
        "for k in range(2,10):\n",
        "    for j in range(1, 10):\n",
        "        print('%d X %d = %d' %(k, j, k*j))\n",
        "\n",
        "line = ''                                           #!!!!!!!!!!!!!!!!!!!!!!!!!!!!!!!!!!!!!!!!!!!! 문자 더하기 문자\n",
        "for k in range(2,10):\n",
        "    line = line + ('#   %d단   # '%k)\n",
        "print(line)   ##   2단   # #   3단   # #   4단   # #   5단   # #   6단   # #   7단   # #   8단   # #   9단   #"
      ],
      "metadata": {
        "id": "j7FQDMTxPo0W"
      },
      "execution_count": null,
      "outputs": []
    },
    {
      "cell_type": "code",
      "source": [
        "line = ''                                           #!!!!!!!!!!!!!!!!!!!!!!!!!!!!!!!!!!!!!!!!!!!! 문자 더하기 문자\n",
        "for k in range(2,10):\n",
        "    line = line + (f'#   {k}단   # ')\n",
        "print(line)"
      ],
      "metadata": {
        "colab": {
          "base_uri": "https://localhost:8080/"
        },
        "id": "_O9NGy19txic",
        "outputId": "9c1bc889-0aff-4674-efed-4c19548b6153"
      },
      "execution_count": null,
      "outputs": [
        {
          "output_type": "stream",
          "name": "stdout",
          "text": [
            "#   2단   # #   3단   # #   4단   # #   5단   # #   6단   # #   7단   # #   8단   # #   9단   # \n"
          ]
        }
      ]
    },
    {
      "cell_type": "code",
      "source": [
        "line = ''\n",
        "for k in range(2,10):\n",
        "    line = line + str('#   %d단   # '%k) #str  있어도 되고 없어도 됨\n",
        "print(line) #print가 for문이랑 같은 열에 있으면 그 for문 전체의 결과를 한번에 출력한다. for문 안에 있으면 하나하나 다 출력한다.\n",
        "\n",
        "\n",
        "\n",
        "for j in range(1,10):\n",
        "  line = ''                                                    #line 이 for j 앞에 나오면 이렇게 안만들어짐 왜???????????????? for j로 다시 돌아올때 line 이 다시 정의되기 때문이다.\n",
        "  for k in range(2, 10):\n",
        "    line = line + ('%d x %d= %2d   ' %(k, j, k*j)) #2d  2칸 만들어줌 , 2d 뒤에 띄어쓰기 넣어주기 #k와j의 곱하기 순서와 상관없이 먼저나온 for 하나에 뒤에있는 for 전체가 연관된다.\n",
        "  print(line) # for j=1 에 대한 k 9개가 다 대응되었을 때, print하고 다음 j로 넘어간다.\n"
      ],
      "metadata": {
        "colab": {
          "base_uri": "https://localhost:8080/"
        },
        "id": "lEdNNj-yNrtG",
        "outputId": "2eb6e0be-67e9-41c9-b0b3-29983bad5aa5"
      },
      "execution_count": 1,
      "outputs": [
        {
          "output_type": "stream",
          "name": "stdout",
          "text": [
            "#   2단   # #   3단   # #   4단   # #   5단   # #   6단   # #   7단   # #   8단   # #   9단   # \n",
            "2 x 1=  2   3 x 1=  3   4 x 1=  4   5 x 1=  5   6 x 1=  6   7 x 1=  7   8 x 1=  8   9 x 1=  9   \n",
            "2 x 2=  4   3 x 2=  6   4 x 2=  8   5 x 2= 10   6 x 2= 12   7 x 2= 14   8 x 2= 16   9 x 2= 18   \n",
            "2 x 3=  6   3 x 3=  9   4 x 3= 12   5 x 3= 15   6 x 3= 18   7 x 3= 21   8 x 3= 24   9 x 3= 27   \n",
            "2 x 4=  8   3 x 4= 12   4 x 4= 16   5 x 4= 20   6 x 4= 24   7 x 4= 28   8 x 4= 32   9 x 4= 36   \n",
            "2 x 5= 10   3 x 5= 15   4 x 5= 20   5 x 5= 25   6 x 5= 30   7 x 5= 35   8 x 5= 40   9 x 5= 45   \n",
            "2 x 6= 12   3 x 6= 18   4 x 6= 24   5 x 6= 30   6 x 6= 36   7 x 6= 42   8 x 6= 48   9 x 6= 54   \n",
            "2 x 7= 14   3 x 7= 21   4 x 7= 28   5 x 7= 35   6 x 7= 42   7 x 7= 49   8 x 7= 56   9 x 7= 63   \n",
            "2 x 8= 16   3 x 8= 24   4 x 8= 32   5 x 8= 40   6 x 8= 48   7 x 8= 56   8 x 8= 64   9 x 8= 72   \n",
            "2 x 9= 18   3 x 9= 27   4 x 9= 36   5 x 9= 45   6 x 9= 54   7 x 9= 63   8 x 9= 72   9 x 9= 81   \n"
          ]
        }
      ]
    },
    {
      "cell_type": "code",
      "source": [
        "line=''\n",
        "for i in range(1,10):\n",
        "  line= line +(f'4 x {i} = {4*i}   ')    # 끝날때 '  하기 전 띄워 주는 거 !!!!!!!!!!!!!!!!!!\n",
        "print(line)"
      ],
      "metadata": {
        "colab": {
          "base_uri": "https://localhost:8080/"
        },
        "id": "ISmYMwv3v02y",
        "outputId": "e544edb1-4df9-4117-9556-4f702e4a634e"
      },
      "execution_count": null,
      "outputs": [
        {
          "output_type": "stream",
          "name": "stdout",
          "text": [
            "4 x 1 = 4   4 x 2 = 8   4 x 3 = 12   4 x 4 = 16   4 x 5 = 20   4 x 6 = 24   4 x 7 = 28   4 x 8 = 32   4 x 9 = 36   \n"
          ]
        }
      ]
    },
    {
      "cell_type": "code",
      "source": [
        "# 예제: dictionary\n",
        "Keys = ['name', 'hp', 'mp', 'level']\n",
        "values = ['기사', 200, 30, 5]\n",
        "character = {} # dictionary\n",
        "\n",
        "\n",
        "for i in range(len(Keys)): # i = 0,1,2,3                                              # 중요 ! 하나씩 대응할때 len() !!!!!!!!!!!!!!!!!!!!!!!!!!!!!\n",
        "  character[Keys[i]]= values[i]                                                   #dic든 리스트든 안에 있는요소 변화시킬때 []사용한다.\n",
        "\n",
        "print(character)\n",
        "\n",
        "\n",
        "#출력결과: {'name': '기사', 'hp': 200, 'mp':30, 'level':5)\n",
        "\n",
        "#연습문제:\n",
        "#1*99. 2*98, 3*97,,,,,,99*1 중에서 최대가 되는 경우는 어떤 두 숫자를 곱했을 때인지를 찾는 코드를\n",
        "# for 문 이용하여 작성하기\n",
        "\n",
        "print(Keys[1])"
      ],
      "metadata": {
        "colab": {
          "base_uri": "https://localhost:8080/"
        },
        "id": "hee9_iGtPRWG",
        "outputId": "5789d2e5-52c1-4b90-eaee-bb5a2397c58d"
      },
      "execution_count": null,
      "outputs": [
        {
          "output_type": "stream",
          "name": "stdout",
          "text": [
            "{'name': '기사', 'hp': 200, 'mp': 30, 'level': 5}\n",
            "hp\n"
          ]
        }
      ]
    },
    {
      "cell_type": "code",
      "source": [
        "Keys = ['name', 'hp', 'mp', 'level']\n",
        "for i in range(len(Keys)):\n",
        "  print(Keys[i])\n",
        "\n",
        "Key = ['name', 'hp', 'mp', 'level']\n",
        "print(Key[0])"
      ],
      "metadata": {
        "colab": {
          "base_uri": "https://localhost:8080/"
        },
        "id": "JRSEgXN2000j",
        "outputId": "fe4e88ea-d5df-4018-a5c0-7fcf0cfb9ff6"
      },
      "execution_count": null,
      "outputs": [
        {
          "output_type": "stream",
          "name": "stdout",
          "text": [
            "name\n",
            "hp\n",
            "mp\n",
            "level\n",
            "name\n"
          ]
        }
      ]
    },
    {
      "cell_type": "code",
      "source": [
        "#연습문제:\n",
        "#1*99. 2*98, 3*97,,,,,,99*1 중에서 최대가 되는 경우는 어떤 두 숫자를 곱했을 때인지를 찾는 코드를\n",
        "# for 문 이용하여 작성하기\n",
        "\n",
        "M=0;\n",
        "num1=0;num2=0;\n",
        "for i in range(1,51) :\n",
        "    j= 100-i\n",
        "    if i*j> M:\n",
        "      M= i*j\n",
        "      num1=i;num2=j\n",
        "print(M, num1, num2)\n",
        "\n",
        "\n"
      ],
      "metadata": {
        "colab": {
          "base_uri": "https://localhost:8080/"
        },
        "id": "0b8OKIej2vP9",
        "outputId": "558b5da8-c239-4275-afad-736a9fcab731"
      },
      "execution_count": null,
      "outputs": [
        {
          "output_type": "stream",
          "name": "stdout",
          "text": [
            "2500 50 50\n"
          ]
        }
      ]
    },
    {
      "cell_type": "code",
      "source": [
        "max_value = 0\n",
        "max_i = 0\n",
        "max_j = 0\n",
        "\n",
        "for i in range(1, 100):\n",
        "    for j in range(1, 100):\n",
        "        if i * (100 - i) > max_value:\n",
        "            max_value = i * (100 - i)\n",
        "            max_i = i\n",
        "            max_j = 100 - i\n",
        "\n",
        "print(f\"최대값은 {max_value}이며, {max_i}와 {max_j}를 곱했을 때이다.\")\n",
        "\n",
        "a=0;b=0;\n",
        "max_value = 0\n",
        "for i in range(1,51):\n",
        "  j=100-i\n",
        "  if max_value < i*j:\n",
        "     max_value = i*j\n",
        "     a=i\n",
        "     b=j\n",
        "print(f'{a}*{b} 일때 최대값이 {max_value}이다')"
      ],
      "metadata": {
        "colab": {
          "base_uri": "https://localhost:8080/"
        },
        "id": "OVrK8Ga0ZAq6",
        "outputId": "a1100cc4-8068-4513-c689-96a7167f3608"
      },
      "execution_count": null,
      "outputs": [
        {
          "output_type": "stream",
          "name": "stdout",
          "text": [
            "최대값은 2500이며, 50와 50를 곱했을 때이다.\n",
            "50*50 일때 최대값이 2500이다\n"
          ]
        }
      ]
    },
    {
      "cell_type": "code",
      "source": [
        "\n",
        "#=====================================\n",
        "# 리스트 내포 사용하기\n",
        "#=====================================\n",
        "a = [1,2,3,4]\n",
        "result = [];\n",
        "for num in a: #num 이라는게 뒤에 in a 가 있기에 a 안에 있는 요소들을 가리킨다.\n",
        "    result.append(num*3) #[3, 6, 9, 12]\n",
        "print(result)\n",
        "\n",
        "# 리스트 내포(list comprehension)                                     #내가 원하는 것을 []안에 먼저 쓴 후에 for문을 시작하기\n",
        "\n",
        "result2 = [num*3 for num in a] # :이거 없다 클론 없다.\n",
        "print(result2)\n",
        "\n",
        "\n",
        "result3 = [num*3 for num in a if num%2==0] #num 이 짝수이면\n",
        "print(result3)\n",
        "\n",
        "result4 = [i*j for i in range(2,10) for j in range(1,10)] # : 클론 없다.\n",
        "print(result4)"
      ],
      "metadata": {
        "colab": {
          "base_uri": "https://localhost:8080/"
        },
        "id": "Ng94sLFL_9RX",
        "outputId": "95e855e2-0b6e-471a-ac78-3a7b974ad9fe"
      },
      "execution_count": null,
      "outputs": [
        {
          "output_type": "stream",
          "name": "stdout",
          "text": [
            "[3, 6, 9, 12]\n",
            "[3, 6, 9, 12]\n",
            "[6, 12]\n",
            "[2, 4, 6, 8, 10, 12, 14, 16, 18, 3, 6, 9, 12, 15, 18, 21, 24, 27, 4, 8, 12, 16, 20, 24, 28, 32, 36, 5, 10, 15, 20, 25, 30, 35, 40, 45, 6, 12, 18, 24, 30, 36, 42, 48, 54, 7, 14, 21, 28, 35, 42, 49, 56, 63, 8, 16, 24, 32, 40, 48, 56, 64, 72, 9, 18, 27, 36, 45, 54, 63, 72, 81]\n"
          ]
        }
      ]
    },
    {
      "cell_type": "code",
      "source": [
        "a = [1,2,3,4]\n",
        "b=[]\n",
        "for i in a:\n",
        "  b.append(i*2)\n",
        "print(b)\n",
        "\n",
        "c = [num*2 for num in a]\n",
        "print(c)"
      ],
      "metadata": {
        "colab": {
          "base_uri": "https://localhost:8080/"
        },
        "id": "bwhRKqasuF6T",
        "outputId": "9a2a4423-24a3-44e6-e1f1-a6dd6b1b7b56"
      },
      "execution_count": 3,
      "outputs": [
        {
          "output_type": "stream",
          "name": "stdout",
          "text": [
            "[2, 4, 6, 8]\n",
            "[2, 4, 6, 8]\n"
          ]
        }
      ]
    },
    {
      "cell_type": "code",
      "source": [
        "## Exercise=================================================\n",
        "\n",
        "#1. 10명의 학생들의 중간고사 점수는 [70, 60,55,75, 95,90,80,80,85,100]이다.\n",
        "#for 문을 사용하여 A학급의 평균 점수를 구하고, 90점이 넘는 학생수를 구하여라.\n",
        "#index  사용하여 구해보기\n",
        "\n",
        "a= [70, 60,55,75, 95,90,80,80,85,100]\n",
        "total = 0\n",
        "c = 0\n",
        "\n",
        "for i in range(len(a)):\n",
        "  total += a[i]\n",
        "  if a[i]> 90:\n",
        "    c+= 1\n",
        "print('평균은 %.2f이고 90점이 넘는 학생수는 %d 이다'%(total/len(a), c))\n",
        "\n",
        "num=0;\n",
        "for i in range(len(a)):\n",
        "  if a[i]>90:\n",
        "    num+=1\n",
        "print(f'{num},{sum(a)/len(a): .2f}')\n",
        "\n",
        "\n",
        "\n",
        "#2.[1,2,3,4,5,6,7] 리스트 중에서 홀수에만 2를 곱하여 저장하는 코드를 '리스트 내포'를 사용하여 만들어라\n",
        "\n",
        "a=[1,2,3,4,5,6,7]\n",
        "result=[i*2 for i in a if i%2==1]\n",
        "print(result)\n"
      ],
      "metadata": {
        "colab": {
          "base_uri": "https://localhost:8080/"
        },
        "id": "GDbuASy0A7Wd",
        "outputId": "776a62b1-192b-42f6-e615-f08bfe1e1e6c"
      },
      "execution_count": null,
      "outputs": [
        {
          "output_type": "stream",
          "name": "stdout",
          "text": [
            "평균은 79.00이고 90점이 넘는 학생수는 2 이다\n",
            "2, 79.00\n",
            "[2, 6, 10, 14]\n"
          ]
        }
      ]
    },
    {
      "cell_type": "code",
      "source": [
        "a='asdfdsafag'\n",
        "print(list(a))"
      ],
      "metadata": {
        "colab": {
          "base_uri": "https://localhost:8080/"
        },
        "id": "Olg8BI2PM0VS",
        "outputId": "85cdb3e3-36ff-4e9f-e888-3bb73f05a41f"
      },
      "execution_count": null,
      "outputs": [
        {
          "output_type": "stream",
          "name": "stdout",
          "text": [
            "['a', 's', 'd', 'f', 'd', 's', 'a', 'f', 'a', 'g']\n"
          ]
        }
      ]
    },
    {
      "cell_type": "code",
      "source": [
        "\n",
        "#1. 10명의 학생들의 중간고사 점수는 [70, 60,55,75, 95,90,80,80,85,100]이다.\n",
        "#for 문을 사용하여 A학급의 평균 점수를 구하고, 90점이 넘는 학생수를 구하여라.\n",
        "#index  사용하여 구해보기\n",
        "\n",
        "score= [70, 60,55,75, 95,90,80,80,85,100]\n",
        "\n",
        "\n",
        "num=0;\n",
        "for i in range(len(score)):\n",
        "  if score[i]>90 :\n",
        "    num+=1\n",
        "print(f'평균{sum(score)/len(score)}, 90점 넘는 학생수{num}')\n",
        "\n",
        "num=0;total=0;\n",
        "for i in score:\n",
        "  if i>90:\n",
        "    num+=1\n",
        "  total+=i\n",
        "print(f'평균{total/len(score)} 90점이상 학생수 {num}')\n",
        "\n",
        "\n",
        "#2. [1,2,3,4,5,6,7] 리스트 중에서 홀수에만 2를 곱하여 저장하는 코드를 '리스트 내포'를 사용하여 만들어라\n",
        "\n",
        "total=1;\n",
        "a=[1,2,3,4,5,6,7]\n",
        "for i in range(len(a)):\n",
        "  if a[i]%2==1:\n",
        "    total*=a[i]\n",
        "print(total)\n",
        "\n",
        "\n",
        "a=[1,2,3,4,5,6,7]\n",
        "for i in range(len(a)):\n",
        "  if a[i]%2==1:\n",
        "    a[i]*=2\n",
        "print(a)\n",
        "\n",
        "a=[1,2,3,4,5,6,7]\n",
        "result=[i*2 for i in a if i%2==1]\n",
        "print(result)\n",
        "\n",
        "\n",
        "total=0;\n",
        "a=[1,2,3,4,5,6,7]\n",
        "for i in a:\n",
        "  if i>5:\n",
        "    total+=1\n",
        "print(total)\n"
      ],
      "metadata": {
        "colab": {
          "base_uri": "https://localhost:8080/"
        },
        "id": "5ZkejEwc7qad",
        "outputId": "24e8b4ea-a80c-4026-a6f5-b37cbe9e7bc8"
      },
      "execution_count": null,
      "outputs": [
        {
          "output_type": "stream",
          "name": "stdout",
          "text": [
            "평균79.0, 90점 넘는 학생수2\n",
            "평균79.0 90점이상 학생수 2\n",
            "105\n",
            "[2, 2, 6, 4, 10, 6, 14]\n",
            "[2, 6, 10, 14]\n",
            "2\n"
          ]
        }
      ]
    },
    {
      "cell_type": "code",
      "source": [
        "'''\n",
        "=====================================\n",
        "함수\n",
        "=====================================\n",
        "'''\n",
        "#===함수생성========\n",
        "def add(a,b):\n",
        "  return a+b  #reture  은 결과값  # add(a,b) 라는 함수의 정의가 a+b 라고 생각하면 된다.\n",
        "#===================\n",
        "\n",
        "# 함수실행\n",
        "a = 3\n",
        "b = 4\n",
        "c = add(a, b) # =a+b\n",
        "print(c) #7\n",
        "\n",
        "print(add(3,4)) #7\n",
        "\n",
        "c = add(b=4, a=3) #7                                                                            !!!!!!!!!!!!!!!!!!!!!!!!!1\n",
        "print(c)\n",
        "\n",
        "d= add(4,7) #11\n",
        "print(d)\n",
        "\n",
        "e=add(5,1)                #이거는 프린트 안되는데 밑에거는 프린트 된다 !!!!!!!\n",
        "add(5,1)"
      ],
      "metadata": {
        "id": "OSdDU0l4HgOc",
        "colab": {
          "base_uri": "https://localhost:8080/"
        },
        "outputId": "8a5a20e6-94b7-4640-d5d8-d921e3c7c96e"
      },
      "execution_count": null,
      "outputs": [
        {
          "output_type": "stream",
          "name": "stdout",
          "text": [
            "7\n",
            "7\n",
            "7\n",
            "11\n"
          ]
        },
        {
          "output_type": "execute_result",
          "data": {
            "text/plain": [
              "6"
            ]
          },
          "metadata": {},
          "execution_count": 39
        }
      ]
    },
    {
      "cell_type": "code",
      "source": [
        "# 입력값이 없는 함수\n",
        "def say():\n",
        "  return 'hi'\n",
        "\n",
        "a = say()\n",
        "print(a)#hi\n",
        "print()\n",
        "\n",
        "\n",
        "# 결과값이 없는 함수 (return이 없음)  #return 없는데 print 안써주면 진짜 아무것도 안된다. 다 None만 나옴\n",
        "def add(a,b):\n",
        "  print('%d + %d = %d'%(a,b,a+b))\n",
        "\n",
        "add(3,4) #3 + 4 = 7\n",
        "\n",
        "c= add(3,4) #3 + 4 = 7\n",
        "\n",
        "print(c)  #none  값이 나옴                                              !!!!!!!!!!!!!!!!!!!!!!!!!!!!!!!!!!!!!!!11!!!!!!!!!!!!\n",
        "\n",
        "print()\n",
        "print(add(3,4)) #3 + 4 =7 엔터 하고 None값이 나옴                                   !!!!!!!!!!!!!!!!!!!!!!!!!!!!\n",
        "\n",
        "print('='*20)\n",
        "\n",
        "def add(a,b):\n",
        "  print('%d + %d = %d'%(a,b,a+b))\n",
        "a= add(3,4)\n",
        "print(add(3,4))       #None\n",
        "print(a)              #None\n",
        "print()\n",
        "\n",
        "def add(a,b):\n",
        "  (a+b)\n",
        "\n",
        "a=add(3,4)  #7\n",
        "print(add(3,4)) #None\n",
        "print()\n",
        "print(a) # None"
      ],
      "metadata": {
        "colab": {
          "base_uri": "https://localhost:8080/"
        },
        "id": "0EnT2h0DF3Pc",
        "outputId": "a7a966ec-ff97-43ff-9e33-83ac7f7b9d6f"
      },
      "execution_count": null,
      "outputs": [
        {
          "output_type": "stream",
          "name": "stdout",
          "text": [
            "hi\n",
            "\n",
            "3 + 4 = 7\n",
            "3 + 4 = 7\n",
            "None\n",
            "\n",
            "3 + 4 = 7\n",
            "None\n",
            "====================\n",
            "3 + 4 = 7\n",
            "3 + 4 = 7\n",
            "None\n",
            "None\n",
            "\n",
            "None\n",
            "\n",
            "None\n"
          ]
        }
      ]
    },
    {
      "cell_type": "code",
      "source": [
        "def add(a,b):\n",
        "  return print('%d + %d = %d'%(a,b,a+b)) #def 안에 return 뒤에 같은 열에 위치한 문장은 실행되지 않는다 !!!! return 과 같은 줄에 있어야만 실행된다\n",
        "  print('마')\n",
        "\n",
        "print('마늘')\n",
        "\n",
        "a= add(3,4)\n",
        "print()\n",
        "\n",
        "print(a) # printprint는  None나온다                                                   !!!!!!!!!!!!!!!!!!!!!!!\n",
        "\n"
      ],
      "metadata": {
        "colab": {
          "base_uri": "https://localhost:8080/"
        },
        "id": "jDqjy5umF7P-",
        "outputId": "151dea62-021d-406e-9467-d2860be45b6e"
      },
      "execution_count": null,
      "outputs": [
        {
          "output_type": "stream",
          "name": "stdout",
          "text": [
            "마늘\n",
            "3 + 4 = 7\n",
            "\n",
            "None\n"
          ]
        }
      ]
    },
    {
      "cell_type": "code",
      "source": [
        "print(print(3))\n",
        "print()\n",
        "\n",
        "a= print(3)\n",
        "print()\n",
        "\n",
        "print(a)               # print(print(c)) 하면 print(c) 출력되고 다음줄에 none 나옴 !!!!!!!!!!!!!! 만약 a=print(c)라고 하고 print(a)하면 none 하나만 나옴"
      ],
      "metadata": {
        "colab": {
          "base_uri": "https://localhost:8080/"
        },
        "id": "Zut3DUK2FM-c",
        "outputId": "649b6c2c-3c1a-43e8-c338-c608dfde8880"
      },
      "execution_count": null,
      "outputs": [
        {
          "output_type": "stream",
          "name": "stdout",
          "text": [
            "3\n",
            "None\n",
            "\n",
            "3\n",
            "\n",
            "None\n"
          ]
        }
      ]
    },
    {
      "cell_type": "code",
      "source": [
        "## Exercise 1. ======================================\n",
        "#f(x)=x^2+2x+1 에 대한 함수 만들고 f(10)값은?\n",
        "def f(x):\n",
        "  return x**2+2*x+1\n",
        "f(10) #121\n",
        "print(f(x=10))                          #x를 a 로하면 오류남, 함수 안에서 문자지정할거면 정의된 문자 사용하기 !!!!!!!!!!!!!!!!!!!!!\n",
        "#print(f(a=10)) error\n",
        "\n",
        "## Exercise 2. =========================================\n",
        "# 입력값으로 자연수를 넣고 자연수가 홀수인지 짝수인지 판별해주는 함수 만들기\n",
        "\n",
        "def a(n):\n",
        "  if n%2==0:\n",
        "    print('%d는 짝수'%(n))\n",
        "  else:\n",
        "    print('%d는 홀수'%n)\n",
        "a(121)\n",
        "\n",
        "\n",
        "\n",
        "\n",
        "def num(x):\n",
        "  if x%2==0:\n",
        "    return '짝수'                   # return을 if절 안에 넣어도 된다 !!!!!!!!!!!!!!!\n",
        "  else :\n",
        "    return '홀수'\n",
        "\n",
        "a=num(2)\n",
        "print(a)\n",
        "print(num(2))"
      ],
      "metadata": {
        "colab": {
          "base_uri": "https://localhost:8080/"
        },
        "id": "QxLxcYblJO_E",
        "outputId": "a4b83d6f-1f7e-4db1-9a1e-d94f27457c45"
      },
      "execution_count": null,
      "outputs": [
        {
          "output_type": "stream",
          "name": "stdout",
          "text": [
            "121\n",
            "121는 홀수\n",
            "짝수\n",
            "짝수\n"
          ]
        }
      ]
    },
    {
      "cell_type": "code",
      "source": [
        "# 두 개의 값을 return ==================================\n",
        "def add_and_mul(a,b):\n",
        "  return a+b, a*b\n",
        "\n",
        "\n",
        "result =     add_and_mul(3,4)                             # 튜블 안에 있다 !!!!!!!!!!!!!!!!!!!!!!\n",
        "print(result)\n",
        "\n",
        "result1, result2 = add_and_mul(3,4)\n",
        "print(result1, result2)                                         #!!!!!!!!!!!!!!!! 차이점 구분 !!!!!!!!!!!!!\n",
        "\n",
        "def a(a,b):\n",
        "  return a+b, a*b\n",
        "print(a(3,4))"
      ],
      "metadata": {
        "colab": {
          "base_uri": "https://localhost:8080/"
        },
        "id": "eaQXrMsANQBy",
        "outputId": "526238b6-5062-49ee-9141-8b296d91916f"
      },
      "execution_count": null,
      "outputs": [
        {
          "output_type": "stream",
          "name": "stdout",
          "text": [
            "(7, 12)\n",
            "7 12\n",
            "(7, 12)\n"
          ]
        }
      ]
    },
    {
      "cell_type": "code",
      "source": [
        "# return을 만나는 순간 함수를 빠져나감\n",
        "def say_nick(nick):\n",
        "  if nick == '바보':\n",
        "     return\n",
        "  print('나의 별명은 %s 입니다'%nick)\n",
        "\n",
        "\n",
        "say_nick('야호') #나의 별명은 야호 입니다\n",
        "a=say_nick('바보') #함수에서  return을 만나는 순간 함수를 빠져나감. 따라서 실행되지 않음.\n",
        "print(a) #None 나온다\n"
      ],
      "metadata": {
        "colab": {
          "base_uri": "https://localhost:8080/"
        },
        "id": "-eMcsXiJNe2x",
        "outputId": "c01072b7-4911-4c6b-ec23-578da71fa8a1"
      },
      "execution_count": null,
      "outputs": [
        {
          "output_type": "stream",
          "name": "stdout",
          "text": [
            "나의 별명은 야호 입니다\n",
            "None\n",
            "4\n"
          ]
        }
      ]
    },
    {
      "cell_type": "code",
      "source": [
        "\n",
        "#=== 가변매개변수를 받는 함수===============\n",
        "def add_many(*args): #arguments\n",
        "  total = 0\n",
        "  for num in args :\n",
        "    total+= num\n",
        "  return total\n",
        "#===========================================\n",
        "\n",
        "result= add_many(1,2,3) #6\n",
        "print(result)\n",
        "result2 = add_many(1,2,3,4,5,6,7,8,9) #45\n",
        "print(result2)\n",
        "\n",
        "## Exercise 1.================================================\n",
        "# # 전달한 값들을 모두 곱해서 리턴하는 함수 mul을 만들어서, mul(1,2,3,4,5,6,7,8,9) 실행했을 때 뭐나오는지\n",
        "def mul(*args):\n",
        "  total = 1                       #0 으로 하면 안된다 !!! 곱하기니까!!!!!!!!!!!!!!!!!!!!!!!!!!!\n",
        "  for num in args :\n",
        "    total*=num\n",
        "  return total\n",
        "\n",
        "result= mul(1,2,3,4,5,6,7,8,9)\n",
        "print(result)\n",
        "\n",
        "\n",
        "## Exercise 2.================================================\n",
        "# 여러개의 자연수를 입력받아 (예, 1,4,5,6,18,19) 가 홀수인지 짝수인지 판별해주는 함수와 홀수/짝수 갯수를 리턴하는 함수만들기\n",
        "def a(*args):\n",
        "  total1 = 0;total2 = 0\n",
        "  for num in args:\n",
        "    if num%2==0:\n",
        "      total1+=1\n",
        "      print('짝수')\n",
        "    else:\n",
        "      total2+=1\n",
        "      print('홀수')\n",
        "  return total1, total2\n",
        "\n",
        "result1=a(1,4,5,6,18,19)\n",
        "print(result1)\n",
        "\n",
        "print()\n",
        "#=== 여러 개의 입력값(가변매개변수포함)을 받는 함수==========                               !!!!!!!!!!!!!!!!!!!!!!!!!!!!!!!!!!\n",
        "def add_mul(choice, *args):\n",
        "  if choice == 'add' :\n",
        "    total=0\n",
        "    for i in args:\n",
        "      total +=i\n",
        "  elif choice == 'mul' :\n",
        "    total=1\n",
        "    for i in args:\n",
        "      total *=i\n",
        "\n",
        "  return total #return 에 맞춰서\n",
        "\n",
        "result= add_mul('add',1,2,3)\n",
        "print(result)\n",
        "result= add_mul('mul',1,2,3,4,5)\n",
        "print(result)\n"
      ],
      "metadata": {
        "colab": {
          "base_uri": "https://localhost:8080/"
        },
        "id": "sBh6JZLHQgEB",
        "outputId": "83c00004-1c52-4abe-aa60-78ca3dab5541"
      },
      "execution_count": null,
      "outputs": [
        {
          "output_type": "stream",
          "name": "stdout",
          "text": [
            "6\n",
            "45\n",
            "362880\n",
            "홀수\n",
            "짝수\n",
            "홀수\n",
            "짝수\n",
            "짝수\n",
            "홀수\n",
            "(3, 3)\n",
            "\n",
            "6\n",
            "120\n"
          ]
        }
      ]
    },
    {
      "cell_type": "code",
      "source": [
        "# 여러개의 자연수를 입력받아 (예, 1,4,5,6,18,19) 가 홀수인지 짝수인지 판별해주는 함수와 홀수/짝수 갯수를 리턴하는 함수만들기\n",
        "\n",
        "def a(*a):\n",
        "  total1=0; total2=0\n",
        "  for i in a:                                                                             #!!!!!!!!!!!!!!!!!!!!!!!!!!!!!!!!!!!!!11\n",
        "    if i%2==0:\n",
        "      print(i,'짝수', end=' ')\n",
        "      total1+=1\n",
        "    else:\n",
        "      print(i,'홀수', end=' ')\n",
        "      total2+=1\n",
        "  return print('홀', total1, '짝', total2)\n",
        "\n",
        "a(1,4,5,6,18,19)\n",
        "\n",
        "\n"
      ],
      "metadata": {
        "colab": {
          "base_uri": "https://localhost:8080/"
        },
        "id": "AwtJG7ANlyQB",
        "outputId": "3b5a8325-0bb0-4dcf-90e9-c721d22ca6c0"
      },
      "execution_count": null,
      "outputs": [
        {
          "output_type": "stream",
          "name": "stdout",
          "text": [
            "1 홀수 4 짝수 5 홀수 6 짝수 18 짝수 19 홀수 홀 3 짝 3\n"
          ]
        }
      ]
    },
    {
      "cell_type": "code",
      "source": [
        "def mul(*args):\n",
        "  total = 1\n",
        "  for num in args :\n",
        "    total*=num\n",
        "  return total\n",
        "\n",
        "c= mul(1,2,3,4,5,6,7,8,9)\n",
        "print(c)"
      ],
      "metadata": {
        "colab": {
          "base_uri": "https://localhost:8080/"
        },
        "id": "57LNycn6SW0C",
        "outputId": "570d41ce-487a-40f8-e9f4-1dadaf632a48"
      },
      "execution_count": null,
      "outputs": [
        {
          "output_type": "stream",
          "name": "stdout",
          "text": [
            "362880\n"
          ]
        }
      ]
    },
    {
      "cell_type": "code",
      "source": [
        "def a(*args): #total for  안에 넣으면 초기화가 되어서 1개 밖에 안나옴\n",
        "  total1 = 0\n",
        "  total2 = 0\n",
        "  for num in args:\n",
        "    if num%2==0:\n",
        "      total1+=1\n",
        "      print('%d 짝수'%num)\n",
        "    else:\n",
        "      total2+=1\n",
        "      print('%d 홀수'%num)\n",
        "  return print('홀수의 갯수는 %d 짝수의 갯수는%d' %(total1, total2)) #return 은 for 나와서 해줘야함\n",
        "result1=a(1,4,5,6,18,19)\n"
      ],
      "metadata": {
        "colab": {
          "base_uri": "https://localhost:8080/"
        },
        "id": "Owdc4sgbTtUw",
        "outputId": "11425dc7-2162-40ae-a57a-f195276f0024"
      },
      "execution_count": null,
      "outputs": [
        {
          "output_type": "stream",
          "name": "stdout",
          "text": [
            "1 홀수\n",
            "4 짝수\n",
            "5 홀수\n",
            "6 짝수\n",
            "18 짝수\n",
            "19 홀수\n",
            "홀수의 갯수는 3 짝수의 갯수는3\n"
          ]
        }
      ]
    },
    {
      "cell_type": "code",
      "source": [
        "# input 값으로  \"name, 학번, 국, 영, 수, 과학 성적\"을 입력받아 다음 출력값을 갖도록 하는 함수(함수이름: score)를 만들어라:\n",
        "def score(a,b,c,d,e,f) :\n",
        "  score=(a,b,c,d,e,f)\n",
        "  return print(f'{a}학생({b})은 평균{sum(score[2:])/len(score):.1f}') # len 를 잘못 받음 ! 이거는 튜플에서 리스트로 바꾼 후에 푸는게 유리\n",
        "#(1)\n",
        "#a=input('name: ');b=input('학번: ');c=int(input('국어: '));d=int(input('영어: '));e=int(input('수학: '));f=int(input('과학: '))\n",
        "#score(a,b,c,d,e,f)\n",
        "\n",
        "print()\n",
        "score('홍길동', 2020030, 100, 80,90, 70)\n",
        "print('='*30)\n",
        "#(2)\n",
        "def score(a,b,c,d,e,f) :\n",
        "  score=(a,b,c,d,e,f)\n",
        "  average= int(sum(score[2:])/len(score))\n",
        "  return average\n",
        "\n",
        "a=score('홍길동', 2020030, 100, 80,90, 70)\n",
        "print(a)\n",
        "\n",
        "\n",
        "# (1) \"score('홍길동', 2020030, 100, 80,90, 70)\"를 실행했을 때, 다음 출력결과가 나오도록 하고\n",
        "# 출력결과: ***학생(학번)은 평균 ***점입니다.\n",
        "# (2) 평균값을 return하도록 하여라.\n",
        "\n",
        "\n",
        "\n",
        "def score(name, num, *args):                                         # !!!!!!!!!!!!!!!!!!!!!!!!!!!!!!!!!!!!!!!!!(a, b, *c)도 가능\n",
        "  scores = list(args) #[100, 80,90,70]\n",
        "  average = sum(scores)/len(scores)\n",
        "\n",
        "  print(f'{name}({num}) 학생은 평균{average:.2f}')\n",
        "  return average\n",
        "score('홍길동',2020030, 100, 80, 90, 70)          # average 프린트 안했는데도 나옴 # *args 에서 어디부터 어디까지 args 로 받아지는지 보기???????????????????????????????????"
      ],
      "metadata": {
        "colab": {
          "base_uri": "https://localhost:8080/"
        },
        "id": "mGvozW68O-IO",
        "outputId": "2a342d88-9102-4260-b163-029dd60eafdf"
      },
      "execution_count": null,
      "outputs": [
        {
          "output_type": "stream",
          "name": "stdout",
          "text": [
            "\n",
            "홍길동학생(2020030)은 평균56.7\n",
            "==============================\n",
            "56\n",
            "홍길동(2020030) 학생은 평균85.00\n"
          ]
        },
        {
          "output_type": "execute_result",
          "data": {
            "text/plain": [
              "85.0"
            ]
          },
          "metadata": {},
          "execution_count": 37
        }
      ]
    },
    {
      "cell_type": "code",
      "source": [
        "def score(name, num, *args):                                         # !!!!!!!!!!!!!!!!!!!!!!!!!!!!!!!!!!!!!!!!!(a, b, *c)도 가능\n",
        "  scores = list(args) #[100, 80,90,70]\n",
        "  print(scores)\n",
        "\n",
        "\n",
        "score('홍길동',2020030, 100, 80, 90, 70)"
      ],
      "metadata": {
        "colab": {
          "base_uri": "https://localhost:8080/"
        },
        "id": "X2lU_ldiajDp",
        "outputId": "03e32f6e-545c-47e3-cb18-118f37b5fc6c"
      },
      "execution_count": null,
      "outputs": [
        {
          "output_type": "stream",
          "name": "stdout",
          "text": [
            "[100, 80, 90, 70]\n"
          ]
        }
      ]
    },
    {
      "cell_type": "code",
      "source": [
        "# 예제1:\n",
        "def print_n_times(n, *values):\n",
        "  for i in range(n):          # range()안에들어가야하므로 n은 숫자가 나와야겠다\n",
        "    for value in values:\n",
        "      print(value)\n",
        "    print()\n",
        "\n",
        "\n",
        "print_n_times(3, 'hi', 'enjoy', 'python')\n",
        "\n",
        "\n",
        "def print_n_times(n, *values):\n",
        "  for i in range(n):\n",
        "    for value in values:\n",
        "      print(value, end=' ')   # , end=' '\n",
        "\n",
        "\n",
        "print_n_times(3, 'hi', 'enjoy', 'python')\n",
        "\n",
        "#가로로 하는거 중요 !!!!!!!!!!!!!!!!\n"
      ],
      "metadata": {
        "colab": {
          "base_uri": "https://localhost:8080/"
        },
        "id": "V4Pe_GCZNGAx",
        "outputId": "ace2fd47-b507-4231-c89b-2a3a6017660f"
      },
      "execution_count": null,
      "outputs": [
        {
          "output_type": "stream",
          "name": "stdout",
          "text": [
            "hi\n",
            "enjoy\n",
            "python\n",
            "\n",
            "hi\n",
            "enjoy\n",
            "python\n",
            "\n",
            "hi\n",
            "enjoy\n",
            "python\n",
            "\n",
            "hi enjoy python hi enjoy python hi enjoy python "
          ]
        }
      ]
    },
    {
      "cell_type": "code",
      "source": [
        "# 예제2:\n",
        "def print_n_times(*values, n):\n",
        " for i in range(n):\n",
        "    for value in values:\n",
        "      print(value, end=' ')\n",
        "    print()\n",
        "\n",
        "\n",
        "\n",
        "# print_n_times('hi','enjoy','python', 3) #error  생긴다. n을 정확하게 정의해주면 된다. !!!!!!!!!!!!!!!!!!!!!!!!!!!!!\n",
        "\n",
        "print_n_times('hi','enjoy','python', n=3)  # 또한 n=3의 위치가 위에 표시한 위치가 아니면 에러난다. 정의해줘도..\n",
        "\n",
        "\n"
      ],
      "metadata": {
        "colab": {
          "base_uri": "https://localhost:8080/"
        },
        "id": "syHj0KItN4dY",
        "outputId": "223258ff-09ee-4e8d-fb56-8498b1baea3f"
      },
      "execution_count": null,
      "outputs": [
        {
          "output_type": "stream",
          "name": "stdout",
          "text": [
            "hi enjoy python \n",
            "hi enjoy python \n",
            "hi enjoy python \n"
          ]
        }
      ]
    },
    {
      "cell_type": "code",
      "source": [
        "#======================================================\n",
        "# 매개변수에 초깃값 미리 설정 (제일 마지막에 위치해야함)!!!!!!!???????????????????????????????????????????????????????????????\n",
        "def say_myself(name, age, man=True):\n",
        "    print('나의 이름은 %s입니다.' %name)\n",
        "    print('나이는 %d살입니다.' %age)\n",
        "    if man:\n",
        "      print('나는 남자입니다')\n",
        "    else:\n",
        "      print('나는 여자입니다')\n",
        "#=====================================================\n",
        "\n",
        "say_myself('홍길동', 27) # 따로 말 안하면 True로 인식하나? 매개변수가 뭐지?\n",
        "say_myself('홍길동', 27, True)\n",
        "say_myself('홍길순', 25, False)\n",
        "\n",
        "# 예제:\n",
        "def test(a, b=10, c=100):\n",
        "  print(a+b+c)\n",
        "\n",
        "\n",
        "test(10,20,30)\n",
        "test(a=10, b=100, c=200) # 설정하면 순서 바꿀 수 있다.\n",
        "test(c=10,a=100, b=200)\n",
        "test(10, c=200) #b에는 초기값이 10 들어간다.\n",
        "test(10)\n",
        "\n",
        "\n"
      ],
      "metadata": {
        "colab": {
          "base_uri": "https://localhost:8080/"
        },
        "id": "AlKTgCrBOpga",
        "outputId": "f4083e3e-e040-47fc-feed-bcc5c5176bb4"
      },
      "execution_count": null,
      "outputs": [
        {
          "output_type": "stream",
          "name": "stdout",
          "text": [
            "나의 이름은 홍길동입니다.\n",
            "나이는 27살입니다.\n",
            "나는 남자입니다\n",
            "나의 이름은 홍길동입니다.\n",
            "나이는 27살입니다.\n",
            "나는 남자입니다\n",
            "나의 이름은 홍길순입니다.\n",
            "나이는 25살입니다.\n",
            "나는 여자입니다\n",
            "60\n",
            "310\n",
            "310\n",
            "220\n",
            "120\n"
          ]
        }
      ]
    },
    {
      "cell_type": "code",
      "source": [
        "# 예제3:\n",
        "def print_n_times(*values, n=2):\n",
        " for i in range(n):\n",
        "    for value in values:\n",
        "      print(value, end=' ')\n",
        "    print()\n",
        "\n",
        "\n",
        "print_n_times('hi','enjoy','python', 3) # hi 부터 3까지 다  values로 인식하고 n=2라고 그냥 생각한다.                      !!!!!!!!!!!!!!!!!!!!!!!!!!!!!!!!!!\n",
        "#hi enjoy python 3\n",
        "print()\n",
        "print_n_times('hi','enjoy','python', n=3)\n",
        "#hi enjoy python\n",
        "\n",
        "## Exercise 1. 오타가 발생하는 코드 찾기:===================\n",
        "def f2(*values, A, B): #이거는 다 *values로 인식해서 에러생긴다.     함수 쓸때 A,B 지정 안해주면                   !!!!!!!!!!!!!!!!!!!!!!!!!!!!\n",
        "  print(values)\n",
        "\n",
        "f2(1,2,3,A=4,B=5) # 이렇게 함수 A=, B=으로 지정해주면 에러 안생김# A,B를 위에서 지정 안해줬는데 함수 사용할 때 A,B를 언급 안하면 오류난다 당연.\n",
        "f2(1,2,3,B=4,A=5) # 튜블 안에 나온다 !!!!!!!!!! 함수에서 숫자가 여러개이면!!!! 튜블안에서 def a(a,b)일 때 도 마찮가지 !!!!!!!\n",
        "\n",
        "def f2(*values, A=10, B=20):                                            #!!!!!!!!!!!!!!!!!!!!!!!!!!!!!!!!!!!!!!!! 구분하기\n",
        "  print(values)\n",
        "f2(1,2,3,4,5)\n",
        "\n",
        "def f2(A, B, *values):\n",
        "  print(values)\n",
        "f2(1,2,3,4,5)\n",
        "\n",
        "def f2(A=10, B=20, *values):\n",
        "  print(values)\n",
        "f2(1,2,3,4,5)\n",
        "\n",
        "\n",
        "\n",
        "## Exercise 2. =============================================??????????????????????????????????????????????????????????????????????????????"
      ],
      "metadata": {
        "colab": {
          "base_uri": "https://localhost:8080/"
        },
        "id": "aVSSQZhoPNDZ",
        "outputId": "86f9b73c-9333-478a-f8a1-0eeb242cefae"
      },
      "execution_count": null,
      "outputs": [
        {
          "output_type": "stream",
          "name": "stdout",
          "text": [
            "hi enjoy python 3 \n",
            "hi enjoy python 3 \n",
            "\n",
            "hi enjoy python \n",
            "hi enjoy python \n",
            "hi enjoy python \n",
            "(1, 2, 3)\n",
            "(1, 2, 3)\n",
            "(1, 2, 3, 4, 5)\n",
            "(3, 4, 5)\n",
            "(3, 4, 5)\n"
          ]
        }
      ]
    },
    {
      "cell_type": "code",
      "source": [
        "#===========================================================\n",
        "## 함수 안에서 선언한 변수의 효력 범위\n",
        "a=1\n",
        "def var_test(a):\n",
        "    a = a+1\n",
        "    return a\n",
        "\n",
        "result= var_test(a)                                               #!!!!!!!!!!!!!!!!!!!!!!!!!!!!!!!!!!!!!!!!\n",
        "print(result) #2\n",
        "print(a) # 1  # a 값은 여전히 1이다. !!!!!!!!!!!!!!!!!!! 함수 안에서만 a가 2로 변한것이기 때문에\n",
        "print(var_test(3)) #4\n",
        "print()\n",
        "## global 명령어*******\n",
        "a=1\n",
        "def var_test(): # a값 변화시키려면 ! 함수 밖에서도 !!\n",
        "    global a\n",
        "    a = a+1\n",
        "    return a\n",
        "\n",
        "var_test()\n",
        "print(a)\n",
        "\n",
        "var_test()\n",
        "print(a)\n",
        "\n",
        "var_test()                                              # 계속 추가된다 !!!!!!!!!!!!!!\n",
        "print(a)\n",
        "\n"
      ],
      "metadata": {
        "colab": {
          "base_uri": "https://localhost:8080/"
        },
        "id": "U5TxodWwQszp",
        "outputId": "05a650f7-06b6-4ebb-d4e5-d8d308a85f40"
      },
      "execution_count": null,
      "outputs": [
        {
          "output_type": "stream",
          "name": "stdout",
          "text": [
            "2\n",
            "1\n",
            "4\n",
            "\n",
            "2\n",
            "3\n",
            "4\n"
          ]
        }
      ]
    },
    {
      "cell_type": "code",
      "source": [
        "#var_test(3)\n",
        "#===========================================================\n",
        "def add(a,b):\n",
        "  return a+b\n",
        "result= add(3,4)\n",
        "print(result)\n",
        "#==============================================\n",
        "## lambda 사용하여 함수 만들기 (=def)\n",
        "#함수이름 =  lamda 변수: 함수 계산\n",
        "add1 = lambda a, b: a+b\n",
        "result1 = add1(3,4)\n",
        "print(result1)\n",
        "\n",
        "#==============================================\n",
        "\n",
        "## Exercise ======================================\n",
        "#1. f(x)=x^2+2x+1을 lamda 이용하여 함수 만들고 f(10) 출력\n",
        "f= lambda x: x**2+2*x+1 #f(x)라고 하면 안되고 f 만 해야한다.\n",
        "result = f(10)\n",
        "print(result)\n",
        "print(f(10))\n",
        "\n",
        "#2. lambda 이용하여 입력값을 x= [10,-2,3,4,0]으로 받고 x>0 인 값들만 찾아내는 함수???????????????????????????????????????????????????/\n",
        "def positive(x):\n",
        "  a=[]\n",
        "  for i in x :\n",
        "    if i>0:\n",
        "      a.append(i)\n",
        "  return a\n",
        "\n",
        "x= [10,-2,3,4,0]\n",
        "print(positive(x))\n",
        "\n",
        "\n",
        "x= [10,-2,3,4,0]\n",
        "#q= lambda x: x>0 이렇게 하면 에러난다, filter 하고 같이 쓰면 에러안나던데...\n",
        "#q(x)\n",
        "\n",
        "a=list(filter(lambda x:x>0, x))\n",
        "print(a)\n",
        "\n"
      ],
      "metadata": {
        "colab": {
          "base_uri": "https://localhost:8080/"
        },
        "id": "aQtpzY6QRuyh",
        "outputId": "75311df7-c7fe-4c41-fad7-a7697a1caf0b"
      },
      "execution_count": null,
      "outputs": [
        {
          "output_type": "stream",
          "name": "stdout",
          "text": [
            "7\n",
            "7\n",
            "121\n",
            "121\n",
            "[10, 3, 4]\n",
            "[10, 3, 4]\n"
          ]
        }
      ]
    },
    {
      "cell_type": "code",
      "source": [
        "print(abs(-3))\n",
        "print(all([1,2,3])) #true\n",
        "print(all([1,2,0])) #false\n",
        "print(all([]))# ture\n",
        "print(any([0, \"\"]))\n",
        "print(any([]))\n",
        "print(all('hi'))"
      ],
      "metadata": {
        "colab": {
          "base_uri": "https://localhost:8080/"
        },
        "id": "FhbsQFE_9KIV",
        "outputId": "e65911cc-7635-4d8e-c3c8-fa5e8b4cfa6a"
      },
      "execution_count": null,
      "outputs": [
        {
          "output_type": "stream",
          "name": "stdout",
          "text": [
            "3\n",
            "True\n",
            "False\n",
            "True\n",
            "False\n",
            "False\n",
            "True\n"
          ]
        }
      ]
    },
    {
      "cell_type": "code",
      "source": [
        "'''\n",
        "========================\n",
        "내장함수\n",
        "========================\n",
        "'''\n",
        "# abs #절댓값 나옴 !!!!!!\n",
        "a= abs(-3)\n",
        "print(a)\n",
        "# all, any(iterable): 리스트*튜플*딕셔너리*집합*문자열\n",
        "all([1,2,3]) #true\n",
        "all([1,2,0]) #false\n",
        "all([])# true   대문자임                    #왜 true 나오지?????    # 빈 리스트 튜블 나오면 True 출력\n",
        "                                                              # []()'' 다 element로 취급 안해서 곧바로 return으로 돌아간다!!!!\n",
        "\n",
        "any([1,2,3,0]) #true\n",
        "any([0, \"\"]) # False\n",
        "any([]) #false\n",
        "\n",
        "def all(iterable):\n",
        "  for element in iterable:\n",
        "    if not element:\n",
        "      return False\n",
        "  return True\n",
        "\n",
        "def any(iterable):\n",
        "  for element in iterable:\n",
        "    if element:\n",
        "      return True\n",
        "  return False\n",
        "\n",
        "# [1,2,4,8] => 모든 값들이 양수인지?                                      !!!!!!!!!!!!!!!!!!!!!!!!!!!!!!!!!!!!!!\n",
        "# 모두인지 알때는 all\n",
        "# 하나라도 양수있을 때는 any\n",
        "a= [1,-2,4,8]\n",
        "b=all(i>0 for i in a)\n",
        "print(b)\n",
        "c=any(i>0 for i in a)\n",
        "print(c)\n",
        "print()\n",
        "a= [1,-2,4,8]\n",
        "b=all(i>0 for i in a)\n",
        "c=any(i>0 for i in a)\n",
        "print(b,c)\n"
      ],
      "metadata": {
        "colab": {
          "base_uri": "https://localhost:8080/"
        },
        "id": "-eadIHJiByls",
        "outputId": "f9e75fdd-bfdc-44bb-bd6d-88f689380f83"
      },
      "execution_count": null,
      "outputs": [
        {
          "output_type": "stream",
          "name": "stdout",
          "text": [
            "3\n",
            "False\n",
            "True\n",
            "\n",
            "False True\n"
          ]
        }
      ]
    },
    {
      "cell_type": "code",
      "source": [
        "all([1, \"\"])"
      ],
      "metadata": {
        "colab": {
          "base_uri": "https://localhost:8080/"
        },
        "id": "qmi0UMMIspWv",
        "outputId": "8b4ba31d-1e71-4a61-c1af-80ebfdd25ab1"
      },
      "execution_count": null,
      "outputs": [
        {
          "output_type": "execute_result",
          "data": {
            "text/plain": [
              "False"
            ]
          },
          "metadata": {},
          "execution_count": 14
        }
      ]
    },
    {
      "cell_type": "code",
      "source": [
        "a= all([0])\n",
        "print(a)\n",
        "\n",
        "print(range(3))\n",
        "\n",
        "print(all(''))\n",
        "print(all(('')))\n",
        "print(all(['']))\n",
        "\n",
        "print(divmod(7,3))"
      ],
      "metadata": {
        "colab": {
          "base_uri": "https://localhost:8080/"
        },
        "id": "oOKISdLYX-37",
        "outputId": "a2b1e985-eaeb-4ae0-f208-8593f4f9065e"
      },
      "execution_count": null,
      "outputs": [
        {
          "output_type": "stream",
          "name": "stdout",
          "text": [
            "False\n",
            "range(0, 3)\n",
            "True\n",
            "True\n",
            "False\n",
            "(2, 1)\n"
          ]
        }
      ]
    },
    {
      "cell_type": "code",
      "source": [
        "print(all(['']))\n",
        "\n",
        "print(all((123,'')))"
      ],
      "metadata": {
        "colab": {
          "base_uri": "https://localhost:8080/"
        },
        "id": "19hxrgt-uqV6",
        "outputId": "807a7722-e75f-4eb2-bdf8-6ca1cd44d9f8"
      },
      "execution_count": null,
      "outputs": [
        {
          "output_type": "stream",
          "name": "stdout",
          "text": [
            "False\n",
            "False\n"
          ]
        }
      ]
    },
    {
      "cell_type": "code",
      "source": [
        "# 짝수만 있는지. 짝수가 하나라도 있는지\n",
        "\n",
        "a= [1,-2,4,8]\n",
        "b=all(i%2==0 for i in a)  # False\n",
        "print(b)\n",
        "c=any(i%2==0 for i in a)  #True\n",
        "print(c)\n",
        "\n",
        "\n",
        "\n",
        "#있는 지 없는지 알아내려면\n",
        "\n",
        "q=range(1,100)\n",
        "value=99\n",
        "print(any(value==i for i in q)) #True\n",
        "\n",
        "\n",
        "\n",
        "# divmod => (a,b): 몫과 나머지\n",
        "a=7; b=3;\n",
        "x=a//b\n",
        "y=a%b\n",
        "\n",
        "x, y = divmod(7, 3) # 2 1 #  이렇게 하면 튜플 빼고 나온다?\n",
        "print(x,y)\n",
        "\n",
        "a=divmod(7,3) #(2,1)\n",
        "print(a)\n",
        "\n",
        "## enumerate: 자료형의 현재 순서와 그 값\n",
        "for a, i in enumerate(['A', 'B', \"C\"]): #i, name  튜플 생략입니다.   # for 하고 같이 쓰임 !!!!!!!!!!!!!!!\n",
        "  print(a, i)\n",
        "\n",
        "print()\n",
        "score=[100,90,30,20]\n",
        "for i, i_score in enumerate(score):\n",
        "  if i_score >=60:\n",
        "    print(f'{i+1}번째 학생은 합격입니다')                     # +1 잊지말기 !!!!!!!!!!!!!!!!!!!!!!!!!\n",
        "\n",
        "\n",
        "## eval(expression): 실행 가능한 문자열을 받아 문자열을 실행한 결괏값을 돌려주는 함수\n",
        "eval('1+2') # print붙이면 3\n",
        "eval(\" 'hi'+'a' \")      # hia\n",
        "eval('divmod(7,3)')     # (2,1)                     #튜블 붙여서 나옴\n",
        "\n",
        "print('hi'+'i')"
      ],
      "metadata": {
        "colab": {
          "base_uri": "https://localhost:8080/"
        },
        "id": "pFUY3wSF9WY2",
        "outputId": "d25feb42-2489-4ecf-cdc9-eb0f8f170025"
      },
      "execution_count": null,
      "outputs": [
        {
          "output_type": "stream",
          "name": "stdout",
          "text": [
            "False\n",
            "True\n",
            "True\n",
            "2 1\n",
            "(2, 1)\n",
            "0 A\n",
            "1 B\n",
            "2 C\n",
            "\n",
            "1번째 학생은 합격입니다\n",
            "2번째 학생은 합격입니다\n",
            "hii\n"
          ]
        }
      ]
    },
    {
      "cell_type": "code",
      "source": [
        "a=list((1,2,3))\n",
        "print(a)"
      ],
      "metadata": {
        "colab": {
          "base_uri": "https://localhost:8080/"
        },
        "id": "lRO9JX2PS5G4",
        "outputId": "6ec07b7f-25a9-47ff-b4c4-ae2f0926d917"
      },
      "execution_count": null,
      "outputs": [
        {
          "output_type": "stream",
          "name": "stdout",
          "text": [
            "[1, 2, 3]\n"
          ]
        }
      ]
    },
    {
      "cell_type": "code",
      "source": [
        "x, y = divmod(7, 3) # (2,1) # 튜플 빼고 나온다\n",
        "print(x,y)\n",
        "\n",
        "for i, name in enumerate(['A', 'B', \"C\"]): #i, name  튜플 생략입니다.\n",
        "  print(i, name)\n",
        "\n",
        "print()\n",
        "\n",
        "print(eval('1+2'))\n",
        "print(eval(\" 'hi'+'a' \"))\n",
        "print(eval('divmod(7,3)'))\n"
      ],
      "metadata": {
        "colab": {
          "base_uri": "https://localhost:8080/"
        },
        "id": "b-TfBf7SA9-O",
        "outputId": "3241b9ea-9ef9-43ec-b9c2-a1012f2609b6"
      },
      "execution_count": null,
      "outputs": [
        {
          "output_type": "stream",
          "name": "stdout",
          "text": [
            "2 1\n",
            "0 A\n",
            "1 B\n",
            "2 C\n",
            "\n",
            "3\n",
            "hia\n",
            "(2, 1)\n"
          ]
        }
      ]
    },
    {
      "cell_type": "code",
      "source": [
        "\n",
        "# list\n",
        "list(\"python\") #['p', 'y', 't', 'h', 'o', 'n']                                        !!!!!!!!!!!!!!!!!!!!!!!!!!!!!!!!!!!!!!!!!!!!!!!\n",
        "list((1,2,3))  #튜플만 리스트로 바뀜 #[1, 2, 3]\n",
        "list(range(5))  # [0, 1, 2, 3, 4]\n",
        "list(range(5,10))  # [5, 6, 7, 8, 9]\n",
        "list(range(1,10,2)) # [1, 3, 5, 7, 9]\n",
        "list(range(0,-10,-1)) #[0, -1, -2, -3, -4, -5, -6, -7, -8, -9]\n",
        "list(range(0,-10)) # []\n",
        "\n",
        "# tuple\n",
        "tuple(\"abc\") #('a', 'b', 'c')\n",
        "tuple([1,2,3])  #(1, 2, 3)\n",
        "\n",
        "\n",
        "# round: 반올림\n",
        "round(4.6) #5\n",
        "round(4.2)  #4\n",
        "round(5.678, 2) # 5.68  #',2 는 소수점 2재짜리 까지 의미 !!!!!!!!!!!!!!!1\n",
        "\n",
        "# sorted(리스트,문자열,튜플) => list로 반환/ 결과물은 항상 리스트로 나온다 !!!!!!\n",
        "sorted([3,1,2]) #[1, 2, 3]\n",
        "sorted(['a','c','b']) # ['a', 'b', 'c']\n",
        "sorted(\"zero\")  #['e', 'o', 'r', 'z']\n",
        "sorted((3,2,1)) #[1, 2, 3]\n",
        "\n",
        "\n",
        "\n",
        "# sum(iterable)\n",
        "print(sum([1,2,3]))\n",
        "print(sum((1,2,3)))\n",
        "\n",
        "print(round(5.578))"
      ],
      "metadata": {
        "colab": {
          "base_uri": "https://localhost:8080/"
        },
        "id": "SPsdadPXJqrZ",
        "outputId": "6c3883bc-aa6c-4fe2-aaad-60f28cef4028"
      },
      "execution_count": null,
      "outputs": [
        {
          "output_type": "stream",
          "name": "stdout",
          "text": [
            "6\n",
            "6\n",
            "6\n"
          ]
        }
      ]
    },
    {
      "cell_type": "code",
      "source": [
        "a='hi',2\n",
        "print(a)\n",
        "\n",
        "print(2/1)"
      ],
      "metadata": {
        "colab": {
          "base_uri": "https://localhost:8080/"
        },
        "id": "Qy2JxUa8VEUI",
        "outputId": "fde70f54-5088-4ab6-81ef-297ef0da2d43"
      },
      "execution_count": null,
      "outputs": [
        {
          "output_type": "stream",
          "name": "stdout",
          "text": [
            "('hi', 2)\n",
            "2.0\n"
          ]
        }
      ]
    },
    {
      "cell_type": "code",
      "source": [
        "\n",
        "q=[1,-3,2,0,-5,6]\n",
        "a= list(filter(lambda x: x>0, q))\n",
        "print(a)"
      ],
      "metadata": {
        "colab": {
          "base_uri": "https://localhost:8080/"
        },
        "id": "Yfewe-HD4xXt",
        "outputId": "50e66f8c-71d2-4cae-a32e-bf78fa5df75c"
      },
      "execution_count": null,
      "outputs": [
        {
          "output_type": "stream",
          "name": "stdout",
          "text": [
            "[1, 2, 6]\n"
          ]
        }
      ]
    },
    {
      "cell_type": "code",
      "source": [
        "from re import X\n",
        "\n",
        "## filter(함수이름, 함수에 들어갈 반복가능한 자료형)====================\n",
        "# 두번째 인수가 함수에 입력되었을 때 반환 값이  참인 것만 묶어서 돌려줌\n",
        "\n",
        "q=[1,-3,2,0,-5,6]\n",
        "result= all(i>0 for i in q)\n",
        "print(result) # False\n",
        "\n",
        "result=[i for i in q if i>0]\n",
        "print(result) #[1, 2, 6]\n",
        "\n",
        "q=[1,-3,2,0,-5,6]\n",
        "\n",
        "def positive(*args):\n",
        "  A=[]\n",
        "  for i in args:\n",
        "    if i>0:\n",
        "      A.append(i)\n",
        "  return A\n",
        "\n",
        "a=positive(1,-3,2,0,-5,6)\n",
        "print(a) #[1, 2, 6]\n",
        "\n",
        "print()\n",
        "\n",
        "# filter 이용하여 간단하게 변경\n",
        "def positive2(x):\n",
        "  return x>0 #true flase 형식으로 나온다\n",
        "\n",
        "q=[1,-3,2,0,-5,6]\n",
        "a= filter(positive2, q) #true값들만 걸러낸다!!!!!!!!!!!!!!!!!!!!\n",
        "print(a) #<filter object at 0x7f0d94996d00>\n",
        "b= list(filter(positive2, q))\n",
        "print(b) #[1, 2, 6]\n",
        "\n",
        "q=[1,-3,2,0,-5,6]\n",
        "a= list(filter(lambda x: x>0, q))\n",
        "print(a)\n",
        "\n",
        "print()\n",
        "# lambda 사용하여 변경\n",
        "\n",
        "\n",
        "c=list(filter(lambda x: x>0, q))\n",
        "print(c)\n",
        "#======================================================================\n",
        "\n",
        "## Exercise ============================================================\n",
        "\n",
        "#1-10까지의 숫자중에서 홀수만 추출/ 3이상 7미만 추출/ x^2 <50 미만인 추출 해보세요 (filter/lambda 이용) 3개 추출\n",
        "\n",
        "a=range(1,11)\n",
        "\n",
        "b=list(filter(lambda x : x%2==1, a))\n",
        "print(b)\n",
        "\n",
        "c=list(filter(lambda a: 3<=a<7, a))\n",
        "print(c)\n",
        "\n",
        "d= list(filter(lambda a : a**2<50, a))\n",
        "print(d)"
      ],
      "metadata": {
        "colab": {
          "base_uri": "https://localhost:8080/"
        },
        "id": "WxNNR62NKsT5",
        "outputId": "56f78d40-df2e-4c9b-e21f-480200560f13"
      },
      "execution_count": null,
      "outputs": [
        {
          "output_type": "stream",
          "name": "stdout",
          "text": [
            "False\n",
            "[1, 2, 6]\n",
            "[1, 2, 6]\n",
            "\n",
            "<filter object at 0x7f4655b024f0>\n",
            "[1, 2, 6]\n",
            "\n",
            "[1, 2, 6]\n",
            "[1, 3, 5, 7, 9]\n",
            "[3, 4, 5, 6]\n",
            "[1, 2, 3, 4, 5, 6, 7]\n"
          ]
        }
      ]
    },
    {
      "cell_type": "code",
      "source": [
        "def a(x):\n",
        "  return x%2==0\n",
        "\n",
        "c=range(1,11)\n",
        "b=list(filter(a,c))\n",
        "print(b)\n",
        "\n",
        "print(a(3))"
      ],
      "metadata": {
        "colab": {
          "base_uri": "https://localhost:8080/"
        },
        "id": "Qxbm02Cd5-J3",
        "outputId": "96af372c-585f-486e-b22c-7b94d202be25"
      },
      "execution_count": null,
      "outputs": [
        {
          "output_type": "stream",
          "name": "stdout",
          "text": [
            "[2, 4, 6, 8, 10]\n",
            "False\n"
          ]
        }
      ]
    },
    {
      "cell_type": "code",
      "source": [
        "def positive2(x):\n",
        "  return x>0 #true flase 형식으로 나온다\n",
        "\n",
        "q=[1,-3,2,0,-5,6]\n",
        "a= filter(positive2, q) #true값들만 걸러낸다\n",
        "print(a)"
      ],
      "metadata": {
        "colab": {
          "base_uri": "https://localhost:8080/"
        },
        "id": "JqWmz94KHcYE",
        "outputId": "28ab620c-f699-4c4a-d5ce-9bbf9f0c695d"
      },
      "execution_count": null,
      "outputs": [
        {
          "output_type": "stream",
          "name": "stdout",
          "text": [
            "<filter object at 0x7f0d94a54070>\n"
          ]
        }
      ]
    },
    {
      "cell_type": "code",
      "source": [
        "#a={[1,2]:'hi'}\n",
        "#print(a)"
      ],
      "metadata": {
        "id": "oegQgIf6OctD"
      },
      "execution_count": null,
      "outputs": []
    },
    {
      "cell_type": "code",
      "source": [
        "## map(f, iterable): f=함수, iterable=반복가능한 자료형=================\n",
        "# 입력받은 자료형의 각 요소를 함수 f가 수행한 결과를 묶어서 돌려줌\n",
        "num_list = [1,2,3,4] # 입력값 => 결과값 [2,4,6,8]\n",
        "def two_times(num_list):\n",
        "  result = []\n",
        "  for i in num_list:\n",
        "    result.append(2*i)\n",
        "  return result\n",
        "\n",
        "num_list = [1,2,3,4]\n",
        "result = two_times(num_list) #[2,4,6,8]\n",
        "print(result)\n",
        "\n",
        "def a(b):\n",
        "  c=[]\n",
        "  for i in b:\n",
        "    c.append(i*2)\n",
        "  return c\n",
        "\n",
        "d=[1,2,3,4]\n",
        "print(a(d))\n",
        "\n",
        "\n",
        "# map 이용하여 간단하게 변경 # 변수를 하나밖에 못 만든다\n",
        "num_list = [1,2,3,4]\n",
        "a=list(map(lambda x : 2*x, num_list)) #  [2, 4, 6, 8] #대신에 filter 사용하면 결과값 [1,2,3,4]\n",
        "print(a)\n",
        "b=list(filter(lambda x : 2*x, num_list)) #[1, 2, 3, 4] # filter는 걸러 내는 것이지 변화시키는 것이 아니다 , 초기 값 그대로 가져온다 !!!!!!\n",
        "print(b)\n",
        "# =======================================================================\n",
        "\n",
        "## Exercise ============================================================\n",
        "# 1-100까지 자연수를  x 라 할때, 함숫값 f(x)= x^2 + 1을 되돌려주는 함수를 만들어라.                      range   !!!!!!!!!!!!!!!!!!!!!!!!!!!!!!!!!!!!!!!!1\n",
        "a= range (1,101)\n",
        "b=list(map(lambda x : x**2 + 1,a))\n",
        "print(b)\n",
        "\n",
        "def f(*x):\n",
        "  a=[]\n",
        "  for i in x:\n",
        "    a.append(i**2+1)\n",
        "  return a\n",
        "\n",
        "\n",
        "\n",
        "\n",
        "#x=range(1,101)\n",
        "#print(f(x))\n",
        "#def 에 range 쓸 수 없다 보다\n"
      ],
      "metadata": {
        "colab": {
          "base_uri": "https://localhost:8080/"
        },
        "id": "78TsjrANOtz6",
        "outputId": "b1ad984a-d105-483f-9ef2-15ba701feccf"
      },
      "execution_count": null,
      "outputs": [
        {
          "output_type": "stream",
          "name": "stdout",
          "text": [
            "[2, 4, 6, 8]\n",
            "[2, 4, 6, 8]\n",
            "[2, 4, 6, 8]\n",
            "[1, 2, 3, 4]\n",
            "[2, 5, 10, 17, 26, 37, 50, 65, 82, 101, 122, 145, 170, 197, 226, 257, 290, 325, 362, 401, 442, 485, 530, 577, 626, 677, 730, 785, 842, 901, 962, 1025, 1090, 1157, 1226, 1297, 1370, 1445, 1522, 1601, 1682, 1765, 1850, 1937, 2026, 2117, 2210, 2305, 2402, 2501, 2602, 2705, 2810, 2917, 3026, 3137, 3250, 3365, 3482, 3601, 3722, 3845, 3970, 4097, 4226, 4357, 4490, 4625, 4762, 4901, 5042, 5185, 5330, 5477, 5626, 5777, 5930, 6085, 6242, 6401, 6562, 6725, 6890, 7057, 7226, 7397, 7570, 7745, 7922, 8101, 8282, 8465, 8650, 8837, 9026, 9217, 9410, 9605, 9802, 10001]\n"
          ]
        }
      ]
    },
    {
      "cell_type": "code",
      "source": [
        "def f(x):\n",
        "  a=[]\n",
        "  for i in x:\n",
        "    a.append(i**2+1)\n",
        "  return a\n",
        "\n",
        "print(f(range(1,5)))\n"
      ],
      "metadata": {
        "colab": {
          "base_uri": "https://localhost:8080/"
        },
        "id": "lhyDnB1k892n",
        "outputId": "6ffa516f-7947-4010-b202-6d6b6ececb79"
      },
      "execution_count": null,
      "outputs": [
        {
          "output_type": "stream",
          "name": "stdout",
          "text": [
            "[2, 5, 10, 17]\n"
          ]
        }
      ]
    },
    {
      "cell_type": "code",
      "source": [
        "# 1-100까지 자연수를  x 라 할때, 함숫값 f(x)= x^2 + 1을 되돌려주는 함수를 만들어라.\n",
        "\n",
        "def f(x):\n",
        "  return print(x**2 + 1)\n",
        "f(5)\n",
        "\n",
        "g= lambda x: x**2 + 1\n",
        "print(g(10))\n",
        "\n",
        "a=range(1,101)\n",
        "print(list(map(lambda a: a**2 +1,a)))\n",
        "\n",
        "def f(x):\n",
        "  c=[]\n",
        "  for i in x:\n",
        "    c.append(i**2 + 1)\n",
        "  return c\n",
        "\n",
        "\n",
        "#print(range(1,3))\n",
        "#print(f(3,6))\n",
        "print(f(range(3)))\n",
        "print()"
      ],
      "metadata": {
        "colab": {
          "base_uri": "https://localhost:8080/"
        },
        "id": "zgCzlwOIzUdc",
        "outputId": "e345a8d9-d9f5-4695-ca84-99b34262e5b7"
      },
      "execution_count": null,
      "outputs": [
        {
          "output_type": "stream",
          "name": "stdout",
          "text": [
            "26\n",
            "101\n",
            "[2, 5, 10, 17, 26, 37, 50, 65, 82, 101, 122, 145, 170, 197, 226, 257, 290, 325, 362, 401, 442, 485, 530, 577, 626, 677, 730, 785, 842, 901, 962, 1025, 1090, 1157, 1226, 1297, 1370, 1445, 1522, 1601, 1682, 1765, 1850, 1937, 2026, 2117, 2210, 2305, 2402, 2501, 2602, 2705, 2810, 2917, 3026, 3137, 3250, 3365, 3482, 3601, 3722, 3845, 3970, 4097, 4226, 4357, 4490, 4625, 4762, 4901, 5042, 5185, 5330, 5477, 5626, 5777, 5930, 6085, 6242, 6401, 6562, 6725, 6890, 7057, 7226, 7397, 7570, 7745, 7922, 8101, 8282, 8465, 8650, 8837, 9026, 9217, 9410, 9605, 9802, 10001]\n",
            "range(1, 3)\n",
            "[1, 2, 5]\n",
            "\n"
          ]
        }
      ]
    },
    {
      "cell_type": "code",
      "source": [
        "for i in range(1,0):\n",
        "  print(i)"
      ],
      "metadata": {
        "id": "D9dylTZsYAaE"
      },
      "execution_count": null,
      "outputs": []
    },
    {
      "cell_type": "code",
      "source": [
        "def f(x):\n",
        "  c=[]\n",
        "  for i in x:\n",
        "    c.append(i**2 + 1)\n",
        "  return c\n",
        "\n",
        "#print(f(1,3,5))\n",
        " # range 들어가면 error 난다\n",
        "#print(f(range(3)))\n",
        "print(f(range(1,3)))\n",
        "\n"
      ],
      "metadata": {
        "colab": {
          "base_uri": "https://localhost:8080/"
        },
        "id": "9zVRmd8bTRlR",
        "outputId": "8601a740-d9d5-49d7-f35b-5171b009458b"
      },
      "execution_count": null,
      "outputs": [
        {
          "output_type": "stream",
          "name": "stdout",
          "text": [
            "[2, 5]\n"
          ]
        }
      ]
    },
    {
      "cell_type": "code",
      "source": [
        "## 반복문으로 팩토리얼 구하기\n",
        "\n",
        "\n",
        "def factorial(n):\n",
        "  result = 1\n",
        "  for i in range(1,n+1):\n",
        "    result*= i\n",
        "  return result\n",
        "\n",
        "n = 5\n",
        "print('%d!=%d'%(n, factorial(n)))\n"
      ],
      "metadata": {
        "colab": {
          "base_uri": "https://localhost:8080/"
        },
        "id": "dAKcJIbXSpHy",
        "outputId": "2ed3eedd-e239-470d-ee34-f3ebc29d9f05"
      },
      "execution_count": null,
      "outputs": [
        {
          "output_type": "stream",
          "name": "stdout",
          "text": [
            "5!=120\n"
          ]
        }
      ]
    },
    {
      "cell_type": "code",
      "source": [
        "def fac(x):\n",
        "  a=1\n",
        "  for i in range(1,x+1):\n",
        "    a*=i\n",
        "  return print(f'{x}!={a}')\n",
        "\n",
        "fac(5)"
      ],
      "metadata": {
        "colab": {
          "base_uri": "https://localhost:8080/"
        },
        "id": "z75Jo2jg1QJJ",
        "outputId": "988bc962-c2b0-40fe-9757-9412b8d00a77"
      },
      "execution_count": null,
      "outputs": [
        {
          "output_type": "stream",
          "name": "stdout",
          "text": [
            "5!=120\n"
          ]
        }
      ]
    },
    {
      "cell_type": "code",
      "source": [
        "#================================================================\n",
        "#  재귀함수: 자기 자신을 호출하는 것\n",
        "#================================================================\n",
        "\n",
        "#================================================================\n",
        "# (예제) 팩토리얼 구하기 factorial(0)=1, factorial(n)=n*factorial(n-1) :\n",
        "\n",
        "def factorial2(n):\n",
        "  if n==0:\n",
        "    return 1\n",
        "  else:\n",
        "    return n*factorial2(n-1)\n",
        "n = 5\n",
        "print('%d!=%d'%(n, factorial2(n)))\n",
        "print(f'{n}!={factorial2(n)}')\n",
        "print('='*20)\n"
      ],
      "metadata": {
        "id": "BJmLoPrbUrPR",
        "colab": {
          "base_uri": "https://localhost:8080/"
        },
        "outputId": "a0851e6d-31e7-4582-f683-342f836480dc"
      },
      "execution_count": null,
      "outputs": [
        {
          "output_type": "stream",
          "name": "stdout",
          "text": [
            "5!=120\n",
            "5!=120\n",
            "====================\n"
          ]
        }
      ]
    },
    {
      "cell_type": "code",
      "source": [
        "a=[1]\n",
        "a.extend([2])\n",
        "print(a)\n",
        "a.append(9)\n",
        "print(a)\n",
        "\n",
        "a=[1, 2, 3, 4, 5, 6,7,8]\n",
        "a.pop(1) # 1번째 요소를 꺼내서 보여주고 삭제\n",
        "# 결과: 2\n",
        "print(a)\n",
        "# 결과: [1, 3, 4, 5, 6, 7, 8]\n",
        "\n",
        "a='asdfasdghk'\n",
        "a=list(a)\n",
        "a.sort()\n",
        "a.insert(3,' ')\n",
        "print(''.join(a))\n",
        "\n",
        "print(a)\n"
      ],
      "metadata": {
        "colab": {
          "base_uri": "https://localhost:8080/"
        },
        "id": "goGjIydynpyn",
        "outputId": "7fae5501-2be0-4b00-9454-325991b4d7c8"
      },
      "execution_count": null,
      "outputs": [
        {
          "output_type": "stream",
          "name": "stdout",
          "text": [
            "[1, 2]\n",
            "[1, 2, 9]\n",
            "[1, 3, 4, 5, 6, 7, 8]\n",
            "aad dfghkss\n",
            "['a', 'a', 'd', ' ', 'd', 'f', 'g', 'h', 'k', 's', 's']\n"
          ]
        }
      ]
    },
    {
      "cell_type": "code",
      "source": [
        "#================================================================\n",
        "## (예제) 독일 수학자 콜라츠(Collatz -> L.) 추측: 주어진 숫자가 짝수면 2로 나눈다.\n",
        "# 주어진 숫자가 홀수면 3배한 후 1을 더한다.\n",
        "def collatz(num):             #return  필요없다?\n",
        "  if num==1:\n",
        "    return 1\n",
        "  elif num%2==1:\n",
        "    print(num, end= ' -> ')\n",
        "    return collatz(3*num +1)\n",
        "  else:\n",
        "    print(num, end= ' -> ')\n",
        "    return collatz(num//2) # num /2 를 쓰면 에러남, 실수값이라 소수점까지 나와서. num //2 써줘야 함   !!!!!!!!!!!!!!!!11!!!!!!!!!!!!!!!\n",
        "\n",
        "print(collatz(5))\n",
        "print(collatz(6))\n",
        "\n",
        "collatz(7)\n",
        "print()\n",
        "collatz(128)\n",
        "print()\n",
        "##collatz(129)\n",
        "#print()\n",
        "\n",
        "\n",
        "def collatz_count(num):                                     #!!!!!!!!!!!!!!!!!!!!!!!!!!!!!!!!!!!!!!!!!!!!!!!!!!!!!!!!!!!!!!!\n",
        "  if num==1:\n",
        "    return 0\n",
        "  elif num%2==1:\n",
        "    return collatz_count(3*num +1)+1\n",
        "  else:\n",
        "    return collatz_count(num//2)+1\n",
        "\n",
        "\n",
        "\n",
        "\n",
        "\n",
        "print(f'{collatz_count(7)}회')\n",
        "print(collatz_count(7), \"회\")\n",
        "print(collatz_count(128), \"회\")\n",
        "print(collatz_count(129), \"회\")\n",
        "print(collatz_count(5))\n",
        "print()\n",
        "num=0\n"
      ],
      "metadata": {
        "colab": {
          "base_uri": "https://localhost:8080/"
        },
        "id": "HPbvc_4VWQIn",
        "outputId": "8571ad4e-2dc7-4e0a-bb90-5934d0b75ffb"
      },
      "execution_count": null,
      "outputs": [
        {
          "output_type": "stream",
          "name": "stdout",
          "text": [
            "5 -> 16 -> 8 -> 4 -> 2 -> 1\n",
            "6 -> 3 -> 10 -> 5 -> 16 -> 8 -> 4 -> 2 -> 1\n",
            "7 -> 22 -> 11 -> 34 -> 17 -> 52 -> 26 -> 13 -> 40 -> 20 -> 10 -> 5 -> 16 -> 8 -> 4 -> 2 -> \n",
            "128 -> 64 -> 32 -> 16 -> 8 -> 4 -> 2 -> \n",
            "16회\n",
            "16 회\n",
            "7 회\n",
            "121 회\n",
            "5\n",
            "\n",
            "6\n",
            "23 회\n",
            "31 회\n",
            "153 회\n"
          ]
        }
      ]
    },
    {
      "cell_type": "code",
      "source": [
        "\n",
        "#================================================================\n",
        "# (예제) 피보나치 수열: 1, 1, a_n=a_(n-1)+a_(n-2)\n",
        "def fibonacci(n):\n",
        "    if n==1 or n==2:\n",
        "      return 1\n",
        "    else:\n",
        "      return fibonacci(n-1)+fibonacci(n-2)\n",
        "\n",
        "\n",
        "\n",
        "\n",
        "n=10\n",
        "print('fibonaci(%d)=%d'%(n, fibonacci(n)))\n",
        "print('='*20)\n",
        "\n",
        "# n=50일때 1시간 넘게 걸림!!\n",
        "\n"
      ],
      "metadata": {
        "id": "U3z31RrvV3IA",
        "colab": {
          "base_uri": "https://localhost:8080/"
        },
        "outputId": "f399f44b-4654-4f08-f0f1-07fbb5f9fe82"
      },
      "execution_count": null,
      "outputs": [
        {
          "output_type": "stream",
          "name": "stdout",
          "text": [
            "fibonaci(10)=55\n",
            "====================\n"
          ]
        }
      ]
    },
    {
      "cell_type": "code",
      "source": [
        "counter = 0           #counter 함수 안에서 정의 안해서 global 안쓰면 에러남\n",
        "def fibonacci2(n):\n",
        "    global counter\n",
        "    counter +=1\n",
        "    if n==1 or n==2:\n",
        "      return 1\n",
        "    else:\n",
        "      return fibonacci2(n-1)+fibonacci2(n-2)\n",
        "\n",
        "\n",
        "\n",
        "\n",
        "\n",
        "n=10\n",
        "fibonacci2(n)\n",
        "\n",
        "print('fibonacci({0}) 계산에 활용된 덧셈 횟수는 {1}번입니다.'.format(n,counter))\n",
        "print('='*20)\n",
        "# fibonacci(10) 계산에 활용된 덧셈 횟수는 109번입니다.\n",
        "# => 같은 값을 구하는 연산을반복하고 있기 때문에 발생!!!\n"
      ],
      "metadata": {
        "colab": {
          "base_uri": "https://localhost:8080/"
        },
        "id": "YvUtQ3I7IdKw",
        "outputId": "84e774bc-ea05-4a44-d2b3-0ffcff9b4a91"
      },
      "execution_count": null,
      "outputs": [
        {
          "output_type": "stream",
          "name": "stdout",
          "text": [
            "fibonacci(10) 계산에 활용된 덧셈 횟수는 109번입니다.\n",
            "====================\n"
          ]
        }
      ]
    },
    {
      "cell_type": "code",
      "source": [
        "counter = 0           #counter 함수 안에서 정의 안해서 global 안쓰면 에러남\n",
        "def fibonacci2(n):\n",
        "    if n==1 or n==2:\n",
        "      return 0\n",
        "    else:\n",
        "      return fibonacci2(n-1)+fibonacci2(n-2) +1\n",
        "\n",
        "n=10\n",
        "a=fibonacci2(n)\n",
        "print(a)\n",
        "\n",
        "count=0\n",
        "def collatz_count(num):                                     #!!!!!!!!!!!!!!!!!!!!!!!!!!!!!!!!!!!!!!!!!!!!!!!!!!!!!!!!!!!!!!!\n",
        "  global count\n",
        "  count+=1\n",
        "  if num==1:\n",
        "    return 0\n",
        "  elif num%2==1:\n",
        "    return collatz_count(3*num +1)\n",
        "  else:\n",
        "    return collatz_count(num//2)\n",
        "\n",
        "collatz_count(7)\n",
        "print(count)"
      ],
      "metadata": {
        "colab": {
          "base_uri": "https://localhost:8080/"
        },
        "id": "MUIGUJ1rdfoX",
        "outputId": "2f969682-a36a-44d5-8597-a8519003d4c6"
      },
      "execution_count": null,
      "outputs": [
        {
          "output_type": "stream",
          "name": "stdout",
          "text": [
            "54\n",
            "17\n"
          ]
        }
      ]
    },
    {
      "cell_type": "code",
      "source": [
        "#================================================================\n",
        "## 메모화: 같은 값을 한번만 계산하도록 코드를 수정하기!\n",
        "#================================================================\n",
        "\n",
        "dict={1:1,2:1}                #global dic 해도 상관 없다/굳이 안해도 상관 없음\n",
        "def fibonacci_memo(n):\n",
        "\n",
        "      if n in dict:\n",
        "        return dict[n]\n",
        "      else:\n",
        "        output = fibonacci_memo(n-1)+fibonacci_memo(n-2)\n",
        "        dict[n]= output\n",
        "        return output                                                 #!!!!!!!!!!!!!!!!!!!!!!!!!!!!!!!!!!!!!11\n",
        "\n",
        "n=50\n",
        "print('fibonaci(%d)=%d'%(n, fibonacci_memo(n))) # 엄청빠름!!\n",
        "print()\n",
        "\n"
      ],
      "metadata": {
        "colab": {
          "base_uri": "https://localhost:8080/"
        },
        "id": "KlySYrnLJ_Lw",
        "outputId": "e864539a-c65a-4903-9489-45a75013881d"
      },
      "execution_count": null,
      "outputs": [
        {
          "output_type": "stream",
          "name": "stdout",
          "text": [
            "fibonaci(50)=12586269025\n",
            "\n"
          ]
        }
      ]
    },
    {
      "cell_type": "code",
      "source": [
        "# Exercise (facotiral 메모화) ==========================================\n",
        "dict={0:1, 1:1}\n",
        "def factorial_memo(n):\n",
        "  if n in dict:\n",
        "    return dict[n]\n",
        "  else:\n",
        "    output= n*factorial_memo(n-1)\n",
        "    dict[n]= output\n",
        "    return output\n",
        "\n",
        "\n",
        "n=10\n",
        "print(factorial_memo(n))\n",
        "print('='*20)\n"
      ],
      "metadata": {
        "id": "6ELO62JkMPnP",
        "colab": {
          "base_uri": "https://localhost:8080/"
        },
        "outputId": "b436887e-93f9-4bf4-9cd2-d89eb4282d8b"
      },
      "execution_count": null,
      "outputs": [
        {
          "output_type": "stream",
          "name": "stdout",
          "text": [
            "3628800\n",
            "====================\n"
          ]
        }
      ]
    }
  ]
}