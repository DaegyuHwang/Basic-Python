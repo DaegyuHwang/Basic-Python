{
  "nbformat": 4,
  "nbformat_minor": 0,
  "metadata": {
    "colab": {
      "provenance": [],
      "authorship_tag": "ABX9TyPCGmPsNlmW7z4okj8mImbT",
      "include_colab_link": true
    },
    "kernelspec": {
      "name": "python3",
      "display_name": "Python 3"
    },
    "language_info": {
      "name": "python"
    }
  },
  "cells": [
    {
      "cell_type": "markdown",
      "metadata": {
        "id": "view-in-github",
        "colab_type": "text"
      },
      "source": [
        "<a href=\"https://colab.research.google.com/github/DaegyuHwang/Python-Basic/blob/main/5_Error_Class_Module.ipynb\" target=\"_parent\"><img src=\"https://colab.research.google.com/assets/colab-badge.svg\" alt=\"Open In Colab\"/></a>"
      ]
    },
    {
      "cell_type": "code",
      "source": [
        "# (error) : ====================================================\n",
        "# a. 프로그램 실행 전에 발생하는 오류 => 구문오류 => 프로그램 자체가 실행되지 않음\n",
        "# b. 프로그램 실행 후에 발생하는 오류 => 예외(except)/런타임오류\n",
        "print('프로그램이 시작되었습니다!')\n",
        "\n",
        "list_a = [1,2,3]\n",
        "list_a[1]\n",
        "#예외 해결\n",
        "\n",
        "\n",
        "#======================================================\n",
        "#### 예외를 처리하는 방법: 조건문을 사용 또는 try 구문 사용\n",
        "# 조건문 사용:\n",
        "#is digit 인가? # .isdigit() # 문자열이 숫자로만 되어있는가! 를 판단 # ',''.'과 같은 것들은 다 문자로 판단하여 False취급\n",
        "\n",
        "user_input = input('정수입력:')\n",
        "if user_input.isdigit():\n",
        "  num_input = int(user_input)\n",
        "  print('원의 둘레:', 2*3.14*num_input)\n",
        "else:\n",
        "  print('정수가 아닙니다.')\n"
      ],
      "metadata": {
        "colab": {
          "base_uri": "https://localhost:8080/"
        },
        "id": "s0HBsF8Cio4A",
        "outputId": "d3fe197d-1752-493e-a101-93e1684dc6fc"
      },
      "execution_count": null,
      "outputs": [
        {
          "output_type": "stream",
          "name": "stdout",
          "text": [
            "프로그램이 시작되었습니다!\n",
            "정수입력:4\n",
            "원의 둘레: 25.12\n"
          ]
        }
      ]
    },
    {
      "cell_type": "code",
      "source": [
        "#=======================================================\n",
        "# 프로그램을 작성할때 항상 예외적인 상황까지 모두 생각하는 게 좋음\n",
        "# 조건문처럼 예외가 발생할 모든 상황을 예측하기 쉽지 않음\n",
        "# => try/ except 구문을 사용!\n",
        "# try:\n",
        "#   예외가 발생할 가능성이 있는 코드\n",
        "# except:\n",
        "#   예외가 발생했을 때 실행할 코드\n",
        "#========================================================\n",
        "try:\n",
        "  user_input = input('정수입력:')\n",
        "  num_input = int(user_input)\n",
        "  print('원의 둘레:', 2*3.14*num_input)\n",
        "except:\n",
        "  print('정수가 아닙니다.')\n"
      ],
      "metadata": {
        "colab": {
          "base_uri": "https://localhost:8080/"
        },
        "id": "8YVDXug8kD1w",
        "outputId": "18a3f45b-36cb-4e96-b6d3-22ec4feb2435"
      },
      "execution_count": null,
      "outputs": [
        {
          "output_type": "stream",
          "name": "stdout",
          "text": [
            "정수입력:d\n",
            "정수가 아닙니다.\n"
          ]
        }
      ]
    },
    {
      "cell_type": "code",
      "source": [
        "print(int(3.2))\n",
        "# print(int('5.2')) #에러생김. 문자라서\n",
        "\n",
        "# int,str,float는 다 문자열을 벗겨낸다는 의미가 있다. 그게 역할의 끝이다. 그런데 int 경우 정수가 아니면 에러 !\n",
        "\n",
        "#a=int(input('정수'))\n",
        "#print(a)    # 3.14하면 이거는 오류\n",
        "\n",
        "print(int('52')) #  에러안생기고  52나온다 #int 가 문자를 벗겨낸다.\n",
        "#print(int('스파이')) #에러\n"
      ],
      "metadata": {
        "colab": {
          "base_uri": "https://localhost:8080/"
        },
        "id": "arBO5padnaoT",
        "outputId": "0eb17d71-0611-457c-985f-a9b7ae06c174"
      },
      "execution_count": null,
      "outputs": [
        {
          "output_type": "stream",
          "name": "stdout",
          "text": [
            "3\n",
            "52\n"
          ]
        }
      ]
    },
    {
      "cell_type": "code",
      "source": [
        "# try:\n",
        "#   예외가 발생할 가능성이 있는 코드\n",
        "# except:\n",
        "#   예외가 발생했을 때 실행할 코드\n",
        "# else:\n",
        "#   예외가 발생하지 않았을때 실행할 코드\n",
        "\n",
        "try:\n",
        "#  user_input = input('정수입력:')\n",
        "  num_input = int(user_input)\n",
        "except:\n",
        "  print('정수가 아닙니다.')\n",
        "else:\n",
        "    print('원의 둘레:', 2*3.14*num_input)\n",
        "\n",
        "# try:\n",
        "#   예외가 발생할 가능성이 있는 코드\n",
        "# except:\n",
        "#   예외가 발생했을 때 실행할 코드\n",
        "# else:\n",
        "#  예외가 발생하지 않았을때 실행할 코드\n",
        "# finally:\n",
        "# 무조건 실행할 코드 #예외 유무에 상관없이\n",
        "\n",
        "try:\n",
        "#  user_input = input('정수입력:')\n",
        "  num_input = int(user_input)\n",
        "except:\n",
        "  print('정수가 아닙니다.')\n",
        "else:\n",
        "    print('원의 둘레:', 2*3.14*num_input)\n",
        "finally:\n",
        "  print('예외이든 아니든 코딩을 마치겠음')\n",
        "\n",
        "\n",
        "\n",
        "# Exercise\n",
        "# input 함수를 써서 어떤 숫자 a 를 입력받고, a가 정수이면 a^2 +4 프린트 하고,\n",
        "# 정수가 아닌 숫자를 입력(예외)하면 '정수가 아닙니다'를 프린트하게끔  try/except/else\n",
        "# 써서 코딩하고, finally구문 추가하여 '정수든 아니든 코딩을 마치겠을'을 추가하시오\n",
        "try:\n",
        "  a=input()\n",
        "  b=int(a)\n",
        "except:\n",
        "  print('정수가 아닙니다')\n",
        "else:\n",
        "  print(b**2+4)\n",
        "finally:\n",
        "  print('정수가 아니든 코딩종료')\n"
      ],
      "metadata": {
        "colab": {
          "base_uri": "https://localhost:8080/"
        },
        "id": "9fss-azBkeGu",
        "outputId": "b95b96cb-0f2f-445a-f547-2da8ccd235aa"
      },
      "execution_count": null,
      "outputs": [
        {
          "output_type": "stream",
          "name": "stdout",
          "text": [
            "원의 둘레: 18.84\n",
            "원의 둘레: 18.84\n",
            "예외이든 아니든 코딩을 마치겠음\n",
            "3.5\n",
            "정수가 아닙니다\n",
            "정수가 아니든 코딩종료\n"
          ]
        }
      ]
    },
    {
      "cell_type": "code",
      "source": [
        "#=========================================================\n",
        "# try:\n",
        "#   예외가 발생할 가능성이 있는 코드\n",
        "# except 예외의 종류 as 변수:\n",
        "#   예외가 발생했을 때 실행할 구문\n",
        "#=========================================================\n",
        "\n",
        "try:\n",
        "  user_input = input('정수입력:')\n",
        "  num_input = int(user_input)\n",
        "  print('원의 둘레:', 2*3.14*num_input)\n",
        "except Exception as e:\n",
        "  print(type(e), e)\n",
        "\n",
        "# <class 'ValueError'> invalid literal for int() with base 10: '3.4'\n",
        "\n",
        "# 예제 -----------------------\n",
        "list_num = [52, 34, 31,100]\n",
        "\n",
        "try:\n",
        "  num_input = int(input('정수입력 :'))\n",
        "  print('{}번째 요소 :{}'.format(num_input,list_num[num_input-1]))\n",
        "except Exception as e:\n",
        "  print(type(e),e)\n",
        "\n",
        "#정수입력:3.14\n",
        "#<class 'ValueError'> invalid literal for int() with base 10: '3.14' # 흔히 int가 아닌 걸 int로 바꾸려고 할 때\n",
        "#정수입력:5\n",
        "#<class 'IndexError'> list index out of range # IndexError\n",
        "\n",
        "# TypeError 는 연산할 수 없는 두개의 타입을 연산하려고 했을 때!\n"
      ],
      "metadata": {
        "id": "WnPm9Ogxln_-",
        "colab": {
          "base_uri": "https://localhost:8080/"
        },
        "outputId": "8bb8c9d7-cd1c-419d-8458-38fcd77632c0"
      },
      "execution_count": null,
      "outputs": [
        {
          "output_type": "stream",
          "name": "stdout",
          "text": [
            "정수입력:3.3\n",
            "<class 'ValueError'> invalid literal for int() with base 10: '3.3'\n",
            "정수입력 :0\n",
            "0번째 요소 :100\n"
          ]
        }
      ]
    },
    {
      "cell_type": "code",
      "source": [
        "#--------------------------\n",
        "list_num = [52, 34, 31,100]\n",
        "\n",
        "try:\n",
        "  num_input = int(input('정수입력 :'))\n",
        "  print('{}번째 요소 :{}'.format(num_input,list_num[num_input-1]))\n",
        "except ValueError:\n",
        "  print('정수값이 아닙니다')\n",
        "except IndexError:\n",
        "  print('인덱스를 벗어났어요')\n",
        "except Exception as e:\n",
        "  print(type(e),e)\n"
      ],
      "metadata": {
        "colab": {
          "base_uri": "https://localhost:8080/"
        },
        "id": "bxz_WF4NXtnz",
        "outputId": "129eac7a-c6fc-4df3-abf6-506ecd994243"
      },
      "execution_count": null,
      "outputs": [
        {
          "output_type": "stream",
          "name": "stdout",
          "text": [
            "정수입력 :'a'\n",
            "정수값이 아닙니다\n"
          ]
        }
      ]
    },
    {
      "cell_type": "code",
      "source": [
        "\n",
        "#==================================\n",
        "# try except 구문 & 함수\n",
        "#==================================\n",
        "def divide_exception(a, b):   # 오류가 발생할 부분 : b=0\n",
        "  try:\n",
        "    print(a/b)\n",
        "  except ZeroDivisionError:\n",
        "    print('0으로 나눔')\n",
        "  except TypeError:\n",
        "    print('a,b가 정수가 아님')\n",
        "\n",
        "divide_exception(1, 0)\n",
        "divide_exception(1, 2)\n",
        "\n",
        "divide_exception(1, 'a') # except에서 정의안해놓은 거 하면 에러난다. #TypeError # 들어갈 수 있지만 연산이 불가능하다 !"
      ],
      "metadata": {
        "colab": {
          "base_uri": "https://localhost:8080/"
        },
        "id": "8WRj4rQkYoE6",
        "outputId": "14b8790f-27bc-45e5-e801-fd0ed854071c"
      },
      "execution_count": null,
      "outputs": [
        {
          "output_type": "stream",
          "name": "stdout",
          "text": [
            "0으로 나눔\n",
            "0.5\n",
            "a,b가 정수가 아님\n"
          ]
        }
      ]
    },
    {
      "cell_type": "code",
      "source": [
        " # ValueError (input에서 ) / TypeError (def 에서) / IndexError / ZeroDivisionError"
      ],
      "metadata": {
        "id": "LUoYjgoH2gOb"
      },
      "execution_count": null,
      "outputs": []
    },
    {
      "cell_type": "code",
      "source": [
        "#################################----------------------------------\n",
        "\n",
        "def write_file(filename, text):\n",
        "  try:\n",
        "    f=open(filename,'w')\n",
        "    f.write(text)\n",
        "  except TypeError:\n",
        "    print('파일이나 텍스트가 문자인지 확인하세요')\n",
        "  finally:\n",
        "    f.close()\n",
        "\n",
        "write_file('test.txt', 123)\n",
        "# TypeError !!!!  문자로 안바꾸었을 때 # 들어가서 문제생길때는 TypeError\n",
        "# write_file('test.txt', 안녕하세요) #아에 들어가질 못한다 !!!!\n",
        "\n",
        "#-------------------------------------------------\n",
        "try:\n",
        "  write_file('test.txt', 안녕하세요)  # NameError # text = 안녕하세요 를 성립하지 못하는 듯 !!!\n",
        "except Exception as e:\n",
        "  print(type(e),e)\n",
        "\n",
        "\n",
        "# 사진찍어놓음 !"
      ],
      "metadata": {
        "colab": {
          "base_uri": "https://localhost:8080/"
        },
        "id": "DaLSps_SY4SZ",
        "outputId": "47a7a48e-802d-41ee-887d-7525784a1537"
      },
      "execution_count": null,
      "outputs": [
        {
          "output_type": "stream",
          "name": "stdout",
          "text": [
            "파일이나 텍스트가 문자인지 확인하세요\n",
            "<class 'NameError'> name '안녕하세요' is not defined\n"
          ]
        }
      ]
    },
    {
      "cell_type": "code",
      "source": [
        "#===============================================\n",
        "# try except 구문 & pass\n",
        "#===============================================\n",
        "list_input = ['52', '273', '32','스파이','103']\n",
        "\n",
        "## if 이용\n",
        "# isinstance(n,int)\n",
        "\n",
        "\n",
        "result=[]\n",
        "for i in list_input:\n",
        "  if i.isdigit():             # float('스파이')가 flase 가 아니라 error 나온다 # isdigit()!!!!!!!!!!!!!!!!!!!!!!!!!!!!!!!!!!!!!!!!!!\n",
        "    result.append(i)\n",
        "  else:\n",
        "    pass\n",
        "print(result)\n",
        "print()\n",
        "\n",
        "## try except 이용\n",
        "# 문자이면 float(i)에서 에러나서 except로 간다 !\n",
        "# 문자상태로 넣을 거라서 i를 넣어줘야 함 float(i)가 아니라 !\n",
        "\n",
        "result=[]\n",
        "for i in list_input:\n",
        "  try:\n",
        "    float(i)\n",
        "    result.append(i)\n",
        "  except:\n",
        "    pass\n",
        "print(result) #['52', '273', '32','103']\n",
        "\n",
        "\n",
        "result2=[]\n",
        "for i in list_input:\n",
        "  try:\n",
        "    float(i)\n",
        "    pass\n",
        "  except:\n",
        "    result2.append(i)\n",
        "print(result2) # 문자만 #['스파이']\n",
        "\n"
      ],
      "metadata": {
        "colab": {
          "base_uri": "https://localhost:8080/"
        },
        "id": "lIO3MNWMZTnh",
        "outputId": "cbbb8b23-ab30-4ee7-8e88-30c400673a36"
      },
      "execution_count": null,
      "outputs": [
        {
          "output_type": "stream",
          "name": "stdout",
          "text": [
            "['52', '273', '32', '103']\n",
            "\n",
            "['52', '273', '32', '103']\n",
            "['스파이']\n",
            "[52, 34, 31, 100]\n"
          ]
        }
      ]
    },
    {
      "cell_type": "code",
      "source": [
        "#   assert      // if 와 비슷한 역할 AssertionError\n",
        "\n",
        "# Exercise\n",
        "# input 함수를 써서 어떤 숫자 a 를 입력받고, a가 3의 배수이면 a^2 +4 프린트 하고,\n",
        "# 3의 배수가 가 아닌 숫자를 입력(예외)하면 '3의 배수가 아닙니다'를 프린트하게끔  try/except/else\n",
        "# 써서 코딩하고, finally구문 추가하여 '3의 배수든 아니든 코딩을 마치겠을'을 추가하시오\n",
        "\n",
        "### assert가 아니면 error 발생 !!\n",
        "\n",
        "# 4%3==0 은 출력값이 false 나옴\n",
        "try:\n",
        "  a=int(input())\n",
        "  assert a%3==0\n",
        "except ValueError:\n",
        "  print('정수가 아니다')\n",
        "except AssertionError:\n",
        "  print('3의 배수 아님')\n",
        "else:\n",
        "  print(3**2+4)\n",
        "finally:\n",
        "  print('end')\n"
      ],
      "metadata": {
        "id": "TleEzg4yftaw",
        "colab": {
          "base_uri": "https://localhost:8080/"
        },
        "outputId": "4bef3584-1efc-4b91-ee96-73390249f2cb"
      },
      "execution_count": null,
      "outputs": [
        {
          "output_type": "stream",
          "name": "stdout",
          "text": [
            "1000000000\n",
            "3의 배수 아님\n",
            "end\n"
          ]
        }
      ]
    },
    {
      "cell_type": "code",
      "source": [
        "#===============================================\n",
        "# 오류 일부러 발생시키기: raise 명령어 사용\n",
        "#===============================================\n",
        "def say_nick(nick):\n",
        "  if nick == '바보':\n",
        "    raise Exception\n",
        "  print(nick)\n",
        "\n",
        "# 순서를 바꿔서 error나는 것을 먼저하면 뒤에있는것은 실행 안된다. !!!!! 밑에 예시 David출력 안됨\n",
        "\n",
        "try:\n",
        "  say_nick('천사')\n",
        "  say_nick('바보')\n",
        "except Exception as e:\n",
        "  print('허용되지 않는 별명입니다')\n",
        "  print(type(e),e)\n",
        "\n",
        "\n",
        "def a(b):\n",
        "  assert b!='바보'                # 바보가 아닌게 아니면 에러 == 바보이면 에러\n",
        "  print(b)\n",
        "\n",
        "try:\n",
        "  a('바보')\n",
        "  a('David')\n",
        "except Exception as e:\n",
        "  print('힘들다')\n",
        "  print(type(e),e)"
      ],
      "metadata": {
        "colab": {
          "base_uri": "https://localhost:8080/"
        },
        "id": "pzNTic8efUso",
        "outputId": "1ab2d1e5-ac97-40c3-e460-ffd8445674ac"
      },
      "execution_count": null,
      "outputs": [
        {
          "output_type": "stream",
          "name": "stdout",
          "text": [
            "천사\n",
            "허용되지 않는 별명입니다\n",
            "<class 'Exception'> \n",
            "힘들다\n",
            "<class 'AssertionError'> \n"
          ]
        }
      ]
    },
    {
      "cell_type": "code",
      "source": [
        "#---------------------------\n",
        "# Exception('error 시 하고픈 말')\n",
        "# exception as e 하고 e 를 출력해줘야지 출력된다\n",
        "\n",
        "def say_nick(nick):\n",
        "  if nick == '바보':\n",
        "    raise Exception('바보는 별명으로 적합하지 않음')\n",
        "  print(nick)\n",
        "\n",
        "try:\n",
        "  say_nick('천사')\n",
        "  say_nick('바보')\n",
        "except Exception as e:\n",
        "  print(e)     #<class 'Exception'> # print(e) 해줘야 한다\n",
        "  print('허용되지 않는 별명입니다')\n"
      ],
      "metadata": {
        "colab": {
          "base_uri": "https://localhost:8080/"
        },
        "id": "juVfHxGChRso",
        "outputId": "4619e58e-8fc4-4256-f972-3ac1980d7443"
      },
      "execution_count": null,
      "outputs": [
        {
          "output_type": "stream",
          "name": "stdout",
          "text": [
            "천사\n",
            "바보는 별명으로 적합하지 않음\n",
            "허용되지 않는 별명입니다\n"
          ]
        }
      ]
    },
    {
      "cell_type": "code",
      "source": [
        "#===========================\n",
        "def three_multiple():\n",
        "  a=int(input())\n",
        "  if a%3!=0:\n",
        "    raise Exception('3의 배수아님')\n",
        "  print(f'{a}는 3의 배수')\n",
        "\n",
        "try:\n",
        "  three_multiple()\n",
        "except ValueError:\n",
        "  print('정수아님')\n",
        "except Exception as e:\n",
        "  print('3의배수 놉',e)\n",
        "\n",
        "#except Exception:\n",
        "#  print('3 배수 아니라네')"
      ],
      "metadata": {
        "colab": {
          "base_uri": "https://localhost:8080/"
        },
        "id": "SdjX_dOXhj1g",
        "outputId": "f5b7a57f-8302-4bd5-d6d4-3c6cc846c22c"
      },
      "execution_count": null,
      "outputs": [
        {
          "output_type": "stream",
          "name": "stdout",
          "text": [
            "5\n",
            "3의배수 놉 3의 배수아님\n"
          ]
        }
      ]
    },
    {
      "cell_type": "code",
      "source": [
        "'''\n",
        "=============================\n",
        "class\n",
        "=============================\n",
        "## 용어정리\n",
        "# 객체(object) 속성을 가질 수 있는 모든 것\n",
        "# 클래스(class) 객체를 쉽고 편리하게 생성하기 위해 만들어진 구문\n",
        "# 인스턴스 (instance) 클래스를 기반으로 생성한 객체\n",
        "# 생성자(constructor) 클래스 이름과 같은 인스턴스를 생성할 때 사용하는 함수\n",
        "# 메소드(method) 클래스가 가진 함수\n",
        "'''\n",
        "# 하나의 계산기\n",
        "result=0\n",
        "def add(num):\n",
        "  global result\n",
        "  result += num\n",
        "  return result\n",
        "\n",
        "print(add(3)) # 3\n",
        "print(add(4)) # 7 (앞의 영향을 받음)\n",
        "\n"
      ],
      "metadata": {
        "id": "g2AKT3L7bMe5"
      },
      "execution_count": null,
      "outputs": []
    },
    {
      "cell_type": "code",
      "source": [
        "\n",
        "# 두 개의 계산기\n",
        "\n",
        "result1=0\n",
        "def add1(num):\n",
        "  global result1\n",
        "  result1 += num\n",
        "  return result1\n",
        "\n",
        "\n",
        "\n",
        "result2=0\n",
        "def add2(num):\n",
        "  global result2\n",
        "  result2 += num\n",
        "  return result2\n",
        "\n",
        "\n",
        "print(add1(3)) # 3\n",
        "print(add1(4)) # 7\n",
        "print(add2(3)) # 3\n",
        "print(add2(7)) # 10\n",
        "print()"
      ],
      "metadata": {
        "id": "Vwx1wHLGbdgh"
      },
      "execution_count": null,
      "outputs": []
    },
    {
      "cell_type": "code",
      "source": [
        "## 용어정리\n",
        "# 객체(object) 속성을 가질 수 있는 모든 것\n",
        "# 클래스(class) 객체를 쉽고 편리하게 생성하기 위해 만들어진 구문\n",
        "# 인스턴스 (instance) 클래스를 기반으로 생성한 객체\n",
        "# 생성자(constructor) 클래스 이름과 같은 인스턴스를 생성할 때 사용하는 함수\n",
        "# 메소드(method) 클래스가 가진 함수\n",
        "\n",
        "#==================================\n",
        "# class:과자틀, object(객체): 과자\n",
        "# class => 두개의 계산기 생성 가능\n",
        "#===================================\n",
        "# class 안에 2개의 함수 , 즉 2개의 method 들어가 있다.\n",
        "#생성자(constructor) 클래스 이름과 같은 인스턴스를 생성할 때 사용하는 함수\n",
        "# init 에서 self 무조건 들어가야한다 첫번째 인수로 !\n",
        "\n",
        "class Calculator:\n",
        "  def __init__(self): #생성자(constructor)\n",
        "    self.result = 0   # 초기조건\n",
        "\n",
        "  def add(self,num):\n",
        "    self.result += num\n",
        "    return self.result\n",
        "\n",
        "a = Calculator() # 객체 = 인스턴스    # 하나의 클래스에 instance 여러개 생성 가능 !\n",
        "a.add(2)  #2 # a=self, 2= num\n",
        "print(a.add(3)) #5 # 똑같은  class에 대해서 추가되는 것 !!!!\n",
        "\n",
        "\n",
        "b= Calculator()\n",
        "print(b.add(3)) # b=self, 3=num\n",
        "print(b.add(4))"
      ],
      "metadata": {
        "colab": {
          "base_uri": "https://localhost:8080/"
        },
        "id": "m7wq-CN4cYQo",
        "outputId": "50e17708-e651-47d9-df2a-ed825e6f1aaa"
      },
      "execution_count": null,
      "outputs": [
        {
          "output_type": "stream",
          "name": "stdout",
          "text": [
            "5\n",
            "3\n",
            "7\n"
          ]
        }
      ]
    },
    {
      "cell_type": "code",
      "source": [
        "#==================================\n",
        "## class 구조 만들기\n",
        "#===================================\n",
        "# 객체 생산\n",
        "#self   고정      # 위에 init과의 차이점\n",
        "\n",
        "class FourCal:\n",
        "  def setdata(self, first, second):\n",
        "    self.first = first\n",
        "    self.second = second\n",
        "  def add(self):\n",
        "    result = self.first + self.second\n",
        "    return result\n",
        "  def mul(self):\n",
        "    result = self.first * self.second\n",
        "    return result\n",
        "  def div(self):\n",
        "    result = self.first / self.second\n",
        "    return result\n",
        "  def sub(self):\n",
        "    result = self.first - self.second\n",
        "    return result\n",
        "\n",
        "a = FourCal()\n",
        "a.setdata(1,2) #a.first = 1, a.second = 2\n",
        "print(a.add()) # 비어있는 이유 = 다 정의되어 있어서 #위에 변수가 더 있으면 num 같이 추가해주면 된다\n",
        "print(a.mul())\n",
        "print(a.div())\n",
        "print(a.sub())\n",
        "print()\n",
        "\n",
        "\n",
        "b=FourCal()\n",
        "b.setdata(3,4) #b.first = 3, b.second = 4\n",
        "print(b.add())\n",
        "print(b.mul())\n",
        "print(b.div())\n",
        "print(b.sub())\n"
      ],
      "metadata": {
        "colab": {
          "base_uri": "https://localhost:8080/"
        },
        "id": "amsEG7CremeR",
        "outputId": "e1be64eb-ebab-4d1b-879b-6dce6a22a1ba"
      },
      "execution_count": null,
      "outputs": [
        {
          "output_type": "stream",
          "name": "stdout",
          "text": [
            "3\n",
            "2\n",
            "0.5\n",
            "-1\n",
            "\n",
            "7\n",
            "12\n",
            "0.75\n",
            "-1\n"
          ]
        }
      ]
    },
    {
      "cell_type": "code",
      "source": [
        "\n",
        "#==============================\n",
        "## 생성자(constructor) 만들기\n",
        "#==============================\n",
        "# setdata 메서드를 수행하지 않으면 error 발생\n",
        "# b=FourCal()\n",
        "# b.add()\n",
        "\n",
        "# 생성자: 객체가 생성될 때 자동으로 호출되는 메서드 (초깃값 설정)\n",
        "class FourCal:\n",
        "  def __init__(self, first, second):\n",
        "    self.first = first\n",
        "    self.second = second\n",
        "  def add(self):\n",
        "    result = self.first + self.second\n",
        "    return result\n",
        "  def mul(self):\n",
        "    result = self.first * self.second\n",
        "    return result\n",
        "  def div(self):\n",
        "    result = self.first / self.second\n",
        "    return result\n",
        "  def sub(self):\n",
        "    result = self.first - self.second\n",
        "    return result\n",
        "\n",
        "\n",
        "\n",
        "a = FourCal(4,2) # a.first = 4, a.second=2\n",
        "print(a.add())\n",
        "\n",
        "#a= FourCal() # error 발생, first, second의 초깃값이 없으므로\n"
      ],
      "metadata": {
        "colab": {
          "base_uri": "https://localhost:8080/"
        },
        "id": "TSBi04dHhDqZ",
        "outputId": "8f149c37-5b4f-423b-e45a-0f26ec817679"
      },
      "execution_count": null,
      "outputs": [
        {
          "output_type": "stream",
          "name": "stdout",
          "text": [
            "6\n"
          ]
        }
      ]
    },
    {
      "cell_type": "code",
      "source": [
        "#Exercise====================================================================\n",
        "class Person:\n",
        "  def __init__(self, name, sex, age):\n",
        "    self.name = name\n",
        "    self.sex = sex\n",
        "    self.age = age\n",
        "  def introduce(self):\n",
        "    return f'{self.name}은 {self.sex}이고 {self.age}살입니다'\n",
        "\n",
        "\n",
        "a = Person('홍길동', '남자', 21)\n",
        "a.introduce() # '홍길동은 남자이고 21살입니다.'\n"
      ],
      "metadata": {
        "colab": {
          "base_uri": "https://localhost:8080/",
          "height": 36
        },
        "id": "VHuC8mFGiO5a",
        "outputId": "32bd2f3b-9f58-4fe1-b57c-5f59436d98a7"
      },
      "execution_count": null,
      "outputs": [
        {
          "output_type": "execute_result",
          "data": {
            "text/plain": [
              "'홍길동은 남자이고 21살입니다'"
            ],
            "application/vnd.google.colaboratory.intrinsic+json": {
              "type": "string"
            }
          },
          "metadata": {},
          "execution_count": 16
        }
      ]
    },
    {
      "cell_type": "code",
      "source": [
        "##변수가 여러개일때 # 가변매게변수\n",
        "\n",
        "# args 튜플 형태로 들어가 있다 !!!!!!!!!! index 사용 가능 !!\n",
        "\n",
        "class Person:\n",
        "  def __init__(self, *args):\n",
        "    print(args)\n",
        "    self.name = args[0]\n",
        "    self.sex = args[1]\n",
        "    self.age = args[2]\n",
        "  def introduce(self):\n",
        "    print(f'{self.name}은 {self.sex}이고 {self.age}살입니다')\n",
        "\n",
        "a = Person(*['홍길동', '남자', 21])\n",
        "a.introduce()\n",
        "b = Person('홍길동', '남자', 21)\n",
        "b.age +=3\n",
        "print(b.age)\n",
        "b.introduce()"
      ],
      "metadata": {
        "colab": {
          "base_uri": "https://localhost:8080/"
        },
        "id": "jUlP3j0rkoBi",
        "outputId": "c9c929b4-e6b5-48bf-92db-8d3d2e169233"
      },
      "execution_count": null,
      "outputs": [
        {
          "output_type": "stream",
          "name": "stdout",
          "text": [
            "('홍길동', '남자', 21)\n",
            "홍길동은 남자이고 21살입니다\n",
            "('홍길동', '남자', 21)\n",
            "24\n",
            "홍길동은 남자이고 24살입니다\n"
          ]
        }
      ]
    },
    {
      "cell_type": "code",
      "source": [
        "def a(*args):\n",
        "  print(args)\n",
        "\n",
        "a('안녕',2,3,4)\n"
      ],
      "metadata": {
        "colab": {
          "base_uri": "https://localhost:8080/"
        },
        "id": "NAYTRuAVsFtB",
        "outputId": "15b05eeb-0e2b-43f9-a667-2b00b3d1ccfe"
      },
      "execution_count": null,
      "outputs": [
        {
          "output_type": "stream",
          "name": "stdout",
          "text": [
            "('안녕', 2, 3, 4)\n"
          ]
        }
      ]
    },
    {
      "cell_type": "code",
      "source": [
        "# 특정 인스턴스(객체)에만 속성 추가\n",
        "class Person:\n",
        "  def __init__(self, *args):\n",
        "    self.name = args[0]\n",
        "    self.sex = args[1]\n",
        "    self.age = args[2]\n",
        "  def introduce(self):\n",
        "    print(f'{self.name}은 {self.sex}이고 {self.age}살입니다')\n",
        "\n",
        "a = Person('홍길동', '남자', 21) #객체 (인스턴스)\n",
        "b = Person('홍길순', '여자', 20) #객체 (인스턴스)\n",
        "\n",
        "a.job = '가수'\n",
        "print(a.job)\n",
        "a.introduce()\n",
        "#print(b.job)     #Error 발생 #AttributeError: 'Person' object has no attribute 'job' 속성에러\n",
        "\n",
        "## 속성 변화시키기 !!!!!!!!!!!!\n",
        "# self.age 가 아니다 !!! a.age\n",
        "# a의 age만 변화시키는 것\n",
        "\n",
        "a.age +=1\n",
        "print(a.age)\n",
        "a.name='대규'\n",
        "a.introduce()"
      ],
      "metadata": {
        "colab": {
          "base_uri": "https://localhost:8080/"
        },
        "id": "Id-x8Z2tlZkx",
        "outputId": "73daaf06-d2df-4b1b-bca4-cd74aa480971"
      },
      "execution_count": null,
      "outputs": [
        {
          "output_type": "stream",
          "name": "stdout",
          "text": [
            "가수\n",
            "홍길동은 남자이고 21살입니다\n",
            "22\n",
            "대규은 남자이고 22살입니다\n"
          ]
        }
      ]
    },
    {
      "cell_type": "code",
      "source": [
        "# 비공개 속성, 메서드 (private attribute)\n",
        "\n",
        "class Person:\n",
        "  def __init__(self, name, sex, age, height):\n",
        "    self.name = name\n",
        "    self.sex = sex\n",
        "    self.age = age\n",
        "    self.__height = height    # height 변화 못하게 __\n",
        "  def introduce(self):\n",
        "    print(f'{self.name}은 {self.sex}이고 {self.age}살이고 키는 {self.__height}입니다')\n",
        "\n",
        "a = Person('홍길동', '남자', 21, 180)\n",
        "a.age+=1\n",
        "print(a.age)\n",
        "a.introduce()\n",
        "\n",
        "a.__height =170\n",
        "print(a.__height)\n",
        "a.introduce()                 # 출력값 변화 없다"
      ],
      "metadata": {
        "colab": {
          "base_uri": "https://localhost:8080/"
        },
        "id": "rn_iPnNDpFy6",
        "outputId": "4462e886-705c-49ed-b4dd-248d7209cea2"
      },
      "execution_count": null,
      "outputs": [
        {
          "output_type": "stream",
          "name": "stdout",
          "text": [
            "22\n",
            "홍길동은 남자이고 22살이고 키는 180입니다\n",
            "170\n",
            "홍길동은 남자이고 22살이고 키는 180입니다\n"
          ]
        }
      ]
    },
    {
      "cell_type": "code",
      "source": [
        "## 비공개 함수 사용하는 법 !!!! self.__asdf()\n",
        "\n",
        "class Person:\n",
        "  def __init__(self, name, sex, age, height):\n",
        "    self.name = name\n",
        "    self.sex = sex\n",
        "    self.age = age\n",
        "    self.height = height\n",
        "\n",
        "  def __hi(self):   # 비공개 method (함수)\n",
        "    print('say hi')\n",
        "\n",
        "  def hello(self):\n",
        "    self.__hi()\n",
        "\n",
        "a = Person('홍길동', '남자', 21, 180)\n",
        "a.hello()\n",
        "\n",
        "# a.__hi() # Error 발생 !!\n"
      ],
      "metadata": {
        "colab": {
          "base_uri": "https://localhost:8080/"
        },
        "id": "ETxgxRp9qmJT",
        "outputId": "f31e9bc3-d449-4dc4-9499-930be011c04d"
      },
      "execution_count": null,
      "outputs": [
        {
          "output_type": "stream",
          "name": "stdout",
          "text": [
            "say hi\n"
          ]
        }
      ]
    },
    {
      "cell_type": "code",
      "source": [
        "## 클래스 변수 (객체와는 상관없이 변하지 않는 변수)(밑에 있는 school과 같이 !!)  VS 객체(인스턴스) 변수\n",
        "class Person:\n",
        "  school = '가나고등학교'\n",
        "  def __init__(self, name, sex, age, height):\n",
        "    self.name = name\n",
        "    self.sex = sex\n",
        "    self.age = age\n",
        "    self.__height = height\n",
        "  def introduce(self):\n",
        "    print(f'{self.name}은 {self.sex}이고 {self.age}살이고 키는 {self.__height}입니다 {Person.school}') # school 출력하는 법 !!\n",
        "\n",
        "a = Person('홍길동', '남자', 21, 180) #객체 (인스턴스) 변수\n",
        "print(Person.school)   # class 변수 프린트하고 싶을 때\n",
        "\n",
        "b = Person('홍길순', '여자', 20, 160)\n",
        "print(Person.school)\n",
        "b.introduce()\n",
        "\n",
        "print()\n",
        "# 클래스 변수 변경 !!!!!!==============             클래스 이름. 변수이름\n",
        "# class 안 변수 변화시키기 #a가 미리 정의되었는데도 class변수 변화시킬 수 있다\n",
        "# b.school 해도 프린트한 것만 바뀌지, 실제 introduce 하면 안 바뀐 상태이다\n",
        "# class명. 변수명 해야 클래스변수가 변한다.\n",
        "\n",
        "b.school = '하하호호'\n",
        "Person.school = '다라고등학교'\n",
        "\n",
        "print(a.school) # 다라고등학교\n",
        "print(b.school) # 하하호호\n",
        "\n",
        "b.introduce() # 다라고등학교\n",
        "a.introduce() # 다라고등학교"
      ],
      "metadata": {
        "colab": {
          "base_uri": "https://localhost:8080/"
        },
        "id": "UzluSdLYre8R",
        "outputId": "f5daf004-da65-4aa6-bcb5-7c85ada15d8a"
      },
      "execution_count": null,
      "outputs": [
        {
          "output_type": "stream",
          "name": "stdout",
          "text": [
            "가나고등학교\n",
            "가나고등학교\n",
            "홍길순은 여자이고 20살이고 키는 160입니다 가나고등학교\n",
            "\n",
            "다라고등학교\n",
            "하하호호\n",
            "홍길순은 여자이고 20살이고 키는 160입니다 다라고등학교\n",
            "홍길동은 남자이고 21살이고 키는 180입니다 다라고등학교\n"
          ]
        }
      ]
    },
    {
      "cell_type": "code",
      "source": [
        "#================================\n",
        "## 클래스의 상속:\n",
        "## 기존 클래스를 변경하지 않고 기능을 추가하거나 기존 기능을 변경하고자 할때 사용\n",
        "# 상속을 해주는 클래스 : 기반클래스(base class) or 부모클래스\n",
        "# 상속을 받는 클래스 : 파생클래스(derived class ) or 자식클래스\n",
        "\n",
        "#================================\n",
        "\n",
        "# 클래스의 상속\n",
        "class FourCal:\n",
        "  def __init__(self, first, second):\n",
        "    self.first = first\n",
        "    self.second = second\n",
        "  def add(self):\n",
        "    result = self.first + self.second\n",
        "    return result\n",
        "  def mul(self):\n",
        "    result = self.first * self.second\n",
        "    return result\n",
        "  def div(self):\n",
        "    result = self.first / self.second\n",
        "    return result\n",
        "  def sub(self):\n",
        "    result = self.first - self.second\n",
        "    return result\n",
        "\n",
        "class MoreFourCal(FourCal): #자식클래스\n",
        "  pass\n",
        "\n",
        "a = MoreFourCal(4,2)\n",
        "print(a.add())\n"
      ],
      "metadata": {
        "colab": {
          "base_uri": "https://localhost:8080/"
        },
        "id": "DydpMpe5lSgp",
        "outputId": "6f77c1d7-afa4-4071-dda2-48f8aa811620"
      },
      "execution_count": null,
      "outputs": [
        {
          "output_type": "stream",
          "name": "stdout",
          "text": [
            "6\n"
          ]
        }
      ]
    },
    {
      "cell_type": "code",
      "source": [
        "# 기능 추가\n",
        "class FourCal:\n",
        "  def __init__(self, first, second):\n",
        "    self.first = first\n",
        "    self.second = second\n",
        "  def add(self):\n",
        "    result = self.first + self.second\n",
        "    return result\n",
        "  def mul(self):\n",
        "    result = self.first * self.second\n",
        "    return result\n",
        "  def div(self):\n",
        "    result = self.first / self.second\n",
        "    return result\n",
        "  def sub(self):\n",
        "    result = self.first - self.second\n",
        "    return result\n",
        "\n",
        "class MoreFourCal(FourCal): #자식 클래스\n",
        "  def pow(self):\n",
        "    result = self.first**self.second\n",
        "    return result\n",
        "\n",
        "class ca(FourCal):\n",
        "  def ba(self):\n",
        "    result=self.first+2+self.second\n",
        "    return result\n",
        "\n",
        "# 자식클래스에서도, 부모클래스에서 만든 생성자의 요소들을 넣어줘야함\n",
        "\n",
        "a= MoreFourCal(4,2)\n",
        "print(a.pow())\n",
        "print(a.add())\n",
        "\n",
        "b=FourCal(3,2)\n",
        "print(b.add())\n",
        "# print(b.pow()) # error   자식에서 정의한거 라서 !\n",
        "print()\n",
        "\n",
        "c=ca(4,2)\n",
        "print(c.ba())"
      ],
      "metadata": {
        "id": "lSmJY1fxtwcT"
      },
      "execution_count": null,
      "outputs": []
    },
    {
      "cell_type": "code",
      "source": [
        "# 기존기능 변경     /함수 이름똑같이쓰고 추가하면 된다./\n",
        "\n",
        "\n",
        "class SafeFourCal(FourCal):\n",
        "  def div(self):\n",
        "    if self.second ==0:\n",
        "      return  0\n",
        "    else:\n",
        "      result= self.first/self.second\n",
        "      return result\n",
        "\n",
        "a = SafeFourCal(4,0)\n",
        "print(a.div())\n",
        "\n",
        "\n",
        "def divv(a,b):\n",
        "  try:\n",
        "    a=a/b\n",
        "    return a\n",
        "  except:\n",
        "    return '잘못됨'\n",
        "\n",
        "print(divv(3,0))\n",
        "\n",
        "# b= FourCal(4,0)\n",
        "# print(b.div()) #ZeroDivisionError: division by zero"
      ],
      "metadata": {
        "colab": {
          "base_uri": "https://localhost:8080/"
        },
        "id": "fufozl3Hus4q",
        "outputId": "c936791d-cae3-4448-816c-cf4884656093"
      },
      "execution_count": null,
      "outputs": [
        {
          "output_type": "stream",
          "name": "stdout",
          "text": [
            "0\n",
            "잘못됨\n"
          ]
        }
      ]
    },
    {
      "cell_type": "code",
      "source": [
        "## 해결방법 1   # super().__init__() 이용!!!!\n",
        "# 자식클래스에서 init 사용했을 경우 => 부모클래스 함수 바로 사용 불가\n",
        "\n",
        "# 부모클래스 init함수를 가져온다는 의미\n",
        "#  함수도  가져오는 것 !! lname 사용가능 하다 !!\n",
        "# 자식클래스에서 init 을 새롭게 정의하면 부모클래스의 self. 가져오지 못한다. super을 써줘야한다.\n",
        "\n",
        "\n",
        "class Family:\n",
        "  def __init__(self):\n",
        "    self.lastname = '홍'\n",
        "  def lname(self):\n",
        "    print(f'성은 {self.lastname}입니다.')\n",
        "\n",
        "class Person(Family):\n",
        "  def __init__(self):\n",
        "    self.firstname = '길동'\n",
        "    super().__init__()\n",
        "  def fname(self):\n",
        "    print(f'이름은 {self.lastname}{self.firstname}입니다.')\n",
        "\n",
        "a=Family() # last name 나옴 , first 안나옴\n",
        "b=Person() # last first 둘다 나옴\n",
        "\n",
        "# 부모클래스에서  함수가져왔다 # super없으면 'Person' object has no attribute 'lname' 이렇게 나온다\n",
        "b.lname()\n",
        "b.fname()\n"
      ],
      "metadata": {
        "colab": {
          "base_uri": "https://localhost:8080/"
        },
        "id": "BiqhPyu1v8rh",
        "outputId": "eb2f9ddd-2416-4724-9df8-3706eefce381"
      },
      "execution_count": null,
      "outputs": [
        {
          "output_type": "stream",
          "name": "stdout",
          "text": [
            "성은 홍입니다.\n",
            "이름은 홍길동입니다.\n"
          ]
        }
      ]
    },
    {
      "cell_type": "code",
      "source": [
        "###부모클래스 #### 위에거랑 차이점 구분하기 2가지 방식은 같은 해결방법 2\n",
        "#init 사용안하고 class 변수 이용 !!!!!!!!!!!!!!!\n",
        "# 자식클래스에서 self 정의 안해줬어도 self 사용\n",
        "\n",
        "class Family:\n",
        "  def __init__(self):\n",
        "    self.lastname = '홍'\n",
        "  def lname(self):\n",
        "    print(f'성은 {self.lastname}입니다.')\n",
        "\n",
        "class Person(Family):\n",
        "  firstname = '길동'\n",
        "  def fname(self):\n",
        "    print(f'이름은 {self.lastname}{Person.firstname}입니다.')\n",
        "\n",
        "a=Family() #last name 나옴 , first 안나옴\n",
        "b=Person() # last first 둘다 나옴\n",
        "\n",
        "b.firstname = '대규'\n",
        "Person.firstname = '대구'\n",
        "\n",
        "b.lname()\n",
        "b.fname()\n",
        "\n",
        "# 클래스 변수 변화시키는 거 다시 공부하기\n",
        "\n",
        "# 만약 클래스 변수를 각 개체(인스턴스)마다 변하게 하고 싶으면 함수안에서 self. 으로 정의해주고\n",
        "# 고정시키고 싶으면 class명. 으로 정의해주면 된다.\n",
        "\n"
      ],
      "metadata": {
        "colab": {
          "base_uri": "https://localhost:8080/"
        },
        "id": "Y6ky4J4GyOrj",
        "outputId": "5bd5f0a8-d6c4-4de4-946b-d3700d51ba30"
      },
      "execution_count": null,
      "outputs": [
        {
          "output_type": "stream",
          "name": "stdout",
          "text": [
            "성은 홍입니다.\n",
            "이름은 홍대구입니다.\n"
          ]
        }
      ]
    },
    {
      "cell_type": "code",
      "source": [
        "## 메서드 오버라이딩 (method overriding)\n",
        "#자식클래스에 동일한 이름의 메서드가 있으면,\n",
        "#부모 클래스의 메서드는 호출되지 않고, 자식 클래스의 메서드가 호출\n",
        "\n",
        "\n",
        "#부모 클래스\n",
        "class Family:\n",
        "  def introduce(self):\n",
        "    print('저희는 가족입니다')\n",
        "#자식 클래스\n",
        "class Person(Family):\n",
        "  def introduce(self):\n",
        "    print('저는 가족의 구성원입니다') # 같은 함수로 덮어버리는 자식것만 나온다 !!!1\n",
        "\n",
        "a=Family() # family 객체 = 인스턴스\n",
        "a.introduce()\n",
        "\n",
        "b=Person() # person 객체 = 인스턴스\n",
        "b.introduce()\n",
        "\n"
      ],
      "metadata": {
        "colab": {
          "base_uri": "https://localhost:8080/"
        },
        "id": "JkH2K2tqmGUN",
        "outputId": "215980f1-1394-40b4-a577-e7069fbc010c"
      },
      "execution_count": null,
      "outputs": [
        {
          "output_type": "stream",
          "name": "stdout",
          "text": [
            "저희는 가족입니다\n",
            "저는 가족의 구성원입니다\n"
          ]
        }
      ]
    },
    {
      "cell_type": "code",
      "source": [
        "##  부모클래스랑 이름 같은 함수 가져오려면\n",
        "# super().함수이름()\n",
        "# 부모클래스의 introduce 메서드 호출\n",
        "\n",
        "class Family:\n",
        "  def introduce(self):\n",
        "    print('저희는 가족입니다')\n",
        "\n",
        "class Person(Family):\n",
        "  def introduce(self):\n",
        "    super().introduce()\n",
        "    print('저는 가족의 구성원입니다')\n",
        "\n",
        "\n",
        "a=Family()\n",
        "a.introduce()\n",
        "\n",
        "b=Person()\n",
        "b.introduce()     # 부모클래스것과 자식클래스 것 둘 다 나온다 !!!\n",
        "\n",
        "\n",
        "#Family().introduce()\n",
        "#Person().introduce()\n"
      ],
      "metadata": {
        "colab": {
          "base_uri": "https://localhost:8080/"
        },
        "id": "ogxCOpZIn-7u",
        "outputId": "34c9cd33-c6b4-47fa-ca7d-9161a47c2030"
      },
      "execution_count": null,
      "outputs": [
        {
          "output_type": "stream",
          "name": "stdout",
          "text": [
            "저희는 가족입니다\n",
            "저희는 가족입니다\n",
            "저는 가족의 구성원입니다\n"
          ]
        }
      ]
    },
    {
      "cell_type": "code",
      "source": [
        "#===========================\n",
        "# isinstance(인스턴스,클래스) 함수      #instance 인가 아닌가/ isinstnace !!!!!!!!!!\n",
        "#===========================\n",
        "#isinstance(확인하고자 하는 데이터 값, 확인하고자 하는 데이터 타입)\n",
        "#isinstance(인스턴스, 데이터나 클래스 타입) # 인스턴스와 타입이 같으면 True\n",
        "\n",
        "class Student:\n",
        "    def __init__(self):\n",
        "        pass\n",
        "\n",
        "a= Student()  #인스턴스 (객체)\n",
        "print(isinstance(a,Student)) # True #여기서 만들어진것인가?\n",
        "\n",
        "print()\n",
        "# 클래스의 상속 =================\n",
        "\n",
        "class Human:\n",
        "    def __init__(self):\n",
        "        pass\n",
        "class Student(Human):\n",
        "    def __init__(self):\n",
        "        pass\n",
        "\n",
        "c = Human()\n",
        "print(isinstance(c,Human)) #True\n",
        "print(isinstance(c,Student)) #False\n",
        "\n",
        "b = Student()\n",
        "print(isinstance(b,Human)) # True\n",
        "print(isinstance(b,Student)) # True\n",
        "\n",
        "# 부모클래스는 자식클래스에 속한것이 아님, 자식클래스는 부모클래스에 속해있다 !"
      ],
      "metadata": {
        "colab": {
          "base_uri": "https://localhost:8080/"
        },
        "id": "73YZHlzgnF5v",
        "outputId": "25cefae0-ff77-48da-dba8-52681e0a9652"
      },
      "execution_count": null,
      "outputs": [
        {
          "output_type": "stream",
          "name": "stdout",
          "text": [
            "True\n",
            "\n",
            "True\n",
            "False\n",
            "True\n",
            "True\n"
          ]
        }
      ]
    },
    {
      "cell_type": "code",
      "source": [
        "\n",
        "# 예제 ==========================\n",
        "class Student:\n",
        "    def study(self):\n",
        "        print(\"공부를 합니다\")\n",
        "class Teacher:\n",
        "    def teach(self):\n",
        "        print(\"학생을 가르칩니다\")\n",
        "\n",
        "#Student().study()\n",
        "#Teacher().teach()\n",
        "\n",
        "# 객체(인스턴스) 모아놓은 리스트\n",
        "classroom = [Student(), Student(), Teacher()]\n",
        "\n",
        "for i in classroom:\n",
        "  if isinstance(i, Student):\n",
        "    i.study()\n",
        "  elif isinstance(i, Teacher):\n",
        "    i.teach()\n",
        "\n",
        "# 3개 나와야 한다"
      ],
      "metadata": {
        "id": "s-eVlh6To_F2",
        "colab": {
          "base_uri": "https://localhost:8080/"
        },
        "outputId": "ede97c11-20e2-4dba-bea6-694433a802e0"
      },
      "execution_count": null,
      "outputs": [
        {
          "output_type": "stream",
          "name": "stdout",
          "text": [
            "공부를 합니다\n",
            "공부를 합니다\n",
            "학생을 가르칩니다\n"
          ]
        }
      ]
    },
    {
      "cell_type": "code",
      "source": [
        "a=1\n",
        "print(type(a))\n",
        "print(isinstance(1, int)) # True\n",
        "\n",
        "# assert isinstance(1,int)\n",
        "\n",
        "#isinstance는 주로 객체의 자료형을 판단할 때 사용 ===================\n",
        "\n",
        "def factorial(n):\n",
        "  if isinstance(n, int)and n>0:\n",
        "    if n==1:\n",
        "      return 1\n",
        "    else:\n",
        "      return n*factorial(n-1)\n",
        "  else:\n",
        "    return None\n",
        "\n",
        "print(factorial(3))\n",
        "print(factorial(0))\n",
        "print(factorial(1))\n",
        "print(factorial('3'))"
      ],
      "metadata": {
        "colab": {
          "base_uri": "https://localhost:8080/"
        },
        "id": "fJexIRgOqoyl",
        "outputId": "428e3291-d816-4b1c-ec25-92063590381d"
      },
      "execution_count": null,
      "outputs": [
        {
          "output_type": "stream",
          "name": "stdout",
          "text": [
            "<class 'int'>\n",
            "True\n",
            "6\n",
            "None\n",
            "1\n",
            "None\n"
          ]
        }
      ]
    },
    {
      "cell_type": "code",
      "source": [
        "##=============================================\n",
        "## __이름__() 함수: 특수한 상황에 자동으로 호출\n",
        "##=============================================\n",
        "## 예제\n",
        "class Student:\n",
        "    def __init__(self, name, korean, math, english, science):\n",
        "        self.name = name\n",
        "        self.korean = korean\n",
        "        self.math = math\n",
        "        self.english = english\n",
        "        self.science = science\n",
        "\n",
        "    def get_sum(self):\n",
        "      return sum([self.korean, self.math, self.english, self.science])\n",
        "\n",
        "    def get_average(self):\n",
        "      return self.get_sum()/4       # 위에서 정의한 함수도 self로 불러올 수 있다 !!!!!!!!!!!\n",
        "\n",
        "    def to_string(self):\n",
        "      return '{}\\t{}\\t{}'.format(self.name, self.get_sum(), self.get_average())\n",
        "\n",
        "\n",
        "students = [Student(\"홍길동\", 90, 87, 92, 88),\n",
        "            Student(\"가나다\", 100, 84, 89, 95)] # 객체들의 리스트\n",
        "\n",
        "\n",
        "print('이름', '총점', '평균', sep='\\t')\n",
        "\n",
        "#마지막 것이 없으면 쭉 붙어서 출력됨 # sep = seperate tab 키로 불류\n",
        "# print('이름\\t총점 ....')\n",
        "\n",
        "for i in students:\n",
        "  print(i.to_string())\n",
        "\n",
        "\n",
        "#이름\t총점\t평균\n",
        "#홍길동\t357\t89.25\n",
        "#가나다\t368\t92.0"
      ],
      "metadata": {
        "colab": {
          "base_uri": "https://localhost:8080/"
        },
        "id": "l9B_8qNhr2B-",
        "outputId": "9c90d82a-4176-4740-9dea-8473c6dee169"
      },
      "execution_count": null,
      "outputs": [
        {
          "output_type": "stream",
          "name": "stdout",
          "text": [
            "이름\t총점\t평균\n",
            "홍길동\t357\t89.25\n",
            "가나다\t368\t92.0\n"
          ]
        }
      ]
    },
    {
      "cell_type": "code",
      "source": [
        "class person:\n",
        "  count = 0\n",
        "  def __init__(self, name, math, eng):\n",
        "    self.name = name\n",
        "    self.math = math\n",
        "    self.eng = eng\n",
        "    person.count+=1\n",
        "  def sum(self):\n",
        "    return sum([self.math, self.eng])\n",
        "  def average(self):\n",
        "    return self.sum()/2\n",
        "  def total(self):\n",
        "    return '{}\\t{}\\t{}'.format(self.name, self.sum(), self.average())\n",
        "\n",
        "\n",
        "print('이름', '총합', '평균', sep='\\t')\n",
        "a=person('대규', 100,100)\n",
        "print(a.total())\n",
        "print(person.count)       #1\n",
        "\n",
        "a=person('대규', 100,100)\n",
        "print(person.count)       #2"
      ],
      "metadata": {
        "colab": {
          "base_uri": "https://localhost:8080/"
        },
        "id": "yh1JwIxZOwL4",
        "outputId": "6711cc7a-df41-4d69-eb55-e7469145323f"
      },
      "execution_count": null,
      "outputs": [
        {
          "output_type": "stream",
          "name": "stdout",
          "text": [
            "이름\t총합\t평균\n",
            "대규\t200\t100.0\n",
            "1\n",
            "2\n"
          ]
        }
      ]
    },
    {
      "cell_type": "code",
      "source": [
        "## __이름__() 함수: 특수한 상황에 자동으로 호출 ===================\n",
        "# __함수__ 은 객체안만들고  str(i) 로서 불러올 수 있다.\n",
        "\n",
        "\n",
        "class Student:\n",
        "    def __init__(self, name, korean, math, english, science):\n",
        "        self.name = name\n",
        "        self.korean = korean\n",
        "        self.math = math\n",
        "        self.english = english\n",
        "        self.science = science\n",
        "\n",
        "    def get_sum(self):\n",
        "      return sum([self.korean, self.math, self.english, self.science])\n",
        "\n",
        "    def get_average(self):\n",
        "      return self.get_sum()/4\n",
        "\n",
        "    def __str__(self):                        # __함수__\n",
        "      return '{}\\t{}\\t{}'.format(self.name, self.get_sum(), self.get_average())\n",
        "\n",
        "\n",
        "students = [Student(\"홍길동\", 90, 87, 92, 88),\n",
        "            Student(\"가나다\", 100, 84, 89, 95)] # 객체들의 리스트\n",
        "\n",
        "print('이름', '총점', '평균', sep='\\t')\n",
        "\n",
        "# __함수__ 은 객체안만들고  str(i) 로서 불러올 수 있다.\n",
        "\n",
        "for i in students:\n",
        "  print(str(i))\n",
        "  print(i.get_average())"
      ],
      "metadata": {
        "colab": {
          "base_uri": "https://localhost:8080/"
        },
        "id": "W_TcWmvWt-Gu",
        "outputId": "b651d6b7-3b19-4be8-8483-58eafaefcee8"
      },
      "execution_count": null,
      "outputs": [
        {
          "output_type": "stream",
          "name": "stdout",
          "text": [
            "이름\t총점\t평균\n",
            "홍길동\t357\t89.25\n",
            "89.25\n",
            "가나다\t368\t92.0\n",
            "92.0\n"
          ]
        }
      ]
    },
    {
      "cell_type": "code",
      "source": [
        "## 클래스 변수 ========================= 클래스 변수로 인스턴스 개수 세기\n",
        "# 개수늘려주는 count+=1을 무조건 init 함수 안에 넣어줘야 한다. 다른데는 변화 없다\n",
        "\n",
        "class Student:\n",
        "    count = 0 # 클래스 변수\n",
        "\n",
        "    def __init__(self, name, korean, math, english, science):\n",
        "        self.name = name\n",
        "        self.korean = korean\n",
        "        self.math = math\n",
        "        self.english = english\n",
        "        self.science = science\n",
        "\n",
        "        # 클래스 변수 설정:=> 호출시  클래스이름.변수이름 사용\n",
        "        Student.count += 1 # 클래스 이름으로 호출\n",
        "\n",
        "\n",
        "\n",
        "students = [Student(\"홍길동\", 90, 87, 92, 88),\n",
        "            Student(\"가나다\", 100, 84, 89, 95)] #객체\n",
        "\n",
        "Student('나',40,40,40,40)\n",
        "\n",
        "print(Student.count) # 2 # 객체가 2개라서 2번되어서 2개이다"
      ],
      "metadata": {
        "colab": {
          "base_uri": "https://localhost:8080/"
        },
        "id": "phuf2H1TvT82",
        "outputId": "97d20ad7-9f44-44a7-e45c-549e9fda8a74"
      },
      "execution_count": null,
      "outputs": [
        {
          "output_type": "stream",
          "name": "stdout",
          "text": [
            "3\n"
          ]
        }
      ]
    },
    {
      "cell_type": "code",
      "source": [
        "## 클래스메서드(클래스함수) ====================================================\n",
        "#\n",
        "#//      @classmethod : 데코레이터(Decorator)\n",
        "# class 클래스 이름:\n",
        "#\n",
        "#//     @classmethod\n",
        "#     def 클래스함수(cls, 매개변수);\n",
        "#           pass\n",
        "# => 호출시: 클래스이름.함수이름(매개변수)\n",
        "\n",
        "# 반드시 cls = class, init에서 self 를 가져오는 것 처럼\n",
        "# 2가지 방식으로 실행시킬 수 있다.# 반드시 @classmathod\n",
        "\n",
        "class Student:\n",
        "  count = 0\n",
        "  students=[]\n",
        "  # 인스턴스 메서드/함수\n",
        "  def __init__(self, name, korean, math, english, science):\n",
        "    self.name = name    # 인스턴스 변수\n",
        "    self.korean = korean\n",
        "    self.math = math\n",
        "    self.english = english\n",
        "    self.science = science\n",
        "    #클래스 변수\n",
        "    Student.count +=1\n",
        "    Student.students.append(self) # 실행할 때 마다 객체 계속 들어가진다\n",
        "  def get_sum(self):\n",
        "    return sum([self.korean, self.math, self.english, self.science])\n",
        "  def get_average(self):\n",
        "    return self.get_sum()/4\n",
        "  def __str__(self):                        # __함수__\n",
        "    return '{}\\t{}\\t{}'.format(self.name, self.get_sum(), self.get_average())\n",
        "\n",
        "  # 클래스 메서드/함수\n",
        "  @classmethod\n",
        "  def print(cls):\n",
        "    print('이름', '총점', '평균', sep='\\t')\n",
        "    for i in cls.students:\n",
        "      print(str(i))\n",
        "      print(cls.count)\n",
        "\n",
        "    #cls.students 여기에 클래스 변수 넣을 때는 !!!\n",
        "    #cls.count\n",
        "\n",
        "Student(\"홍길동\", 90, 87, 92, 88)\n",
        "Student(\"가나다\", 100, 84, 89, 95)\n",
        "print()\n",
        "#  클래스변수는 2가지 방식으로 다 출력가능\n",
        "\n",
        "Student.print()     # 호출방법 !!!! 클래스.클래스매서드함수()"
      ],
      "metadata": {
        "id": "p0l1B6QAwMAl",
        "colab": {
          "base_uri": "https://localhost:8080/"
        },
        "outputId": "5fec2b59-44dd-4392-d1d8-f851a1ef2920"
      },
      "execution_count": null,
      "outputs": [
        {
          "output_type": "stream",
          "name": "stdout",
          "text": [
            "\n",
            "이름\t총점\t평균\n",
            "홍길동\t357\t89.25\n",
            "2\n",
            "가나다\t368\t92.0\n",
            "2\n"
          ]
        }
      ]
    },
    {
      "cell_type": "code",
      "source": [
        "\n",
        "## Staticmethod(정적메서드) ======================================================\n",
        "#인스턴스 메서드가 객체의 인스턴스 필드를 self를 통해 엑세스할 수 있는 반면,\n",
        "#정적 메서드는 이러한 self 파라미터를 갖지 않고 인스턴스 변수에 엑세스할 수 없다.\n",
        "#따라서, 정적 메서드는 보통 객체 필드와 독립적이지만 로직상 클래스내에 포함되는 메서드에 사용된다.\n",
        "#정적 메서드는 메서드 앞에 @staticmethod 라는 Decorator를 표시하여 해당 메서드가 정적 메서드임을 표시\n",
        "#==================================================================================\n",
        "\n",
        "class Rectangle:\n",
        "    count = 0\n",
        "    def __init__(self, width, height):\n",
        "      self.width = width\n",
        "      self.height = height\n",
        "      Rectangle.count +=1\n",
        "    # 인스턴스 메서드/함수\n",
        "    def Area(self):\n",
        "      return self.width * self.height\n",
        "    # 정적 메서드/함수\n",
        "    @staticmethod\n",
        "    def isSquare(recWidth, recHeight): # 상관없는 변수 써도 된다.\n",
        "      return recWidth == recHeight\n",
        "\n",
        "    # 클래스 메서드/함수\n",
        "    @classmethod\n",
        "    def printCount(cls):\n",
        "      print(cls.count)\n",
        "\n",
        "# 인스턴스 함수 실행\n",
        "a = Rectangle(4,3)\n",
        "print(a.Area())   #12\n",
        "\n",
        "#클래스 함수 실행\n",
        "Rectangle.printCount()  #1\n",
        "\n",
        "b=Rectangle(5,5)        #\n",
        "Rectangle.printCount()  #2\n",
        "\n",
        "\n",
        "#정적메서드 실행 # 변수 다른것과 상관 없다\n",
        "\n",
        "print(Rectangle.isSquare(4,3))\n",
        "print(Rectangle.isSquare(5,5))\n",
        "\n",
        " #실행할 때마다 숫자 올라감"
      ],
      "metadata": {
        "id": "ej3m73BkvO_x",
        "colab": {
          "base_uri": "https://localhost:8080/"
        },
        "outputId": "243bcc07-3bbd-4ef3-efeb-28d34198e864"
      },
      "execution_count": null,
      "outputs": [
        {
          "output_type": "stream",
          "name": "stdout",
          "text": [
            "12\n",
            "1\n",
            "2\n",
            "False\n",
            "True\n"
          ]
        }
      ]
    },
    {
      "cell_type": "code",
      "source": [
        "for i in 'python':\n",
        "  print(i,end=' ')"
      ],
      "metadata": {
        "colab": {
          "base_uri": "https://localhost:8080/"
        },
        "id": "p4Gya6jU23BW",
        "outputId": "c2896ce3-03fc-4895-dbe3-eea3fe83cdf1"
      },
      "execution_count": null,
      "outputs": [
        {
          "output_type": "stream",
          "name": "stdout",
          "text": [
            "p y t h o n "
          ]
        }
      ]
    },
    {
      "cell_type": "code",
      "source": [
        "\n",
        "'''\n",
        "==========================\n",
        "Module (모듈): 함수, 변수, 클래스를 모아 놓은 파일\n",
        "==========================\n",
        "'''\n",
        "# colab에서 google drive와 연결\n",
        "\n",
        "from google.colab import drive\n",
        "drive.mount('/content/drive')\n",
        "\n",
        "import os\n",
        "os.chdir(\"/content/drive/MyDrive/2023 python/\")\n",
        "\n",
        "\n",
        "\n",
        "\n",
        "#================================================\n",
        "# import 모듈이름\n",
        "import module1\n",
        "\n",
        "print(module1.add(4,3))\n",
        "print(module1.sub(4,3))\n",
        "\n"
      ],
      "metadata": {
        "colab": {
          "base_uri": "https://localhost:8080/"
        },
        "id": "M_AwrlkgkBOX",
        "outputId": "e9c52d4e-a4a9-43d0-aa97-c6eb94f23fb8"
      },
      "execution_count": null,
      "outputs": [
        {
          "output_type": "stream",
          "name": "stdout",
          "text": [
            "Drive already mounted at /content/drive; to attempt to forcibly remount, call drive.mount(\"/content/drive\", force_remount=True).\n",
            "7\n",
            "1\n"
          ]
        }
      ]
    },
    {
      "cell_type": "code",
      "source": [
        "# from 모듈이름 import 모듈함수\n",
        "from module1 import add, sub\n",
        "\n",
        "print(add(4,3))\n",
        "print(sub(4,3))\n",
        "\n",
        "from module1 import* # 모든 함수 불러오기\n",
        "\n",
        "print(add(4,3))\n",
        "print(sub(4,3))\n",
        "\n",
        "import module2      # class  불러오는 방법 !! instance\n",
        "a = module2.Math()\n",
        "print(a.solv(2))"
      ],
      "metadata": {
        "colab": {
          "base_uri": "https://localhost:8080/"
        },
        "id": "gUIrrEsOlAau",
        "outputId": "ce1f6f07-5ae6-40a7-bcbf-a6a709fd0567"
      },
      "execution_count": null,
      "outputs": [
        {
          "output_type": "stream",
          "name": "stdout",
          "text": [
            "7\n",
            "1\n",
            "7\n",
            "1\n",
            "12.566368\n"
          ]
        }
      ]
    },
    {
      "cell_type": "code",
      "source": [
        "\n",
        "##====================================\n",
        "## if__name__==\"__main__\": 의 의미\n",
        "##====================================\n",
        "\n",
        "# module2.py 파일========================\n",
        "#def add(a,b):\n",
        "#    return a+b\n",
        "#def sub(a,b):\n",
        "#    return a-b\n",
        "#print(add(1,4))\n",
        "#print(add(4,2))\n",
        "# =======================================\n",
        "\n",
        "import module12 # 바로 5,6 나옴\n",
        "\n",
        "\n",
        "\n",
        "#============================================================\n",
        "# 이를 방지하기 위해 if__name__==\"__main__\": 사용\n",
        "# __name__==\"__main__\": 현재 파일이 엔트리 포인트인지 확인할 때 사용하는 코드\n",
        "# 엔트리 포인트(entry point) 또는 메인: 프로그램의 진입점\n",
        "#===========================================================\n",
        "\n",
        "import module13 # 이것만 실행해서는 나오지 않는다\n",
        "\n",
        "print(module13.add(4,3))\n",
        "print(module13.sub(4,3))\n",
        "\n",
        "\n",
        "#===============================\n",
        "# 클래스나 변수를 포함한 모듈\n",
        "#===============================\n"
      ],
      "metadata": {
        "colab": {
          "base_uri": "https://localhost:8080/"
        },
        "id": "1ZMdyZeTl2b_",
        "outputId": "9448101b-0f54-4ad9-9942-0d907047595c"
      },
      "execution_count": null,
      "outputs": [
        {
          "output_type": "stream",
          "name": "stdout",
          "text": [
            "7\n",
            "1\n"
          ]
        }
      ]
    }
  ]
}